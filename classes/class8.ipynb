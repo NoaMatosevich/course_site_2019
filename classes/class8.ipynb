{
 "cells": [
  {
   "cell_type": "markdown",
   "metadata": {},
   "source": [
    "# Class 8 - 20.5.19"
   ]
  },
  {
   "cell_type": "markdown",
   "metadata": {},
   "source": [
    "# `pandas`, `xarray` and Modeling"
   ]
  },
  {
   "cell_type": "markdown",
   "metadata": {},
   "source": [
    "## String DataFrames"
   ]
  },
  {
   "cell_type": "markdown",
   "metadata": {},
   "source": [
    "The raw data we have can sometimes come in the form of strings. Pandas support string DataFrames and allows for manipulation of these objects.\n",
    "\n",
    "Note: I'm currently not discussing \"bioinformatic sequences\" of `ATGC` - these have a special `Seq` class in the Biopython package, the workhorse of Python bioinformatics."
   ]
  },
  {
   "cell_type": "code",
   "execution_count": 1,
   "metadata": {},
   "outputs": [
    {
     "data": {
      "text/html": [
       "<div>\n",
       "<style scoped>\n",
       "    .dataframe tbody tr th:only-of-type {\n",
       "        vertical-align: middle;\n",
       "    }\n",
       "\n",
       "    .dataframe tbody tr th {\n",
       "        vertical-align: top;\n",
       "    }\n",
       "\n",
       "    .dataframe thead th {\n",
       "        text-align: right;\n",
       "    }\n",
       "</style>\n",
       "<table border=\"1\" class=\"dataframe\">\n",
       "  <thead>\n",
       "    <tr style=\"text-align: right;\">\n",
       "      <th></th>\n",
       "      <th>alpha</th>\n",
       "    </tr>\n",
       "  </thead>\n",
       "  <tbody>\n",
       "    <tr>\n",
       "      <th>0</th>\n",
       "      <td>a</td>\n",
       "    </tr>\n",
       "    <tr>\n",
       "      <th>1</th>\n",
       "      <td>b</td>\n",
       "    </tr>\n",
       "    <tr>\n",
       "      <th>2</th>\n",
       "      <td>c</td>\n",
       "    </tr>\n",
       "    <tr>\n",
       "      <th>3</th>\n",
       "      <td>D</td>\n",
       "    </tr>\n",
       "    <tr>\n",
       "      <th>4</th>\n",
       "      <td>EFG</td>\n",
       "    </tr>\n",
       "    <tr>\n",
       "      <th>5</th>\n",
       "      <td>hij</td>\n",
       "    </tr>\n",
       "    <tr>\n",
       "      <th>6</th>\n",
       "      <td>k</td>\n",
       "    </tr>\n",
       "    <tr>\n",
       "      <th>7</th>\n",
       "      <td></td>\n",
       "    </tr>\n",
       "    <tr>\n",
       "      <th>8</th>\n",
       "      <td>LMNOP</td>\n",
       "    </tr>\n",
       "    <tr>\n",
       "      <th>9</th>\n",
       "      <td>QRST</td>\n",
       "    </tr>\n",
       "    <tr>\n",
       "      <th>10</th>\n",
       "      <td>UV</td>\n",
       "    </tr>\n",
       "    <tr>\n",
       "      <th>11</th>\n",
       "      <td>wxy</td>\n",
       "    </tr>\n",
       "    <tr>\n",
       "      <th>12</th>\n",
       "      <td>z</td>\n",
       "    </tr>\n",
       "  </tbody>\n",
       "</table>\n",
       "</div>"
      ],
      "text/plain": [
       "     alpha\n",
       "0        a\n",
       "1        b\n",
       "2        c\n",
       "3      D  \n",
       "4      EFG\n",
       "5      hij\n",
       "6        k\n",
       "7         \n",
       "8    LMNOP\n",
       "9     QRST\n",
       "10      UV\n",
       "11     wxy\n",
       "12       z"
      ]
     },
     "execution_count": 1,
     "metadata": {},
     "output_type": "execute_result"
    }
   ],
   "source": [
    "import pandas as pd\n",
    "import numpy as np\n",
    "import matplotlib.pyplot as plt\n",
    "%matplotlib inline\n",
    "\n",
    "df_str = pd.DataFrame(['a', 'b', 'c', 'D  ', 'EFG', 'hij', 'k', '', ' LMNOP', 'QRST', 'UV', ' wxy', 'z'],\n",
    "                      columns=['alpha'])\n",
    "df_str"
   ]
  },
  {
   "cell_type": "markdown",
   "metadata": {},
   "source": [
    "To access the varienty of string methods in pandas, use the `.str` attribute of a Series."
   ]
  },
  {
   "cell_type": "code",
   "execution_count": 2,
   "metadata": {},
   "outputs": [
    {
     "data": {
      "text/plain": [
       "0          a\n",
       "1          b\n",
       "2          c\n",
       "3        d  \n",
       "4        efg\n",
       "5        hij\n",
       "6          k\n",
       "7           \n",
       "8      lmnop\n",
       "9       qrst\n",
       "10        uv\n",
       "11       wxy\n",
       "12         z\n",
       "Name: alpha, dtype: object"
      ]
     },
     "execution_count": 2,
     "metadata": {},
     "output_type": "execute_result"
    }
   ],
   "source": [
    "df_str.alpha.str.lower()"
   ]
  },
  {
   "cell_type": "code",
   "execution_count": 3,
   "metadata": {},
   "outputs": [
    {
     "data": {
      "text/plain": [
       "0         a\n",
       "1         b\n",
       "2         c\n",
       "3         D\n",
       "4       EFG\n",
       "5       hij\n",
       "6         k\n",
       "7          \n",
       "8     LMNOP\n",
       "9      QRST\n",
       "10       UV\n",
       "11      wxy\n",
       "12        z\n",
       "Name: alpha, dtype: object"
      ]
     },
     "execution_count": 3,
     "metadata": {},
     "output_type": "execute_result"
    }
   ],
   "source": [
    "df_str.alpha.str.strip()  # remove whitespaces"
   ]
  },
  {
   "cell_type": "markdown",
   "metadata": {},
   "source": [
    "When parsing `.csv` data, the column names can sometimes be unorderly, having whitespaces and different capitalization conventions. Here's an example of how to make them look alike:"
   ]
  },
  {
   "cell_type": "code",
   "execution_count": 4,
   "metadata": {},
   "outputs": [
    {
     "data": {
      "text/html": [
       "<div>\n",
       "<style scoped>\n",
       "    .dataframe tbody tr th:only-of-type {\n",
       "        vertical-align: middle;\n",
       "    }\n",
       "\n",
       "    .dataframe tbody tr th {\n",
       "        vertical-align: top;\n",
       "    }\n",
       "\n",
       "    .dataframe thead th {\n",
       "        text-align: right;\n",
       "    }\n",
       "</style>\n",
       "<table border=\"1\" class=\"dataframe\">\n",
       "  <thead>\n",
       "    <tr style=\"text-align: right;\">\n",
       "      <th></th>\n",
       "      <th>Name</th>\n",
       "      <th>Age</th>\n",
       "      <th>Gender</th>\n",
       "      <th>Is single</th>\n",
       "      <th>Has children</th>\n",
       "      <th>Num of Children</th>\n",
       "    </tr>\n",
       "  </thead>\n",
       "  <tbody>\n",
       "  </tbody>\n",
       "</table>\n",
       "</div>"
      ],
      "text/plain": [
       "Empty DataFrame\n",
       "Columns: [ Name, Age ,  Gender , Is single, Has children, Num of Children]\n",
       "Index: []"
      ]
     },
     "execution_count": 4,
     "metadata": {},
     "output_type": "execute_result"
    }
   ],
   "source": [
    "# Assume we parsed this DataFrame from some third-party source\n",
    "csv_df = pd.DataFrame([], columns=[' Name', 'Age ', ' Gender ', 'Is single', 'Has children', 'Num of Children'])\n",
    "csv_df"
   ]
  },
  {
   "cell_type": "markdown",
   "metadata": {},
   "source": [
    "Due to the fact that a column of a DataFrame is a regular Index object, we can use our string methods to make it look better:"
   ]
  },
  {
   "cell_type": "code",
   "execution_count": 5,
   "metadata": {},
   "outputs": [
    {
     "data": {
      "text/html": [
       "<div>\n",
       "<style scoped>\n",
       "    .dataframe tbody tr th:only-of-type {\n",
       "        vertical-align: middle;\n",
       "    }\n",
       "\n",
       "    .dataframe tbody tr th {\n",
       "        vertical-align: top;\n",
       "    }\n",
       "\n",
       "    .dataframe thead th {\n",
       "        text-align: right;\n",
       "    }\n",
       "</style>\n",
       "<table border=\"1\" class=\"dataframe\">\n",
       "  <thead>\n",
       "    <tr style=\"text-align: right;\">\n",
       "      <th></th>\n",
       "      <th>name</th>\n",
       "      <th>age</th>\n",
       "      <th>gender</th>\n",
       "      <th>is_single</th>\n",
       "      <th>has_children</th>\n",
       "      <th>num_of_children</th>\n",
       "    </tr>\n",
       "  </thead>\n",
       "  <tbody>\n",
       "  </tbody>\n",
       "</table>\n",
       "</div>"
      ],
      "text/plain": [
       "Empty DataFrame\n",
       "Columns: [name, age, gender, is_single, has_children, num_of_children]\n",
       "Index: []"
      ]
     },
     "execution_count": 5,
     "metadata": {},
     "output_type": "execute_result"
    }
   ],
   "source": [
    "csv_df.columns = csv_df.columns.str.strip()\\\n",
    "                               .str.lower()\\\n",
    "                               .str.replace(' ', '_')\n",
    "csv_df  # stripped of leading and trailing whitespaces, \n",
    "        # removed capital letters\n",
    "        # and replaced spaces with underscores"
   ]
  },
  {
   "cell_type": "markdown",
   "metadata": {},
   "source": [
    "We can get the first letter in each entry:"
   ]
  },
  {
   "cell_type": "code",
   "execution_count": 6,
   "metadata": {},
   "outputs": [
    {
     "data": {
      "text/plain": [
       "0       a\n",
       "1       b\n",
       "2       c\n",
       "3       D\n",
       "4       E\n",
       "5       h\n",
       "6       k\n",
       "7     NaN\n",
       "8        \n",
       "9       Q\n",
       "10      U\n",
       "11       \n",
       "12      z\n",
       "Name: alpha, dtype: object"
      ]
     },
     "execution_count": 6,
     "metadata": {},
     "output_type": "execute_result"
    }
   ],
   "source": [
    "df_str.alpha.str.get(0)"
   ]
  },
  {
   "cell_type": "markdown",
   "metadata": {},
   "source": [
    "You can also use regular expressions to extract patterns from each row of the Series.\n",
    "\n",
    "In the mean time, a summary of all the string-related methods in pandas can be found [here](http://pandas.pydata.org/pandas-docs/stable/text.html). They contain most of the Pythonic string-related operations.\n",
    "\n",
    "Note: String operations aren't as fast as numerical computations since they're currently implemented mostly with Python in the backend, and not C."
   ]
  },
  {
   "cell_type": "markdown",
   "metadata": {},
   "source": [
    "## Pandas Concatenation"
   ]
  },
  {
   "cell_type": "markdown",
   "metadata": {},
   "source": [
    "Similar to numpy arrays, Series and DataFrame objects can be concatenated as well. The indexes of the pandas objects is what usually makes this operation non-trivial.\n",
    "\n",
    "While this discussion might not seem to you super important, it's actually more useful than you'd think. Thinking of our different sets of data in terms of a large database can sometimes be a good analogy.\n",
    "\n",
    "A full tutorial on this manner can be found in the official pandas tutorial, right [here](https://pandas.pydata.org/pandas-docs/stable/merging.html)."
   ]
  },
  {
   "cell_type": "code",
   "execution_count": 7,
   "metadata": {},
   "outputs": [
    {
     "data": {
      "text/plain": [
       "1    a\n",
       "2    b\n",
       "3    c\n",
       "4    d\n",
       "5    e\n",
       "6    f\n",
       "dtype: object"
      ]
     },
     "execution_count": 7,
     "metadata": {},
     "output_type": "execute_result"
    }
   ],
   "source": [
    "ser1 = pd.Series(['a', 'b', 'c'], index=[1, 2, 3])\n",
    "ser2 = pd.Series(['d', 'e', 'f'], index=[4, 5, 6])\n",
    "pd.concat([ser1, ser2])  # row-wise (axis=0) by default"
   ]
  },
  {
   "cell_type": "code",
   "execution_count": 8,
   "metadata": {},
   "outputs": [
    {
     "data": {
      "text/plain": [
       "1    a\n",
       "2    b\n",
       "3    c\n",
       "4    d\n",
       "5    e\n",
       "6    f\n",
       "dtype: object"
      ]
     },
     "execution_count": 8,
     "metadata": {},
     "output_type": "execute_result"
    }
   ],
   "source": [
    "# This simple behavior can be achieved using the append method\n",
    "ser1.append(ser2)"
   ]
  },
  {
   "cell_type": "code",
   "execution_count": 9,
   "metadata": {},
   "outputs": [
    {
     "data": {
      "text/html": [
       "<div>\n",
       "<style scoped>\n",
       "    .dataframe tbody tr th:only-of-type {\n",
       "        vertical-align: middle;\n",
       "    }\n",
       "\n",
       "    .dataframe tbody tr th {\n",
       "        vertical-align: top;\n",
       "    }\n",
       "\n",
       "    .dataframe thead th {\n",
       "        text-align: right;\n",
       "    }\n",
       "</style>\n",
       "<table border=\"1\" class=\"dataframe\">\n",
       "  <thead>\n",
       "    <tr style=\"text-align: right;\">\n",
       "      <th></th>\n",
       "      <th>let</th>\n",
       "      <th>LET</th>\n",
       "    </tr>\n",
       "  </thead>\n",
       "  <tbody>\n",
       "    <tr>\n",
       "      <th>0</th>\n",
       "      <td>a</td>\n",
       "      <td>A</td>\n",
       "    </tr>\n",
       "    <tr>\n",
       "      <th>1</th>\n",
       "      <td>b</td>\n",
       "      <td>B</td>\n",
       "    </tr>\n",
       "    <tr>\n",
       "      <th>2</th>\n",
       "      <td>c</td>\n",
       "      <td>C</td>\n",
       "    </tr>\n",
       "    <tr>\n",
       "      <th>3</th>\n",
       "      <td>d</td>\n",
       "      <td>D</td>\n",
       "    </tr>\n",
       "  </tbody>\n",
       "</table>\n",
       "</div>"
      ],
      "text/plain": [
       "  let LET\n",
       "0   a   A\n",
       "1   b   B\n",
       "2   c   C\n",
       "3   d   D"
      ]
     },
     "execution_count": 9,
     "metadata": {},
     "output_type": "execute_result"
    }
   ],
   "source": [
    "df1 = pd.DataFrame([['a', 'A'], ['b', 'B']], columns=['let', 'LET'], index=[0, 1])\n",
    "df2 = pd.DataFrame([['c', 'C'], ['d', 'D']], columns=['let', 'LET'], index=[2, 3])\n",
    "pd.concat([df1, df2])  # again, along the first axis"
   ]
  },
  {
   "cell_type": "code",
   "execution_count": 10,
   "metadata": {},
   "outputs": [
    {
     "name": "stderr",
     "output_type": "stream",
     "text": [
      "/home/hagai/miniconda3/envs/course/lib/python3.7/site-packages/ipykernel_launcher.py:3: FutureWarning: Sorting because non-concatenation axis is not aligned. A future version\n",
      "of pandas will change to not sort by default.\n",
      "\n",
      "To accept the future behavior, pass 'sort=False'.\n",
      "\n",
      "To retain the current behavior and silence the warning, pass 'sort=True'.\n",
      "\n",
      "  This is separate from the ipykernel package so we can avoid doing imports until\n"
     ]
    },
    {
     "data": {
      "text/html": [
       "<div>\n",
       "<style scoped>\n",
       "    .dataframe tbody tr th:only-of-type {\n",
       "        vertical-align: middle;\n",
       "    }\n",
       "\n",
       "    .dataframe tbody tr th {\n",
       "        vertical-align: top;\n",
       "    }\n",
       "\n",
       "    .dataframe thead th {\n",
       "        text-align: right;\n",
       "    }\n",
       "</style>\n",
       "<table border=\"1\" class=\"dataframe\">\n",
       "  <thead>\n",
       "    <tr style=\"text-align: right;\">\n",
       "      <th></th>\n",
       "      <th>LET1</th>\n",
       "      <th>LET2</th>\n",
       "      <th>let1</th>\n",
       "      <th>let2</th>\n",
       "    </tr>\n",
       "  </thead>\n",
       "  <tbody>\n",
       "    <tr>\n",
       "      <th>0</th>\n",
       "      <td>A</td>\n",
       "      <td>NaN</td>\n",
       "      <td>a</td>\n",
       "      <td>NaN</td>\n",
       "    </tr>\n",
       "    <tr>\n",
       "      <th>1</th>\n",
       "      <td>B</td>\n",
       "      <td>NaN</td>\n",
       "      <td>b</td>\n",
       "      <td>NaN</td>\n",
       "    </tr>\n",
       "    <tr>\n",
       "      <th>2</th>\n",
       "      <td>NaN</td>\n",
       "      <td>C</td>\n",
       "      <td>NaN</td>\n",
       "      <td>c</td>\n",
       "    </tr>\n",
       "    <tr>\n",
       "      <th>3</th>\n",
       "      <td>NaN</td>\n",
       "      <td>D</td>\n",
       "      <td>NaN</td>\n",
       "      <td>d</td>\n",
       "    </tr>\n",
       "  </tbody>\n",
       "</table>\n",
       "</div>"
      ],
      "text/plain": [
       "  LET1 LET2 let1 let2\n",
       "0    A  NaN    a  NaN\n",
       "1    B  NaN    b  NaN\n",
       "2  NaN    C  NaN    c\n",
       "3  NaN    D  NaN    d"
      ]
     },
     "execution_count": 10,
     "metadata": {},
     "output_type": "execute_result"
    }
   ],
   "source": [
    "df1 = pd.DataFrame([['a', 'A'], ['b', 'B']], columns=['let1', 'LET1'], index=[0, 1])\n",
    "df2 = pd.DataFrame([['c', 'C'], ['d', 'D']], columns=['let2', 'LET2'], index=[2, 3])\n",
    "pd.concat([df1, df2])  # pandas can't make the column index compatible, so it resorts to columnar concat\n",
    "# the same result is achieved by pd.concat([df1, df2], axis=1)"
   ]
  },
  {
   "cell_type": "markdown",
   "metadata": {},
   "source": [
    "If we wish to keep the integrity of the indices, we can use the `verify_integrity` keyword:"
   ]
  },
  {
   "cell_type": "code",
   "execution_count": 11,
   "metadata": {},
   "outputs": [
    {
     "ename": "ValueError",
     "evalue": "Indexes have overlapping values: Int64Index([0], dtype='int64')",
     "output_type": "error",
     "traceback": [
      "\u001b[0;31m---------------------------------------------------------------------------\u001b[0m",
      "\u001b[0;31mValueError\u001b[0m                                Traceback (most recent call last)",
      "\u001b[0;32m<ipython-input-11-6e1ecfdd699c>\u001b[0m in \u001b[0;36m<module>\u001b[0;34m\u001b[0m\n\u001b[1;32m      1\u001b[0m \u001b[0mdf1\u001b[0m \u001b[0;34m=\u001b[0m \u001b[0mpd\u001b[0m\u001b[0;34m.\u001b[0m\u001b[0mDataFrame\u001b[0m\u001b[0;34m(\u001b[0m\u001b[0;34m[\u001b[0m\u001b[0;34m[\u001b[0m\u001b[0;34m'a'\u001b[0m\u001b[0;34m,\u001b[0m \u001b[0;34m'A'\u001b[0m\u001b[0;34m]\u001b[0m\u001b[0;34m,\u001b[0m \u001b[0;34m[\u001b[0m\u001b[0;34m'b'\u001b[0m\u001b[0;34m,\u001b[0m \u001b[0;34m'B'\u001b[0m\u001b[0;34m]\u001b[0m\u001b[0;34m]\u001b[0m\u001b[0;34m,\u001b[0m \u001b[0mcolumns\u001b[0m\u001b[0;34m=\u001b[0m\u001b[0;34m[\u001b[0m\u001b[0;34m'let'\u001b[0m\u001b[0;34m,\u001b[0m \u001b[0;34m'LET'\u001b[0m\u001b[0;34m]\u001b[0m\u001b[0;34m,\u001b[0m \u001b[0mindex\u001b[0m\u001b[0;34m=\u001b[0m\u001b[0;34m[\u001b[0m\u001b[0;36m0\u001b[0m\u001b[0;34m,\u001b[0m \u001b[0;36m1\u001b[0m\u001b[0;34m]\u001b[0m\u001b[0;34m)\u001b[0m\u001b[0;34m\u001b[0m\u001b[0;34m\u001b[0m\u001b[0m\n\u001b[1;32m      2\u001b[0m \u001b[0mdf2\u001b[0m \u001b[0;34m=\u001b[0m \u001b[0mpd\u001b[0m\u001b[0;34m.\u001b[0m\u001b[0mDataFrame\u001b[0m\u001b[0;34m(\u001b[0m\u001b[0;34m[\u001b[0m\u001b[0;34m[\u001b[0m\u001b[0;34m'c'\u001b[0m\u001b[0;34m,\u001b[0m \u001b[0;34m'C'\u001b[0m\u001b[0;34m]\u001b[0m\u001b[0;34m,\u001b[0m \u001b[0;34m[\u001b[0m\u001b[0;34m'd'\u001b[0m\u001b[0;34m,\u001b[0m \u001b[0;34m'D'\u001b[0m\u001b[0;34m]\u001b[0m\u001b[0;34m]\u001b[0m\u001b[0;34m,\u001b[0m \u001b[0mcolumns\u001b[0m\u001b[0;34m=\u001b[0m\u001b[0;34m[\u001b[0m\u001b[0;34m'let'\u001b[0m\u001b[0;34m,\u001b[0m \u001b[0;34m'LET'\u001b[0m\u001b[0;34m]\u001b[0m\u001b[0;34m,\u001b[0m \u001b[0mindex\u001b[0m\u001b[0;34m=\u001b[0m\u001b[0;34m[\u001b[0m\u001b[0;36m0\u001b[0m\u001b[0;34m,\u001b[0m \u001b[0;36m2\u001b[0m\u001b[0;34m]\u001b[0m\u001b[0;34m)\u001b[0m\u001b[0;34m\u001b[0m\u001b[0;34m\u001b[0m\u001b[0m\n\u001b[0;32m----> 3\u001b[0;31m \u001b[0mpd\u001b[0m\u001b[0;34m.\u001b[0m\u001b[0mconcat\u001b[0m\u001b[0;34m(\u001b[0m\u001b[0;34m[\u001b[0m\u001b[0mdf1\u001b[0m\u001b[0;34m,\u001b[0m \u001b[0mdf2\u001b[0m\u001b[0;34m]\u001b[0m\u001b[0;34m,\u001b[0m \u001b[0mverify_integrity\u001b[0m\u001b[0;34m=\u001b[0m\u001b[0;32mTrue\u001b[0m\u001b[0;34m)\u001b[0m\u001b[0;34m\u001b[0m\u001b[0;34m\u001b[0m\u001b[0m\n\u001b[0m",
      "\u001b[0;32m~/miniconda3/envs/course/lib/python3.7/site-packages/pandas/core/reshape/concat.py\u001b[0m in \u001b[0;36mconcat\u001b[0;34m(objs, axis, join, join_axes, ignore_index, keys, levels, names, verify_integrity, sort, copy)\u001b[0m\n\u001b[1;32m    226\u001b[0m                        \u001b[0mkeys\u001b[0m\u001b[0;34m=\u001b[0m\u001b[0mkeys\u001b[0m\u001b[0;34m,\u001b[0m \u001b[0mlevels\u001b[0m\u001b[0;34m=\u001b[0m\u001b[0mlevels\u001b[0m\u001b[0;34m,\u001b[0m \u001b[0mnames\u001b[0m\u001b[0;34m=\u001b[0m\u001b[0mnames\u001b[0m\u001b[0;34m,\u001b[0m\u001b[0;34m\u001b[0m\u001b[0;34m\u001b[0m\u001b[0m\n\u001b[1;32m    227\u001b[0m                        \u001b[0mverify_integrity\u001b[0m\u001b[0;34m=\u001b[0m\u001b[0mverify_integrity\u001b[0m\u001b[0;34m,\u001b[0m\u001b[0;34m\u001b[0m\u001b[0;34m\u001b[0m\u001b[0m\n\u001b[0;32m--> 228\u001b[0;31m                        copy=copy, sort=sort)\n\u001b[0m\u001b[1;32m    229\u001b[0m     \u001b[0;32mreturn\u001b[0m \u001b[0mop\u001b[0m\u001b[0;34m.\u001b[0m\u001b[0mget_result\u001b[0m\u001b[0;34m(\u001b[0m\u001b[0;34m)\u001b[0m\u001b[0;34m\u001b[0m\u001b[0;34m\u001b[0m\u001b[0m\n\u001b[1;32m    230\u001b[0m \u001b[0;34m\u001b[0m\u001b[0m\n",
      "\u001b[0;32m~/miniconda3/envs/course/lib/python3.7/site-packages/pandas/core/reshape/concat.py\u001b[0m in \u001b[0;36m__init__\u001b[0;34m(self, objs, axis, join, join_axes, keys, levels, names, ignore_index, verify_integrity, copy, sort)\u001b[0m\n\u001b[1;32m    379\u001b[0m         \u001b[0mself\u001b[0m\u001b[0;34m.\u001b[0m\u001b[0mcopy\u001b[0m \u001b[0;34m=\u001b[0m \u001b[0mcopy\u001b[0m\u001b[0;34m\u001b[0m\u001b[0;34m\u001b[0m\u001b[0m\n\u001b[1;32m    380\u001b[0m \u001b[0;34m\u001b[0m\u001b[0m\n\u001b[0;32m--> 381\u001b[0;31m         \u001b[0mself\u001b[0m\u001b[0;34m.\u001b[0m\u001b[0mnew_axes\u001b[0m \u001b[0;34m=\u001b[0m \u001b[0mself\u001b[0m\u001b[0;34m.\u001b[0m\u001b[0m_get_new_axes\u001b[0m\u001b[0;34m(\u001b[0m\u001b[0;34m)\u001b[0m\u001b[0;34m\u001b[0m\u001b[0;34m\u001b[0m\u001b[0m\n\u001b[0m\u001b[1;32m    382\u001b[0m \u001b[0;34m\u001b[0m\u001b[0m\n\u001b[1;32m    383\u001b[0m     \u001b[0;32mdef\u001b[0m \u001b[0mget_result\u001b[0m\u001b[0;34m(\u001b[0m\u001b[0mself\u001b[0m\u001b[0;34m)\u001b[0m\u001b[0;34m:\u001b[0m\u001b[0;34m\u001b[0m\u001b[0;34m\u001b[0m\u001b[0m\n",
      "\u001b[0;32m~/miniconda3/envs/course/lib/python3.7/site-packages/pandas/core/reshape/concat.py\u001b[0m in \u001b[0;36m_get_new_axes\u001b[0;34m(self)\u001b[0m\n\u001b[1;32m    459\u001b[0m                 \u001b[0mnew_axes\u001b[0m\u001b[0;34m[\u001b[0m\u001b[0mi\u001b[0m\u001b[0;34m]\u001b[0m \u001b[0;34m=\u001b[0m \u001b[0max\u001b[0m\u001b[0;34m\u001b[0m\u001b[0;34m\u001b[0m\u001b[0m\n\u001b[1;32m    460\u001b[0m \u001b[0;34m\u001b[0m\u001b[0m\n\u001b[0;32m--> 461\u001b[0;31m         \u001b[0mnew_axes\u001b[0m\u001b[0;34m[\u001b[0m\u001b[0mself\u001b[0m\u001b[0;34m.\u001b[0m\u001b[0maxis\u001b[0m\u001b[0;34m]\u001b[0m \u001b[0;34m=\u001b[0m \u001b[0mself\u001b[0m\u001b[0;34m.\u001b[0m\u001b[0m_get_concat_axis\u001b[0m\u001b[0;34m(\u001b[0m\u001b[0;34m)\u001b[0m\u001b[0;34m\u001b[0m\u001b[0;34m\u001b[0m\u001b[0m\n\u001b[0m\u001b[1;32m    462\u001b[0m         \u001b[0;32mreturn\u001b[0m \u001b[0mnew_axes\u001b[0m\u001b[0;34m\u001b[0m\u001b[0;34m\u001b[0m\u001b[0m\n\u001b[1;32m    463\u001b[0m \u001b[0;34m\u001b[0m\u001b[0m\n",
      "\u001b[0;32m~/miniconda3/envs/course/lib/python3.7/site-packages/pandas/core/reshape/concat.py\u001b[0m in \u001b[0;36m_get_concat_axis\u001b[0;34m(self)\u001b[0m\n\u001b[1;32m    517\u001b[0m                                                   self.levels, self.names)\n\u001b[1;32m    518\u001b[0m \u001b[0;34m\u001b[0m\u001b[0m\n\u001b[0;32m--> 519\u001b[0;31m         \u001b[0mself\u001b[0m\u001b[0;34m.\u001b[0m\u001b[0m_maybe_check_integrity\u001b[0m\u001b[0;34m(\u001b[0m\u001b[0mconcat_axis\u001b[0m\u001b[0;34m)\u001b[0m\u001b[0;34m\u001b[0m\u001b[0;34m\u001b[0m\u001b[0m\n\u001b[0m\u001b[1;32m    520\u001b[0m \u001b[0;34m\u001b[0m\u001b[0m\n\u001b[1;32m    521\u001b[0m         \u001b[0;32mreturn\u001b[0m \u001b[0mconcat_axis\u001b[0m\u001b[0;34m\u001b[0m\u001b[0;34m\u001b[0m\u001b[0m\n",
      "\u001b[0;32m~/miniconda3/envs/course/lib/python3.7/site-packages/pandas/core/reshape/concat.py\u001b[0m in \u001b[0;36m_maybe_check_integrity\u001b[0;34m(self, concat_index)\u001b[0m\n\u001b[1;32m    526\u001b[0m                 \u001b[0moverlap\u001b[0m \u001b[0;34m=\u001b[0m \u001b[0mconcat_index\u001b[0m\u001b[0;34m[\u001b[0m\u001b[0mconcat_index\u001b[0m\u001b[0;34m.\u001b[0m\u001b[0mduplicated\u001b[0m\u001b[0;34m(\u001b[0m\u001b[0;34m)\u001b[0m\u001b[0;34m]\u001b[0m\u001b[0;34m.\u001b[0m\u001b[0munique\u001b[0m\u001b[0;34m(\u001b[0m\u001b[0;34m)\u001b[0m\u001b[0;34m\u001b[0m\u001b[0;34m\u001b[0m\u001b[0m\n\u001b[1;32m    527\u001b[0m                 raise ValueError('Indexes have overlapping values: '\n\u001b[0;32m--> 528\u001b[0;31m                                  '{overlap!s}'.format(overlap=overlap))\n\u001b[0m\u001b[1;32m    529\u001b[0m \u001b[0;34m\u001b[0m\u001b[0m\n\u001b[1;32m    530\u001b[0m \u001b[0;34m\u001b[0m\u001b[0m\n",
      "\u001b[0;31mValueError\u001b[0m: Indexes have overlapping values: Int64Index([0], dtype='int64')"
     ]
    }
   ],
   "source": [
    "df1 = pd.DataFrame([['a', 'A'], ['b', 'B']], columns=['let', 'LET'], index=[0, 1])\n",
    "df2 = pd.DataFrame([['c', 'C'], ['d', 'D']], columns=['let', 'LET'], index=[0, 2])\n",
    "pd.concat([df1, df2], verify_integrity=True)"
   ]
  },
  {
   "cell_type": "markdown",
   "metadata": {},
   "source": [
    "If we don't care about the indices, we can just ignore them:"
   ]
  },
  {
   "cell_type": "code",
   "execution_count": 12,
   "metadata": {},
   "outputs": [
    {
     "data": {
      "text/html": [
       "<div>\n",
       "<style scoped>\n",
       "    .dataframe tbody tr th:only-of-type {\n",
       "        vertical-align: middle;\n",
       "    }\n",
       "\n",
       "    .dataframe tbody tr th {\n",
       "        vertical-align: top;\n",
       "    }\n",
       "\n",
       "    .dataframe thead th {\n",
       "        text-align: right;\n",
       "    }\n",
       "</style>\n",
       "<table border=\"1\" class=\"dataframe\">\n",
       "  <thead>\n",
       "    <tr style=\"text-align: right;\">\n",
       "      <th></th>\n",
       "      <th>let</th>\n",
       "      <th>LET</th>\n",
       "    </tr>\n",
       "  </thead>\n",
       "  <tbody>\n",
       "    <tr>\n",
       "      <th>0</th>\n",
       "      <td>a</td>\n",
       "      <td>A</td>\n",
       "    </tr>\n",
       "    <tr>\n",
       "      <th>1</th>\n",
       "      <td>b</td>\n",
       "      <td>B</td>\n",
       "    </tr>\n",
       "    <tr>\n",
       "      <th>2</th>\n",
       "      <td>c</td>\n",
       "      <td>C</td>\n",
       "    </tr>\n",
       "    <tr>\n",
       "      <th>3</th>\n",
       "      <td>d</td>\n",
       "      <td>D</td>\n",
       "    </tr>\n",
       "  </tbody>\n",
       "</table>\n",
       "</div>"
      ],
      "text/plain": [
       "  let LET\n",
       "0   a   A\n",
       "1   b   B\n",
       "2   c   C\n",
       "3   d   D"
      ]
     },
     "execution_count": 12,
     "metadata": {},
     "output_type": "execute_result"
    }
   ],
   "source": [
    "pd.concat([df1, df2], ignore_index=True)  # creates a new index"
   ]
  },
  {
   "cell_type": "markdown",
   "metadata": {},
   "source": [
    "We can also create a new MultiIndex if it makes more sense:"
   ]
  },
  {
   "cell_type": "code",
   "execution_count": 13,
   "metadata": {},
   "outputs": [
    {
     "data": {
      "text/html": [
       "<div>\n",
       "<style scoped>\n",
       "    .dataframe tbody tr th:only-of-type {\n",
       "        vertical-align: middle;\n",
       "    }\n",
       "\n",
       "    .dataframe tbody tr th {\n",
       "        vertical-align: top;\n",
       "    }\n",
       "\n",
       "    .dataframe thead th {\n",
       "        text-align: right;\n",
       "    }\n",
       "</style>\n",
       "<table border=\"1\" class=\"dataframe\">\n",
       "  <thead>\n",
       "    <tr style=\"text-align: right;\">\n",
       "      <th></th>\n",
       "      <th></th>\n",
       "      <th>let</th>\n",
       "      <th>LET</th>\n",
       "    </tr>\n",
       "  </thead>\n",
       "  <tbody>\n",
       "    <tr>\n",
       "      <th rowspan=\"2\" valign=\"top\">df1</th>\n",
       "      <th>0</th>\n",
       "      <td>a</td>\n",
       "      <td>A</td>\n",
       "    </tr>\n",
       "    <tr>\n",
       "      <th>1</th>\n",
       "      <td>b</td>\n",
       "      <td>B</td>\n",
       "    </tr>\n",
       "    <tr>\n",
       "      <th rowspan=\"2\" valign=\"top\">df2</th>\n",
       "      <th>0</th>\n",
       "      <td>c</td>\n",
       "      <td>C</td>\n",
       "    </tr>\n",
       "    <tr>\n",
       "      <th>2</th>\n",
       "      <td>d</td>\n",
       "      <td>D</td>\n",
       "    </tr>\n",
       "  </tbody>\n",
       "</table>\n",
       "</div>"
      ],
      "text/plain": [
       "      let LET\n",
       "df1 0   a   A\n",
       "    1   b   B\n",
       "df2 0   c   C\n",
       "    2   d   D"
      ]
     },
     "execution_count": 13,
     "metadata": {},
     "output_type": "execute_result"
    }
   ],
   "source": [
    "pd.concat([df1, df2], keys=['df1', 'df2'])  # \"remembers\" the origin of the data, super useful!"
   ]
  },
  {
   "cell_type": "markdown",
   "metadata": {},
   "source": [
    "A real world example of concatenation is when we wish to join two datasets taken at different times. For example, if we conducted in day 1 measurements at times 8:00, 10:00, 14:00 and 16:00, but during day 2 we were a bit dizzy, and conducted the measurements at 8:00, 10:00, 13:00 and 16:30. On top of that, we recorded another parameter that we forget to measure at day 1.\n",
    "\n",
    "The default concatenation behavior of pandas keeps all the data. In database terms (SQL people rejoice!) it's called an \"outer join\":"
   ]
  },
  {
   "cell_type": "code",
   "execution_count": 14,
   "metadata": {},
   "outputs": [
    {
     "data": {
      "text/html": [
       "<div>\n",
       "<style scoped>\n",
       "    .dataframe tbody tr th:only-of-type {\n",
       "        vertical-align: middle;\n",
       "    }\n",
       "\n",
       "    .dataframe tbody tr th {\n",
       "        vertical-align: top;\n",
       "    }\n",
       "\n",
       "    .dataframe thead th {\n",
       "        text-align: right;\n",
       "    }\n",
       "</style>\n",
       "<table border=\"1\" class=\"dataframe\">\n",
       "  <thead>\n",
       "    <tr style=\"text-align: right;\">\n",
       "      <th></th>\n",
       "      <th>temp</th>\n",
       "      <th>humid</th>\n",
       "    </tr>\n",
       "  </thead>\n",
       "  <tbody>\n",
       "    <tr>\n",
       "      <th>1900-01-01 08:00:00</th>\n",
       "      <td>36.6</td>\n",
       "      <td>30.0</td>\n",
       "    </tr>\n",
       "    <tr>\n",
       "      <th>1900-01-01 10:00:00</th>\n",
       "      <td>36.7</td>\n",
       "      <td>31.0</td>\n",
       "    </tr>\n",
       "    <tr>\n",
       "      <th>1900-01-01 14:00:00</th>\n",
       "      <td>37.0</td>\n",
       "      <td>30.4</td>\n",
       "    </tr>\n",
       "    <tr>\n",
       "      <th>1900-01-01 16:00:00</th>\n",
       "      <td>36.8</td>\n",
       "      <td>30.4</td>\n",
       "    </tr>\n",
       "  </tbody>\n",
       "</table>\n",
       "</div>"
      ],
      "text/plain": [
       "                     temp  humid\n",
       "1900-01-01 08:00:00  36.6   30.0\n",
       "1900-01-01 10:00:00  36.7   31.0\n",
       "1900-01-01 14:00:00  37.0   30.4\n",
       "1900-01-01 16:00:00  36.8   30.4"
      ]
     },
     "execution_count": 14,
     "metadata": {},
     "output_type": "execute_result"
    }
   ],
   "source": [
    "# Prepare mock data\n",
    "times_day1 = pd.to_datetime(['08:00', '10:00', '14:00', '16:00'], format='%H:%M')\n",
    "times_day2 = pd.to_datetime(['08:00', '10:00', '13:00', '16:30'], format='%H:%M')\n",
    "\n",
    "temp_day1 = [36.6, 36.7, 37.0, 36.8]\n",
    "temp_day2 = [35.9, 36.1, 36.5, 36.2]\n",
    "\n",
    "humid_day1 = [30., 31., 30.4, 30.4]\n",
    "humid_day2 = [32.2, 34.2, 30.9, 32.6]\n",
    "\n",
    "light_day2 = [200, 130, 240, 210]\n",
    "\n",
    "data_day1 = pd.DataFrame({'temp': temp_day1, 'humid': humid_day1}, index=times_day1)\n",
    "data_day2 = pd.DataFrame({'temp': temp_day2, 'humid': humid_day2,\n",
    "                          'light': light_day2}, index=times_day2)\n",
    "data_day1"
   ]
  },
  {
   "cell_type": "code",
   "execution_count": 15,
   "metadata": {},
   "outputs": [
    {
     "data": {
      "text/html": [
       "<div>\n",
       "<style scoped>\n",
       "    .dataframe tbody tr th:only-of-type {\n",
       "        vertical-align: middle;\n",
       "    }\n",
       "\n",
       "    .dataframe tbody tr th {\n",
       "        vertical-align: top;\n",
       "    }\n",
       "\n",
       "    .dataframe thead th {\n",
       "        text-align: right;\n",
       "    }\n",
       "</style>\n",
       "<table border=\"1\" class=\"dataframe\">\n",
       "  <thead>\n",
       "    <tr style=\"text-align: right;\">\n",
       "      <th></th>\n",
       "      <th>temp</th>\n",
       "      <th>humid</th>\n",
       "      <th>light</th>\n",
       "    </tr>\n",
       "  </thead>\n",
       "  <tbody>\n",
       "    <tr>\n",
       "      <th>1900-01-01 08:00:00</th>\n",
       "      <td>35.9</td>\n",
       "      <td>32.2</td>\n",
       "      <td>200</td>\n",
       "    </tr>\n",
       "    <tr>\n",
       "      <th>1900-01-01 10:00:00</th>\n",
       "      <td>36.1</td>\n",
       "      <td>34.2</td>\n",
       "      <td>130</td>\n",
       "    </tr>\n",
       "    <tr>\n",
       "      <th>1900-01-01 13:00:00</th>\n",
       "      <td>36.5</td>\n",
       "      <td>30.9</td>\n",
       "      <td>240</td>\n",
       "    </tr>\n",
       "    <tr>\n",
       "      <th>1900-01-01 16:30:00</th>\n",
       "      <td>36.2</td>\n",
       "      <td>32.6</td>\n",
       "      <td>210</td>\n",
       "    </tr>\n",
       "  </tbody>\n",
       "</table>\n",
       "</div>"
      ],
      "text/plain": [
       "                     temp  humid  light\n",
       "1900-01-01 08:00:00  35.9   32.2    200\n",
       "1900-01-01 10:00:00  36.1   34.2    130\n",
       "1900-01-01 13:00:00  36.5   30.9    240\n",
       "1900-01-01 16:30:00  36.2   32.6    210"
      ]
     },
     "execution_count": 15,
     "metadata": {},
     "output_type": "execute_result"
    }
   ],
   "source": [
    "data_day2"
   ]
  },
  {
   "cell_type": "code",
   "execution_count": 16,
   "metadata": {},
   "outputs": [
    {
     "name": "stderr",
     "output_type": "stream",
     "text": [
      "/home/hagai/miniconda3/envs/course/lib/python3.7/site-packages/ipykernel_launcher.py:2: FutureWarning: Sorting because non-concatenation axis is not aligned. A future version\n",
      "of pandas will change to not sort by default.\n",
      "\n",
      "To accept the future behavior, pass 'sort=False'.\n",
      "\n",
      "To retain the current behavior and silence the warning, pass 'sort=True'.\n",
      "\n",
      "  \n"
     ]
    },
    {
     "data": {
      "text/html": [
       "<div>\n",
       "<style scoped>\n",
       "    .dataframe tbody tr th:only-of-type {\n",
       "        vertical-align: middle;\n",
       "    }\n",
       "\n",
       "    .dataframe tbody tr th {\n",
       "        vertical-align: top;\n",
       "    }\n",
       "\n",
       "    .dataframe thead th {\n",
       "        text-align: right;\n",
       "    }\n",
       "</style>\n",
       "<table border=\"1\" class=\"dataframe\">\n",
       "  <thead>\n",
       "    <tr style=\"text-align: right;\">\n",
       "      <th></th>\n",
       "      <th>humid</th>\n",
       "      <th>light</th>\n",
       "      <th>temp</th>\n",
       "    </tr>\n",
       "  </thead>\n",
       "  <tbody>\n",
       "    <tr>\n",
       "      <th>1900-01-01 08:00:00</th>\n",
       "      <td>30.0</td>\n",
       "      <td>NaN</td>\n",
       "      <td>36.6</td>\n",
       "    </tr>\n",
       "    <tr>\n",
       "      <th>1900-01-01 10:00:00</th>\n",
       "      <td>31.0</td>\n",
       "      <td>NaN</td>\n",
       "      <td>36.7</td>\n",
       "    </tr>\n",
       "    <tr>\n",
       "      <th>1900-01-01 14:00:00</th>\n",
       "      <td>30.4</td>\n",
       "      <td>NaN</td>\n",
       "      <td>37.0</td>\n",
       "    </tr>\n",
       "    <tr>\n",
       "      <th>1900-01-01 16:00:00</th>\n",
       "      <td>30.4</td>\n",
       "      <td>NaN</td>\n",
       "      <td>36.8</td>\n",
       "    </tr>\n",
       "    <tr>\n",
       "      <th>1900-01-01 08:00:00</th>\n",
       "      <td>32.2</td>\n",
       "      <td>200.0</td>\n",
       "      <td>35.9</td>\n",
       "    </tr>\n",
       "    <tr>\n",
       "      <th>1900-01-01 10:00:00</th>\n",
       "      <td>34.2</td>\n",
       "      <td>130.0</td>\n",
       "      <td>36.1</td>\n",
       "    </tr>\n",
       "    <tr>\n",
       "      <th>1900-01-01 13:00:00</th>\n",
       "      <td>30.9</td>\n",
       "      <td>240.0</td>\n",
       "      <td>36.5</td>\n",
       "    </tr>\n",
       "    <tr>\n",
       "      <th>1900-01-01 16:30:00</th>\n",
       "      <td>32.6</td>\n",
       "      <td>210.0</td>\n",
       "      <td>36.2</td>\n",
       "    </tr>\n",
       "  </tbody>\n",
       "</table>\n",
       "</div>"
      ],
      "text/plain": [
       "                     humid  light  temp\n",
       "1900-01-01 08:00:00   30.0    NaN  36.6\n",
       "1900-01-01 10:00:00   31.0    NaN  36.7\n",
       "1900-01-01 14:00:00   30.4    NaN  37.0\n",
       "1900-01-01 16:00:00   30.4    NaN  36.8\n",
       "1900-01-01 08:00:00   32.2  200.0  35.9\n",
       "1900-01-01 10:00:00   34.2  130.0  36.1\n",
       "1900-01-01 13:00:00   30.9  240.0  36.5\n",
       "1900-01-01 16:30:00   32.6  210.0  36.2"
      ]
     },
     "execution_count": 16,
     "metadata": {},
     "output_type": "execute_result"
    }
   ],
   "source": [
    "# Outer join\n",
    "pd.concat([data_day1, data_day2], join='outer')  # outer join is the default behavior  "
   ]
  },
  {
   "cell_type": "markdown",
   "metadata": {},
   "source": [
    "To take the intersection of the columns we have to use inner join. The intersection is all the columns that are common in all datasets."
   ]
  },
  {
   "cell_type": "code",
   "execution_count": 17,
   "metadata": {},
   "outputs": [
    {
     "data": {
      "text/html": [
       "<div>\n",
       "<style scoped>\n",
       "    .dataframe tbody tr th:only-of-type {\n",
       "        vertical-align: middle;\n",
       "    }\n",
       "\n",
       "    .dataframe tbody tr th {\n",
       "        vertical-align: top;\n",
       "    }\n",
       "\n",
       "    .dataframe thead th {\n",
       "        text-align: right;\n",
       "    }\n",
       "</style>\n",
       "<table border=\"1\" class=\"dataframe\">\n",
       "  <thead>\n",
       "    <tr style=\"text-align: right;\">\n",
       "      <th></th>\n",
       "      <th>temp</th>\n",
       "      <th>humid</th>\n",
       "    </tr>\n",
       "  </thead>\n",
       "  <tbody>\n",
       "    <tr>\n",
       "      <th>1900-01-01 08:00:00</th>\n",
       "      <td>36.6</td>\n",
       "      <td>30.0</td>\n",
       "    </tr>\n",
       "    <tr>\n",
       "      <th>1900-01-01 10:00:00</th>\n",
       "      <td>36.7</td>\n",
       "      <td>31.0</td>\n",
       "    </tr>\n",
       "    <tr>\n",
       "      <th>1900-01-01 14:00:00</th>\n",
       "      <td>37.0</td>\n",
       "      <td>30.4</td>\n",
       "    </tr>\n",
       "    <tr>\n",
       "      <th>1900-01-01 16:00:00</th>\n",
       "      <td>36.8</td>\n",
       "      <td>30.4</td>\n",
       "    </tr>\n",
       "    <tr>\n",
       "      <th>1900-01-01 08:00:00</th>\n",
       "      <td>35.9</td>\n",
       "      <td>32.2</td>\n",
       "    </tr>\n",
       "    <tr>\n",
       "      <th>1900-01-01 10:00:00</th>\n",
       "      <td>36.1</td>\n",
       "      <td>34.2</td>\n",
       "    </tr>\n",
       "    <tr>\n",
       "      <th>1900-01-01 13:00:00</th>\n",
       "      <td>36.5</td>\n",
       "      <td>30.9</td>\n",
       "    </tr>\n",
       "    <tr>\n",
       "      <th>1900-01-01 16:30:00</th>\n",
       "      <td>36.2</td>\n",
       "      <td>32.6</td>\n",
       "    </tr>\n",
       "  </tbody>\n",
       "</table>\n",
       "</div>"
      ],
      "text/plain": [
       "                     temp  humid\n",
       "1900-01-01 08:00:00  36.6   30.0\n",
       "1900-01-01 10:00:00  36.7   31.0\n",
       "1900-01-01 14:00:00  37.0   30.4\n",
       "1900-01-01 16:00:00  36.8   30.4\n",
       "1900-01-01 08:00:00  35.9   32.2\n",
       "1900-01-01 10:00:00  36.1   34.2\n",
       "1900-01-01 13:00:00  36.5   30.9\n",
       "1900-01-01 16:30:00  36.2   32.6"
      ]
     },
     "execution_count": 17,
     "metadata": {},
     "output_type": "execute_result"
    }
   ],
   "source": [
    "# Inner join - the excess data column was dropped (index is still not unique)\n",
    "pd.concat([data_day1, data_day2], join='inner')"
   ]
  },
  {
   "cell_type": "markdown",
   "metadata": {},
   "source": [
    "One can also specify the exact columns that should be the result of the join operation using the `columns` keyword. All in all, this basic functionality is easy to understand and allows for high flexibility. If you wish to conduct a more sophisticated join operation, you should use `pd.merge()`, as we'll show below."
   ]
  },
  {
   "cell_type": "markdown",
   "metadata": {},
   "source": [
    "Finally, joining on the columns will require the indices to be unique:"
   ]
  },
  {
   "cell_type": "code",
   "execution_count": 18,
   "metadata": {},
   "outputs": [
    {
     "data": {
      "text/html": [
       "<div>\n",
       "<style scoped>\n",
       "    .dataframe tbody tr th:only-of-type {\n",
       "        vertical-align: middle;\n",
       "    }\n",
       "\n",
       "    .dataframe tbody tr th {\n",
       "        vertical-align: top;\n",
       "    }\n",
       "\n",
       "    .dataframe thead th {\n",
       "        text-align: right;\n",
       "    }\n",
       "</style>\n",
       "<table border=\"1\" class=\"dataframe\">\n",
       "  <thead>\n",
       "    <tr style=\"text-align: right;\">\n",
       "      <th></th>\n",
       "      <th>temp</th>\n",
       "      <th>humid</th>\n",
       "      <th>temp</th>\n",
       "      <th>humid</th>\n",
       "      <th>light</th>\n",
       "    </tr>\n",
       "  </thead>\n",
       "  <tbody>\n",
       "    <tr>\n",
       "      <th>1900-01-01 08:00:00</th>\n",
       "      <td>36.6</td>\n",
       "      <td>30.0</td>\n",
       "      <td>35.9</td>\n",
       "      <td>32.2</td>\n",
       "      <td>200</td>\n",
       "    </tr>\n",
       "    <tr>\n",
       "      <th>1900-01-01 10:00:00</th>\n",
       "      <td>36.7</td>\n",
       "      <td>31.0</td>\n",
       "      <td>36.1</td>\n",
       "      <td>34.2</td>\n",
       "      <td>130</td>\n",
       "    </tr>\n",
       "  </tbody>\n",
       "</table>\n",
       "</div>"
      ],
      "text/plain": [
       "                     temp  humid  temp  humid  light\n",
       "1900-01-01 08:00:00  36.6   30.0  35.9   32.2    200\n",
       "1900-01-01 10:00:00  36.7   31.0  36.1   34.2    130"
      ]
     },
     "execution_count": 18,
     "metadata": {},
     "output_type": "execute_result"
    }
   ],
   "source": [
    "pd.concat([data_day1, data_day2], join='inner', axis='columns')"
   ]
  },
  {
   "cell_type": "markdown",
   "metadata": {},
   "source": [
    "This doesn't look so good. The columns are a mess and we're barely left with any data. The right operation for this job is a `pd.merge`.\n",
    "\n",
    "Merging two DataFrames into one is done in the following manner:"
   ]
  },
  {
   "cell_type": "code",
   "execution_count": 19,
   "metadata": {},
   "outputs": [
    {
     "data": {
      "text/html": [
       "<div>\n",
       "<style scoped>\n",
       "    .dataframe tbody tr th:only-of-type {\n",
       "        vertical-align: middle;\n",
       "    }\n",
       "\n",
       "    .dataframe tbody tr th {\n",
       "        vertical-align: top;\n",
       "    }\n",
       "\n",
       "    .dataframe thead th {\n",
       "        text-align: right;\n",
       "    }\n",
       "</style>\n",
       "<table border=\"1\" class=\"dataframe\">\n",
       "  <thead>\n",
       "    <tr style=\"text-align: right;\">\n",
       "      <th></th>\n",
       "      <th>temp</th>\n",
       "      <th>humid</th>\n",
       "    </tr>\n",
       "  </thead>\n",
       "  <tbody>\n",
       "    <tr>\n",
       "      <th>1900-01-01 08:00:00</th>\n",
       "      <td>36.6</td>\n",
       "      <td>30.0</td>\n",
       "    </tr>\n",
       "    <tr>\n",
       "      <th>1900-01-01 10:00:00</th>\n",
       "      <td>36.7</td>\n",
       "      <td>31.0</td>\n",
       "    </tr>\n",
       "    <tr>\n",
       "      <th>1900-01-01 14:00:00</th>\n",
       "      <td>37.0</td>\n",
       "      <td>30.4</td>\n",
       "    </tr>\n",
       "    <tr>\n",
       "      <th>1900-01-01 16:00:00</th>\n",
       "      <td>36.8</td>\n",
       "      <td>30.4</td>\n",
       "    </tr>\n",
       "  </tbody>\n",
       "</table>\n",
       "</div>"
      ],
      "text/plain": [
       "                     temp  humid\n",
       "1900-01-01 08:00:00  36.6   30.0\n",
       "1900-01-01 10:00:00  36.7   31.0\n",
       "1900-01-01 14:00:00  37.0   30.4\n",
       "1900-01-01 16:00:00  36.8   30.4"
      ]
     },
     "execution_count": 19,
     "metadata": {},
     "output_type": "execute_result"
    }
   ],
   "source": [
    "times = pd.to_datetime(['08:00', '10:00', '14:00', '16:00'], format='%H:%M')\n",
    "\n",
    "temp_day1 = [36.6, 36.7, 37.0, 36.8]\n",
    "humid_day1 = [30., 31., 30.4, 30.4]\n",
    "\n",
    "df_temp = pd.DataFrame({'temp': temp_day1}, index=times)\n",
    "df_humid = pd.DataFrame({'humid': humid_day1}, index=times)\n",
    "\n",
    "pd.merge(df_temp, df_humid, right_index=True, left_index=True)  # merge with indices"
   ]
  },
  {
   "cell_type": "code",
   "execution_count": 20,
   "metadata": {},
   "outputs": [
    {
     "data": {
      "text/html": [
       "<div>\n",
       "<style scoped>\n",
       "    .dataframe tbody tr th:only-of-type {\n",
       "        vertical-align: middle;\n",
       "    }\n",
       "\n",
       "    .dataframe tbody tr th {\n",
       "        vertical-align: top;\n",
       "    }\n",
       "\n",
       "    .dataframe thead th {\n",
       "        text-align: right;\n",
       "    }\n",
       "</style>\n",
       "<table border=\"1\" class=\"dataframe\">\n",
       "  <thead>\n",
       "    <tr style=\"text-align: right;\">\n",
       "      <th></th>\n",
       "      <th>temp</th>\n",
       "      <th>humid</th>\n",
       "    </tr>\n",
       "  </thead>\n",
       "  <tbody>\n",
       "    <tr>\n",
       "      <th>1900-01-01 08:00:00</th>\n",
       "      <td>36.6</td>\n",
       "      <td>30.0</td>\n",
       "    </tr>\n",
       "    <tr>\n",
       "      <th>1900-01-01 10:00:00</th>\n",
       "      <td>36.7</td>\n",
       "      <td>31.0</td>\n",
       "    </tr>\n",
       "    <tr>\n",
       "      <th>1900-01-01 14:00:00</th>\n",
       "      <td>37.0</td>\n",
       "      <td>30.4</td>\n",
       "    </tr>\n",
       "    <tr>\n",
       "      <th>1900-01-01 16:00:00</th>\n",
       "      <td>36.8</td>\n",
       "      <td>30.4</td>\n",
       "    </tr>\n",
       "  </tbody>\n",
       "</table>\n",
       "</div>"
      ],
      "text/plain": [
       "                     temp  humid\n",
       "1900-01-01 08:00:00  36.6   30.0\n",
       "1900-01-01 10:00:00  36.7   31.0\n",
       "1900-01-01 14:00:00  37.0   30.4\n",
       "1900-01-01 16:00:00  36.8   30.4"
      ]
     },
     "execution_count": 20,
     "metadata": {},
     "output_type": "execute_result"
    }
   ],
   "source": [
    "# Slightly different data example\n",
    "temp_day1 = [36.6, 36.7, 37.0, 36.8]\n",
    "humid_day1 = [30., 31., 30.4, 30.4]\n",
    "\n",
    "temp_day2 = [37.1, 36.6, 36.6, 36.7]\n",
    "\n",
    "df_day1 = pd.DataFrame({'temp': temp_day1, 'humid': humid_day1}, index=times)\n",
    "df_day2 = pd.DataFrame({'temp': temp_day2}, index=times)\n",
    "\n",
    "df_day1"
   ]
  },
  {
   "cell_type": "code",
   "execution_count": 21,
   "metadata": {},
   "outputs": [
    {
     "data": {
      "text/html": [
       "<div>\n",
       "<style scoped>\n",
       "    .dataframe tbody tr th:only-of-type {\n",
       "        vertical-align: middle;\n",
       "    }\n",
       "\n",
       "    .dataframe tbody tr th {\n",
       "        vertical-align: top;\n",
       "    }\n",
       "\n",
       "    .dataframe thead th {\n",
       "        text-align: right;\n",
       "    }\n",
       "</style>\n",
       "<table border=\"1\" class=\"dataframe\">\n",
       "  <thead>\n",
       "    <tr style=\"text-align: right;\">\n",
       "      <th></th>\n",
       "      <th>temp_x</th>\n",
       "      <th>humid</th>\n",
       "      <th>temp_y</th>\n",
       "    </tr>\n",
       "  </thead>\n",
       "  <tbody>\n",
       "    <tr>\n",
       "      <th>1900-01-01 08:00:00</th>\n",
       "      <td>36.6</td>\n",
       "      <td>30.0</td>\n",
       "      <td>37.1</td>\n",
       "    </tr>\n",
       "    <tr>\n",
       "      <th>1900-01-01 10:00:00</th>\n",
       "      <td>36.7</td>\n",
       "      <td>31.0</td>\n",
       "      <td>36.6</td>\n",
       "    </tr>\n",
       "    <tr>\n",
       "      <th>1900-01-01 14:00:00</th>\n",
       "      <td>37.0</td>\n",
       "      <td>30.4</td>\n",
       "      <td>36.6</td>\n",
       "    </tr>\n",
       "    <tr>\n",
       "      <th>1900-01-01 16:00:00</th>\n",
       "      <td>36.8</td>\n",
       "      <td>30.4</td>\n",
       "      <td>36.7</td>\n",
       "    </tr>\n",
       "  </tbody>\n",
       "</table>\n",
       "</div>"
      ],
      "text/plain": [
       "                     temp_x  humid  temp_y\n",
       "1900-01-01 08:00:00    36.6   30.0    37.1\n",
       "1900-01-01 10:00:00    36.7   31.0    36.6\n",
       "1900-01-01 14:00:00    37.0   30.4    36.6\n",
       "1900-01-01 16:00:00    36.8   30.4    36.7"
      ]
     },
     "execution_count": 21,
     "metadata": {},
     "output_type": "execute_result"
    }
   ],
   "source": [
    "# Merging (as a method, not a procedure)\n",
    "df_day1.merge(df_day2, left_index=True, right_index=True)\n",
    "# This merge \"remembers\" the origin of the data, the \"suffixes\" keyword allows us to determine the new suffix"
   ]
  },
  {
   "cell_type": "code",
   "execution_count": 22,
   "metadata": {},
   "outputs": [
    {
     "data": {
      "text/html": [
       "<div>\n",
       "<style scoped>\n",
       "    .dataframe tbody tr th:only-of-type {\n",
       "        vertical-align: middle;\n",
       "    }\n",
       "\n",
       "    .dataframe tbody tr th {\n",
       "        vertical-align: top;\n",
       "    }\n",
       "\n",
       "    .dataframe thead th {\n",
       "        text-align: right;\n",
       "    }\n",
       "</style>\n",
       "<table border=\"1\" class=\"dataframe\">\n",
       "  <thead>\n",
       "    <tr style=\"text-align: right;\">\n",
       "      <th></th>\n",
       "      <th>id</th>\n",
       "      <th>blood_vol</th>\n",
       "    </tr>\n",
       "  </thead>\n",
       "  <tbody>\n",
       "    <tr>\n",
       "      <th>0</th>\n",
       "      <td>511</td>\n",
       "      <td>67</td>\n",
       "    </tr>\n",
       "    <tr>\n",
       "      <th>1</th>\n",
       "      <td>512</td>\n",
       "      <td>66</td>\n",
       "    </tr>\n",
       "    <tr>\n",
       "      <th>2</th>\n",
       "      <td>513</td>\n",
       "      <td>89</td>\n",
       "    </tr>\n",
       "    <tr>\n",
       "      <th>3</th>\n",
       "      <td>514</td>\n",
       "      <td>92</td>\n",
       "    </tr>\n",
       "  </tbody>\n",
       "</table>\n",
       "</div>"
      ],
      "text/plain": [
       "    id  blood_vol\n",
       "0  511         67\n",
       "1  512         66\n",
       "2  513         89\n",
       "3  514         92"
      ]
     },
     "execution_count": 22,
     "metadata": {},
     "output_type": "execute_result"
    }
   ],
   "source": [
    "# One more example, more similar to traditional databases\n",
    "mouse_id = [511, 512, 513, 514]\n",
    "meas1 = [67, 66, 89, 92]\n",
    "meas2 = [45, 45, 65, 61]\n",
    "\n",
    "data1 = pd.DataFrame({'id': mouse_id, 'blood_vol': meas1})\n",
    "data2 = pd.DataFrame({'id': mouse_id, 'monocytes': meas2})\n",
    "data1"
   ]
  },
  {
   "cell_type": "code",
   "execution_count": 23,
   "metadata": {},
   "outputs": [
    {
     "data": {
      "text/html": [
       "<div>\n",
       "<style scoped>\n",
       "    .dataframe tbody tr th:only-of-type {\n",
       "        vertical-align: middle;\n",
       "    }\n",
       "\n",
       "    .dataframe tbody tr th {\n",
       "        vertical-align: top;\n",
       "    }\n",
       "\n",
       "    .dataframe thead th {\n",
       "        text-align: right;\n",
       "    }\n",
       "</style>\n",
       "<table border=\"1\" class=\"dataframe\">\n",
       "  <thead>\n",
       "    <tr style=\"text-align: right;\">\n",
       "      <th></th>\n",
       "      <th>id</th>\n",
       "      <th>blood_vol</th>\n",
       "      <th>monocytes</th>\n",
       "    </tr>\n",
       "  </thead>\n",
       "  <tbody>\n",
       "    <tr>\n",
       "      <th>0</th>\n",
       "      <td>511</td>\n",
       "      <td>67</td>\n",
       "      <td>45</td>\n",
       "    </tr>\n",
       "    <tr>\n",
       "      <th>1</th>\n",
       "      <td>512</td>\n",
       "      <td>66</td>\n",
       "      <td>45</td>\n",
       "    </tr>\n",
       "    <tr>\n",
       "      <th>2</th>\n",
       "      <td>513</td>\n",
       "      <td>89</td>\n",
       "      <td>65</td>\n",
       "    </tr>\n",
       "    <tr>\n",
       "      <th>3</th>\n",
       "      <td>514</td>\n",
       "      <td>92</td>\n",
       "      <td>61</td>\n",
       "    </tr>\n",
       "  </tbody>\n",
       "</table>\n",
       "</div>"
      ],
      "text/plain": [
       "    id  blood_vol  monocytes\n",
       "0  511         67         45\n",
       "1  512         66         45\n",
       "2  513         89         65\n",
       "3  514         92         61"
      ]
     },
     "execution_count": 23,
     "metadata": {},
     "output_type": "execute_result"
    }
   ],
   "source": [
    "data1.merge(data2)  # merge identified that the only \"key\" connecting the two tables was the 'id' key"
   ]
  },
  {
   "cell_type": "markdown",
   "metadata": {},
   "source": [
    "Database-like operation is a very broad topic in pandas, and it's another great example of why should you keep your data in a DataFrame.\n",
    "\n",
    "If you feel like this join and merge operation might help you, don't hesitate to consult the official documents on this topic, linked [here](https://pandas.pydata.org/pandas-docs/stable/merging.html) (again)."
   ]
  },
  {
   "cell_type": "markdown",
   "metadata": {},
   "source": [
    "## GroupBy"
   ]
  },
  {
   "cell_type": "markdown",
   "metadata": {},
   "source": [
    "Yet another SQL-like feature that pandas posses is the group-by operation, sometimes known as \"split-apply-combine\"."
   ]
  },
  {
   "cell_type": "code",
   "execution_count": 24,
   "metadata": {},
   "outputs": [
    {
     "data": {
      "text/html": [
       "<div>\n",
       "<style scoped>\n",
       "    .dataframe tbody tr th:only-of-type {\n",
       "        vertical-align: middle;\n",
       "    }\n",
       "\n",
       "    .dataframe tbody tr th {\n",
       "        vertical-align: top;\n",
       "    }\n",
       "\n",
       "    .dataframe thead th {\n",
       "        text-align: right;\n",
       "    }\n",
       "</style>\n",
       "<table border=\"1\" class=\"dataframe\">\n",
       "  <thead>\n",
       "    <tr style=\"text-align: right;\">\n",
       "      <th></th>\n",
       "      <th>dead</th>\n",
       "      <th>took_med</th>\n",
       "      <th>val1</th>\n",
       "      <th>val2</th>\n",
       "    </tr>\n",
       "  </thead>\n",
       "  <tbody>\n",
       "    <tr>\n",
       "      <th>100</th>\n",
       "      <td>True</td>\n",
       "      <td>False</td>\n",
       "      <td>0.977566</td>\n",
       "      <td>0.094403</td>\n",
       "    </tr>\n",
       "    <tr>\n",
       "      <th>101</th>\n",
       "      <td>True</td>\n",
       "      <td>True</td>\n",
       "      <td>0.433096</td>\n",
       "      <td>0.377533</td>\n",
       "    </tr>\n",
       "    <tr>\n",
       "      <th>102</th>\n",
       "      <td>False</td>\n",
       "      <td>True</td>\n",
       "      <td>0.226830</td>\n",
       "      <td>0.631251</td>\n",
       "    </tr>\n",
       "    <tr>\n",
       "      <th>106</th>\n",
       "      <td>True</td>\n",
       "      <td>False</td>\n",
       "      <td>0.851649</td>\n",
       "      <td>0.697016</td>\n",
       "    </tr>\n",
       "    <tr>\n",
       "      <th>108</th>\n",
       "      <td>False</td>\n",
       "      <td>False</td>\n",
       "      <td>0.680675</td>\n",
       "      <td>0.379838</td>\n",
       "    </tr>\n",
       "    <tr>\n",
       "      <th>109</th>\n",
       "      <td>False</td>\n",
       "      <td>True</td>\n",
       "      <td>0.310411</td>\n",
       "      <td>0.970776</td>\n",
       "    </tr>\n",
       "  </tbody>\n",
       "</table>\n",
       "</div>"
      ],
      "text/plain": [
       "      dead  took_med      val1      val2\n",
       "100   True     False  0.977566  0.094403\n",
       "101   True      True  0.433096  0.377533\n",
       "102  False      True  0.226830  0.631251\n",
       "106   True     False  0.851649  0.697016\n",
       "108  False     False  0.680675  0.379838\n",
       "109  False      True  0.310411  0.970776"
      ]
     },
     "execution_count": 24,
     "metadata": {},
     "output_type": "execute_result"
    }
   ],
   "source": [
    "# Mock data\n",
    "subject = [100, 101, 102, 106, 108, 109]\n",
    "dead = [True, True, False, True, False, False]\n",
    "took_med = [False, True, True, False, False, True]\n",
    "val1 = np.random.random(6)\n",
    "val2 = np.random.random(6)\n",
    "df = pd.DataFrame({'dead': dead, 'took_med': took_med,\n",
    "                   'val1': val1, 'val2': val2}, index=subject)\n",
    "df"
   ]
  },
  {
   "cell_type": "markdown",
   "metadata": {},
   "source": [
    "The most sensible thing to do is to group by either the \"dead\" or the \"took_med\" column (or both). This is the \"split\" part."
   ]
  },
  {
   "cell_type": "code",
   "execution_count": 25,
   "metadata": {},
   "outputs": [
    {
     "data": {
      "text/plain": [
       "<pandas.core.groupby.generic.DataFrameGroupBy object at 0x7fe8f9d734a8>"
      ]
     },
     "execution_count": 25,
     "metadata": {},
     "output_type": "execute_result"
    }
   ],
   "source": [
    "grouped = df.groupby('dead')\n",
    "grouped  # DataFrameGroupBy object - intermediate object ready to be evaluated"
   ]
  },
  {
   "cell_type": "markdown",
   "metadata": {},
   "source": [
    "This intermediate object is an internal pandas representation which should allow it to run very fast computation the moment we want to actually _know_ something about these groups. Assuming we want the mean of `val1`, as long as we won't specifically write `grouped.mean()` pandas will do very little in terms of actual computation. It's called \"lazy evaluation\".\n",
    "\n",
    "The intermediate object has some useful attributes:"
   ]
  },
  {
   "cell_type": "code",
   "execution_count": 26,
   "metadata": {},
   "outputs": [
    {
     "data": {
      "text/plain": [
       "{False: Int64Index([102, 108, 109], dtype='int64'),\n",
       " True: Int64Index([100, 101, 106], dtype='int64')}"
      ]
     },
     "execution_count": 26,
     "metadata": {},
     "output_type": "execute_result"
    }
   ],
   "source": [
    "grouped.groups"
   ]
  },
  {
   "cell_type": "code",
   "execution_count": 27,
   "metadata": {},
   "outputs": [
    {
     "data": {
      "text/plain": [
       "2"
      ]
     },
     "execution_count": 27,
     "metadata": {},
     "output_type": "execute_result"
    }
   ],
   "source": [
    "len(grouped)  # True and False"
   ]
  },
  {
   "cell_type": "markdown",
   "metadata": {},
   "source": [
    "If we wish to run some actual processing, we have to use an aggregation function:"
   ]
  },
  {
   "cell_type": "code",
   "execution_count": 28,
   "metadata": {},
   "outputs": [
    {
     "data": {
      "text/html": [
       "<div>\n",
       "<style scoped>\n",
       "    .dataframe tbody tr th:only-of-type {\n",
       "        vertical-align: middle;\n",
       "    }\n",
       "\n",
       "    .dataframe tbody tr th {\n",
       "        vertical-align: top;\n",
       "    }\n",
       "\n",
       "    .dataframe thead th {\n",
       "        text-align: right;\n",
       "    }\n",
       "</style>\n",
       "<table border=\"1\" class=\"dataframe\">\n",
       "  <thead>\n",
       "    <tr style=\"text-align: right;\">\n",
       "      <th></th>\n",
       "      <th>took_med</th>\n",
       "      <th>val1</th>\n",
       "      <th>val2</th>\n",
       "    </tr>\n",
       "    <tr>\n",
       "      <th>dead</th>\n",
       "      <th></th>\n",
       "      <th></th>\n",
       "      <th></th>\n",
       "    </tr>\n",
       "  </thead>\n",
       "  <tbody>\n",
       "    <tr>\n",
       "      <th>False</th>\n",
       "      <td>2.0</td>\n",
       "      <td>1.217916</td>\n",
       "      <td>1.981865</td>\n",
       "    </tr>\n",
       "    <tr>\n",
       "      <th>True</th>\n",
       "      <td>1.0</td>\n",
       "      <td>2.262310</td>\n",
       "      <td>1.168951</td>\n",
       "    </tr>\n",
       "  </tbody>\n",
       "</table>\n",
       "</div>"
      ],
      "text/plain": [
       "       took_med      val1      val2\n",
       "dead                               \n",
       "False       2.0  1.217916  1.981865\n",
       "True        1.0  2.262310  1.168951"
      ]
     },
     "execution_count": 28,
     "metadata": {},
     "output_type": "execute_result"
    }
   ],
   "source": [
    "grouped.sum()"
   ]
  },
  {
   "cell_type": "code",
   "execution_count": 29,
   "metadata": {
    "scrolled": true
   },
   "outputs": [
    {
     "data": {
      "text/html": [
       "<div>\n",
       "<style scoped>\n",
       "    .dataframe tbody tr th:only-of-type {\n",
       "        vertical-align: middle;\n",
       "    }\n",
       "\n",
       "    .dataframe tbody tr th {\n",
       "        vertical-align: top;\n",
       "    }\n",
       "\n",
       "    .dataframe thead th {\n",
       "        text-align: right;\n",
       "    }\n",
       "</style>\n",
       "<table border=\"1\" class=\"dataframe\">\n",
       "  <thead>\n",
       "    <tr style=\"text-align: right;\">\n",
       "      <th></th>\n",
       "      <th>took_med</th>\n",
       "      <th>val1</th>\n",
       "      <th>val2</th>\n",
       "    </tr>\n",
       "    <tr>\n",
       "      <th>dead</th>\n",
       "      <th></th>\n",
       "      <th></th>\n",
       "      <th></th>\n",
       "    </tr>\n",
       "  </thead>\n",
       "  <tbody>\n",
       "    <tr>\n",
       "      <th>False</th>\n",
       "      <td>0.666667</td>\n",
       "      <td>0.405972</td>\n",
       "      <td>0.660622</td>\n",
       "    </tr>\n",
       "    <tr>\n",
       "      <th>True</th>\n",
       "      <td>0.333333</td>\n",
       "      <td>0.754103</td>\n",
       "      <td>0.389650</td>\n",
       "    </tr>\n",
       "  </tbody>\n",
       "</table>\n",
       "</div>"
      ],
      "text/plain": [
       "       took_med      val1      val2\n",
       "dead                               \n",
       "False  0.666667  0.405972  0.660622\n",
       "True   0.333333  0.754103  0.389650"
      ]
     },
     "execution_count": 29,
     "metadata": {},
     "output_type": "execute_result"
    }
   ],
   "source": [
    "grouped.mean()"
   ]
  },
  {
   "cell_type": "code",
   "execution_count": 30,
   "metadata": {},
   "outputs": [
    {
     "data": {
      "text/plain": [
       "dead\n",
       "False    3\n",
       "True     3\n",
       "dtype: int64"
      ]
     },
     "execution_count": 30,
     "metadata": {},
     "output_type": "execute_result"
    }
   ],
   "source": [
    "grouped.size()"
   ]
  },
  {
   "cell_type": "markdown",
   "metadata": {},
   "source": [
    "If we just wish to see one of the groups, we can use `get_group()`:"
   ]
  },
  {
   "cell_type": "code",
   "execution_count": 31,
   "metadata": {},
   "outputs": [
    {
     "data": {
      "text/html": [
       "<div>\n",
       "<style scoped>\n",
       "    .dataframe tbody tr th:only-of-type {\n",
       "        vertical-align: middle;\n",
       "    }\n",
       "\n",
       "    .dataframe tbody tr th {\n",
       "        vertical-align: top;\n",
       "    }\n",
       "\n",
       "    .dataframe thead th {\n",
       "        text-align: right;\n",
       "    }\n",
       "</style>\n",
       "<table border=\"1\" class=\"dataframe\">\n",
       "  <thead>\n",
       "    <tr style=\"text-align: right;\">\n",
       "      <th></th>\n",
       "      <th>took_med</th>\n",
       "      <th>val1</th>\n",
       "      <th>val2</th>\n",
       "    </tr>\n",
       "  </thead>\n",
       "  <tbody>\n",
       "    <tr>\n",
       "      <th>100</th>\n",
       "      <td>False</td>\n",
       "      <td>0.977566</td>\n",
       "      <td>0.094403</td>\n",
       "    </tr>\n",
       "    <tr>\n",
       "      <th>101</th>\n",
       "      <td>True</td>\n",
       "      <td>0.433096</td>\n",
       "      <td>0.377533</td>\n",
       "    </tr>\n",
       "    <tr>\n",
       "      <th>106</th>\n",
       "      <td>False</td>\n",
       "      <td>0.851649</td>\n",
       "      <td>0.697016</td>\n",
       "    </tr>\n",
       "  </tbody>\n",
       "</table>\n",
       "</div>"
      ],
      "text/plain": [
       "     took_med      val1      val2\n",
       "100     False  0.977566  0.094403\n",
       "101      True  0.433096  0.377533\n",
       "106     False  0.851649  0.697016"
      ]
     },
     "execution_count": 31,
     "metadata": {},
     "output_type": "execute_result"
    }
   ],
   "source": [
    "grouped.get_group(True)"
   ]
  },
  {
   "cell_type": "markdown",
   "metadata": {},
   "source": [
    "We can also call several functions at once using the `.agg` attribute:"
   ]
  },
  {
   "cell_type": "code",
   "execution_count": 32,
   "metadata": {},
   "outputs": [
    {
     "data": {
      "text/html": [
       "<div>\n",
       "<style scoped>\n",
       "    .dataframe tbody tr th:only-of-type {\n",
       "        vertical-align: middle;\n",
       "    }\n",
       "\n",
       "    .dataframe tbody tr th {\n",
       "        vertical-align: top;\n",
       "    }\n",
       "\n",
       "    .dataframe thead tr th {\n",
       "        text-align: left;\n",
       "    }\n",
       "\n",
       "    .dataframe thead tr:last-of-type th {\n",
       "        text-align: right;\n",
       "    }\n",
       "</style>\n",
       "<table border=\"1\" class=\"dataframe\">\n",
       "  <thead>\n",
       "    <tr>\n",
       "      <th></th>\n",
       "      <th colspan=\"2\" halign=\"left\">took_med</th>\n",
       "      <th colspan=\"2\" halign=\"left\">val1</th>\n",
       "      <th colspan=\"2\" halign=\"left\">val2</th>\n",
       "    </tr>\n",
       "    <tr>\n",
       "      <th></th>\n",
       "      <th>sum</th>\n",
       "      <th>var</th>\n",
       "      <th>sum</th>\n",
       "      <th>var</th>\n",
       "      <th>sum</th>\n",
       "      <th>var</th>\n",
       "    </tr>\n",
       "    <tr>\n",
       "      <th>dead</th>\n",
       "      <th></th>\n",
       "      <th></th>\n",
       "      <th></th>\n",
       "      <th></th>\n",
       "      <th></th>\n",
       "      <th></th>\n",
       "    </tr>\n",
       "  </thead>\n",
       "  <tbody>\n",
       "    <tr>\n",
       "      <th>False</th>\n",
       "      <td>2.0</td>\n",
       "      <td>0.333333</td>\n",
       "      <td>1.217916</td>\n",
       "      <td>0.058343</td>\n",
       "      <td>1.981865</td>\n",
       "      <td>0.087949</td>\n",
       "    </tr>\n",
       "    <tr>\n",
       "      <th>True</th>\n",
       "      <td>1.0</td>\n",
       "      <td>0.333333</td>\n",
       "      <td>2.262310</td>\n",
       "      <td>0.081248</td>\n",
       "      <td>1.168951</td>\n",
       "      <td>0.090896</td>\n",
       "    </tr>\n",
       "  </tbody>\n",
       "</table>\n",
       "</div>"
      ],
      "text/plain": [
       "      took_med                val1                val2          \n",
       "           sum       var       sum       var       sum       var\n",
       "dead                                                            \n",
       "False      2.0  0.333333  1.217916  0.058343  1.981865  0.087949\n",
       "True       1.0  0.333333  2.262310  0.081248  1.168951  0.090896"
      ]
     },
     "execution_count": 32,
     "metadata": {},
     "output_type": "execute_result"
    }
   ],
   "source": [
    "grouped.agg([np.sum, np.var])"
   ]
  },
  {
   "cell_type": "markdown",
   "metadata": {},
   "source": [
    "GroupBy offers many more features, documented [online](http://pandas.pydata.org/pandas-docs/stable/groupby.html)."
   ]
  },
  {
   "cell_type": "markdown",
   "metadata": {},
   "source": [
    "## Exercise"
   ]
  },
  {
   "cell_type": "markdown",
   "metadata": {},
   "source": [
    "1. _Strings in pandas:_ \n",
    "    - Generate a 1000-length `pd.DataFrame` filled with 3-letter strings. Use the `string` module, and others, to generate it quickly.\n",
    "    - Add a column indicating if the string in this row has a `z` in its 2nd character.\n",
    "    - Add a third column swapping the case of the 3-letter string in these specific lines (`azI` to `AZi`). In the other lines it should remain uncapitalized.\n",
    "\n",
    "2. _Concatenation:_\n",
    "    - Create three DataFrames with random values and shapes of (10x2), (10x1), (15x3). Their index should be simple ordinal integers, and their column names should differ.\n",
    "    - Concatenate these DFs over the second axis using `pd.concat`.\n",
    "    - Concatenate these DFs over the second axis using `pd.merge`.\n",
    "\n",
    "3. _GroupBy:_\n",
    "    - Create a DataFrame with two columns, 10k entries in length. The first should be a \"flag\" column, having a value of either 0 or 1, randomly. The second should be A sine wave from 0 to 20$\\pi$, length of 10k. This simulates measuring a parameter from two distinct groups.\n",
    "    - GroupBy the DataFrame, creating a GroupBy object.\n",
    "    - Plot and overlay the two traces (of the two flags).\n",
    "    - Use the `.rolling()` method to create a rolling average window of length 5 and overlay the result.\n"
   ]
  },
  {
   "cell_type": "markdown",
   "metadata": {},
   "source": [
    "## Exercise solutions below..."
   ]
  },
  {
   "cell_type": "code",
   "execution_count": 33,
   "metadata": {},
   "outputs": [
    {
     "data": {
      "text/html": [
       "<div>\n",
       "<style scoped>\n",
       "    .dataframe tbody tr th:only-of-type {\n",
       "        vertical-align: middle;\n",
       "    }\n",
       "\n",
       "    .dataframe tbody tr th {\n",
       "        vertical-align: top;\n",
       "    }\n",
       "\n",
       "    .dataframe thead th {\n",
       "        text-align: right;\n",
       "    }\n",
       "</style>\n",
       "<table border=\"1\" class=\"dataframe\">\n",
       "  <thead>\n",
       "    <tr style=\"text-align: right;\">\n",
       "      <th></th>\n",
       "      <th>a</th>\n",
       "      <th>b</th>\n",
       "      <th>c</th>\n",
       "      <th>letters</th>\n",
       "      <th>no_z</th>\n",
       "      <th>swap</th>\n",
       "    </tr>\n",
       "  </thead>\n",
       "  <tbody>\n",
       "    <tr>\n",
       "      <th>0</th>\n",
       "      <td>n</td>\n",
       "      <td>f</td>\n",
       "      <td>w</td>\n",
       "      <td>nfw</td>\n",
       "      <td>True</td>\n",
       "      <td>nfw</td>\n",
       "    </tr>\n",
       "    <tr>\n",
       "      <th>1</th>\n",
       "      <td>g</td>\n",
       "      <td>s</td>\n",
       "      <td>t</td>\n",
       "      <td>gst</td>\n",
       "      <td>True</td>\n",
       "      <td>gst</td>\n",
       "    </tr>\n",
       "    <tr>\n",
       "      <th>2</th>\n",
       "      <td>n</td>\n",
       "      <td>r</td>\n",
       "      <td>e</td>\n",
       "      <td>nre</td>\n",
       "      <td>True</td>\n",
       "      <td>nre</td>\n",
       "    </tr>\n",
       "    <tr>\n",
       "      <th>3</th>\n",
       "      <td>t</td>\n",
       "      <td>t</td>\n",
       "      <td>z</td>\n",
       "      <td>ttz</td>\n",
       "      <td>True</td>\n",
       "      <td>ttz</td>\n",
       "    </tr>\n",
       "    <tr>\n",
       "      <th>4</th>\n",
       "      <td>u</td>\n",
       "      <td>z</td>\n",
       "      <td>c</td>\n",
       "      <td>uzc</td>\n",
       "      <td>False</td>\n",
       "      <td>UZC</td>\n",
       "    </tr>\n",
       "    <tr>\n",
       "      <th>5</th>\n",
       "      <td>u</td>\n",
       "      <td>i</td>\n",
       "      <td>s</td>\n",
       "      <td>uis</td>\n",
       "      <td>True</td>\n",
       "      <td>uis</td>\n",
       "    </tr>\n",
       "    <tr>\n",
       "      <th>6</th>\n",
       "      <td>m</td>\n",
       "      <td>t</td>\n",
       "      <td>d</td>\n",
       "      <td>mtd</td>\n",
       "      <td>True</td>\n",
       "      <td>mtd</td>\n",
       "    </tr>\n",
       "    <tr>\n",
       "      <th>7</th>\n",
       "      <td>e</td>\n",
       "      <td>a</td>\n",
       "      <td>w</td>\n",
       "      <td>eaw</td>\n",
       "      <td>True</td>\n",
       "      <td>eaw</td>\n",
       "    </tr>\n",
       "    <tr>\n",
       "      <th>8</th>\n",
       "      <td>l</td>\n",
       "      <td>a</td>\n",
       "      <td>e</td>\n",
       "      <td>lae</td>\n",
       "      <td>True</td>\n",
       "      <td>lae</td>\n",
       "    </tr>\n",
       "    <tr>\n",
       "      <th>9</th>\n",
       "      <td>m</td>\n",
       "      <td>d</td>\n",
       "      <td>v</td>\n",
       "      <td>mdv</td>\n",
       "      <td>True</td>\n",
       "      <td>mdv</td>\n",
       "    </tr>\n",
       "    <tr>\n",
       "      <th>10</th>\n",
       "      <td>h</td>\n",
       "      <td>o</td>\n",
       "      <td>j</td>\n",
       "      <td>hoj</td>\n",
       "      <td>True</td>\n",
       "      <td>hoj</td>\n",
       "    </tr>\n",
       "    <tr>\n",
       "      <th>11</th>\n",
       "      <td>i</td>\n",
       "      <td>q</td>\n",
       "      <td>q</td>\n",
       "      <td>iqq</td>\n",
       "      <td>True</td>\n",
       "      <td>iqq</td>\n",
       "    </tr>\n",
       "    <tr>\n",
       "      <th>12</th>\n",
       "      <td>c</td>\n",
       "      <td>f</td>\n",
       "      <td>d</td>\n",
       "      <td>cfd</td>\n",
       "      <td>True</td>\n",
       "      <td>cfd</td>\n",
       "    </tr>\n",
       "    <tr>\n",
       "      <th>13</th>\n",
       "      <td>s</td>\n",
       "      <td>x</td>\n",
       "      <td>u</td>\n",
       "      <td>sxu</td>\n",
       "      <td>True</td>\n",
       "      <td>sxu</td>\n",
       "    </tr>\n",
       "    <tr>\n",
       "      <th>14</th>\n",
       "      <td>p</td>\n",
       "      <td>b</td>\n",
       "      <td>t</td>\n",
       "      <td>pbt</td>\n",
       "      <td>True</td>\n",
       "      <td>pbt</td>\n",
       "    </tr>\n",
       "    <tr>\n",
       "      <th>15</th>\n",
       "      <td>w</td>\n",
       "      <td>z</td>\n",
       "      <td>p</td>\n",
       "      <td>wzp</td>\n",
       "      <td>False</td>\n",
       "      <td>WZP</td>\n",
       "    </tr>\n",
       "    <tr>\n",
       "      <th>16</th>\n",
       "      <td>b</td>\n",
       "      <td>l</td>\n",
       "      <td>a</td>\n",
       "      <td>bla</td>\n",
       "      <td>True</td>\n",
       "      <td>bla</td>\n",
       "    </tr>\n",
       "    <tr>\n",
       "      <th>17</th>\n",
       "      <td>d</td>\n",
       "      <td>p</td>\n",
       "      <td>h</td>\n",
       "      <td>dph</td>\n",
       "      <td>True</td>\n",
       "      <td>dph</td>\n",
       "    </tr>\n",
       "    <tr>\n",
       "      <th>18</th>\n",
       "      <td>y</td>\n",
       "      <td>w</td>\n",
       "      <td>m</td>\n",
       "      <td>ywm</td>\n",
       "      <td>True</td>\n",
       "      <td>ywm</td>\n",
       "    </tr>\n",
       "    <tr>\n",
       "      <th>19</th>\n",
       "      <td>t</td>\n",
       "      <td>z</td>\n",
       "      <td>a</td>\n",
       "      <td>tza</td>\n",
       "      <td>False</td>\n",
       "      <td>TZA</td>\n",
       "    </tr>\n",
       "  </tbody>\n",
       "</table>\n",
       "</div>"
      ],
      "text/plain": [
       "    a  b  c letters   no_z swap\n",
       "0   n  f  w     nfw   True  nfw\n",
       "1   g  s  t     gst   True  gst\n",
       "2   n  r  e     nre   True  nre\n",
       "3   t  t  z     ttz   True  ttz\n",
       "4   u  z  c     uzc  False  UZC\n",
       "5   u  i  s     uis   True  uis\n",
       "6   m  t  d     mtd   True  mtd\n",
       "7   e  a  w     eaw   True  eaw\n",
       "8   l  a  e     lae   True  lae\n",
       "9   m  d  v     mdv   True  mdv\n",
       "10  h  o  j     hoj   True  hoj\n",
       "11  i  q  q     iqq   True  iqq\n",
       "12  c  f  d     cfd   True  cfd\n",
       "13  s  x  u     sxu   True  sxu\n",
       "14  p  b  t     pbt   True  pbt\n",
       "15  w  z  p     wzp  False  WZP\n",
       "16  b  l  a     bla   True  bla\n",
       "17  d  p  h     dph   True  dph\n",
       "18  y  w  m     ywm   True  ywm\n",
       "19  t  z  a     tza  False  TZA"
      ]
     },
     "execution_count": 33,
     "metadata": {},
     "output_type": "execute_result"
    }
   ],
   "source": [
    "# 1\n",
    "import string\n",
    "import numpy as np\n",
    "import pandas as pd\n",
    "\n",
    "# Generate the array\n",
    "letters = list(string.ascii_lowercase)\n",
    "size = 1000\n",
    "num_of_letters = 3 \n",
    "chosen = np.random.choice(letters, size*num_of_letters)\n",
    "chosen = chosen.reshape((size, num_of_letters))\n",
    "df = pd.DataFrame(chosen, columns=['a', 'b', 'c'])\n",
    "df['letters'] = df.a.str.cat(df.b.str.cat(df.c))\n",
    "\n",
    "# Filter\n",
    "char = 'z'\n",
    "df['no_z'] = df['letters'].str.find(char) != 1\n",
    "df['swap'] = df['letters'].where(df['no_z'], other=df['letters'].str.upper())\n",
    "df.head(20)"
   ]
  },
  {
   "cell_type": "code",
   "execution_count": 34,
   "metadata": {},
   "outputs": [
    {
     "name": "stdout",
     "output_type": "stream",
     "text": [
      "           a         b         c         d         e         f\n",
      "0   0.099440  0.473808  0.022436  0.087550  0.938060  0.418129\n",
      "1   0.421797  0.347943  0.022418  0.870642  0.968739  0.605189\n",
      "2   0.765716  0.525893  0.594869  0.329451  0.975502  0.101556\n",
      "3   0.345165  0.446720  0.238288  0.541351  0.391899  0.549402\n",
      "4   0.301057  0.459601  0.812017  0.932113  0.480305  0.677415\n",
      "5   0.263400  0.796951  0.545263  0.015327  0.815814  0.305352\n",
      "6   0.228221  0.266079  0.377693  0.818462  0.322144  0.047977\n",
      "7   0.887580  0.375648  0.803225  0.445266  0.731440  0.432320\n",
      "8   0.882566  0.421746  0.714760  0.153811  0.180213  0.226544\n",
      "9   0.668532  0.601916  0.866854  0.709304  0.449055  0.693811\n",
      "10       NaN       NaN       NaN  0.383852  0.579978  0.129316\n",
      "11       NaN       NaN       NaN  0.330585  0.846395  0.856580\n",
      "12       NaN       NaN       NaN  0.884055  0.591412  0.184183\n",
      "13       NaN       NaN       NaN  0.060337  0.443717  0.278496\n",
      "14       NaN       NaN       NaN  0.079485  0.873294  0.774197\n"
     ]
    },
    {
     "data": {
      "text/html": [
       "<div>\n",
       "<style scoped>\n",
       "    .dataframe tbody tr th:only-of-type {\n",
       "        vertical-align: middle;\n",
       "    }\n",
       "\n",
       "    .dataframe tbody tr th {\n",
       "        vertical-align: top;\n",
       "    }\n",
       "\n",
       "    .dataframe thead th {\n",
       "        text-align: right;\n",
       "    }\n",
       "</style>\n",
       "<table border=\"1\" class=\"dataframe\">\n",
       "  <thead>\n",
       "    <tr style=\"text-align: right;\">\n",
       "      <th></th>\n",
       "      <th>a</th>\n",
       "      <th>b</th>\n",
       "      <th>c</th>\n",
       "      <th>d</th>\n",
       "      <th>e</th>\n",
       "      <th>f</th>\n",
       "    </tr>\n",
       "  </thead>\n",
       "  <tbody>\n",
       "    <tr>\n",
       "      <th>0</th>\n",
       "      <td>0.099440</td>\n",
       "      <td>0.473808</td>\n",
       "      <td>0.022436</td>\n",
       "      <td>0.087550</td>\n",
       "      <td>0.938060</td>\n",
       "      <td>0.418129</td>\n",
       "    </tr>\n",
       "    <tr>\n",
       "      <th>1</th>\n",
       "      <td>0.421797</td>\n",
       "      <td>0.347943</td>\n",
       "      <td>0.022418</td>\n",
       "      <td>0.870642</td>\n",
       "      <td>0.968739</td>\n",
       "      <td>0.605189</td>\n",
       "    </tr>\n",
       "    <tr>\n",
       "      <th>2</th>\n",
       "      <td>0.765716</td>\n",
       "      <td>0.525893</td>\n",
       "      <td>0.594869</td>\n",
       "      <td>0.329451</td>\n",
       "      <td>0.975502</td>\n",
       "      <td>0.101556</td>\n",
       "    </tr>\n",
       "    <tr>\n",
       "      <th>3</th>\n",
       "      <td>0.345165</td>\n",
       "      <td>0.446720</td>\n",
       "      <td>0.238288</td>\n",
       "      <td>0.541351</td>\n",
       "      <td>0.391899</td>\n",
       "      <td>0.549402</td>\n",
       "    </tr>\n",
       "    <tr>\n",
       "      <th>4</th>\n",
       "      <td>0.301057</td>\n",
       "      <td>0.459601</td>\n",
       "      <td>0.812017</td>\n",
       "      <td>0.932113</td>\n",
       "      <td>0.480305</td>\n",
       "      <td>0.677415</td>\n",
       "    </tr>\n",
       "    <tr>\n",
       "      <th>5</th>\n",
       "      <td>0.263400</td>\n",
       "      <td>0.796951</td>\n",
       "      <td>0.545263</td>\n",
       "      <td>0.015327</td>\n",
       "      <td>0.815814</td>\n",
       "      <td>0.305352</td>\n",
       "    </tr>\n",
       "    <tr>\n",
       "      <th>6</th>\n",
       "      <td>0.228221</td>\n",
       "      <td>0.266079</td>\n",
       "      <td>0.377693</td>\n",
       "      <td>0.818462</td>\n",
       "      <td>0.322144</td>\n",
       "      <td>0.047977</td>\n",
       "    </tr>\n",
       "    <tr>\n",
       "      <th>7</th>\n",
       "      <td>0.887580</td>\n",
       "      <td>0.375648</td>\n",
       "      <td>0.803225</td>\n",
       "      <td>0.445266</td>\n",
       "      <td>0.731440</td>\n",
       "      <td>0.432320</td>\n",
       "    </tr>\n",
       "    <tr>\n",
       "      <th>8</th>\n",
       "      <td>0.882566</td>\n",
       "      <td>0.421746</td>\n",
       "      <td>0.714760</td>\n",
       "      <td>0.153811</td>\n",
       "      <td>0.180213</td>\n",
       "      <td>0.226544</td>\n",
       "    </tr>\n",
       "    <tr>\n",
       "      <th>9</th>\n",
       "      <td>0.668532</td>\n",
       "      <td>0.601916</td>\n",
       "      <td>0.866854</td>\n",
       "      <td>0.709304</td>\n",
       "      <td>0.449055</td>\n",
       "      <td>0.693811</td>\n",
       "    </tr>\n",
       "    <tr>\n",
       "      <th>10</th>\n",
       "      <td>NaN</td>\n",
       "      <td>NaN</td>\n",
       "      <td>NaN</td>\n",
       "      <td>0.383852</td>\n",
       "      <td>0.579978</td>\n",
       "      <td>0.129316</td>\n",
       "    </tr>\n",
       "    <tr>\n",
       "      <th>11</th>\n",
       "      <td>NaN</td>\n",
       "      <td>NaN</td>\n",
       "      <td>NaN</td>\n",
       "      <td>0.330585</td>\n",
       "      <td>0.846395</td>\n",
       "      <td>0.856580</td>\n",
       "    </tr>\n",
       "    <tr>\n",
       "      <th>12</th>\n",
       "      <td>NaN</td>\n",
       "      <td>NaN</td>\n",
       "      <td>NaN</td>\n",
       "      <td>0.884055</td>\n",
       "      <td>0.591412</td>\n",
       "      <td>0.184183</td>\n",
       "    </tr>\n",
       "    <tr>\n",
       "      <th>13</th>\n",
       "      <td>NaN</td>\n",
       "      <td>NaN</td>\n",
       "      <td>NaN</td>\n",
       "      <td>0.060337</td>\n",
       "      <td>0.443717</td>\n",
       "      <td>0.278496</td>\n",
       "    </tr>\n",
       "    <tr>\n",
       "      <th>14</th>\n",
       "      <td>NaN</td>\n",
       "      <td>NaN</td>\n",
       "      <td>NaN</td>\n",
       "      <td>0.079485</td>\n",
       "      <td>0.873294</td>\n",
       "      <td>0.774197</td>\n",
       "    </tr>\n",
       "  </tbody>\n",
       "</table>\n",
       "</div>"
      ],
      "text/plain": [
       "           a         b         c         d         e         f\n",
       "0   0.099440  0.473808  0.022436  0.087550  0.938060  0.418129\n",
       "1   0.421797  0.347943  0.022418  0.870642  0.968739  0.605189\n",
       "2   0.765716  0.525893  0.594869  0.329451  0.975502  0.101556\n",
       "3   0.345165  0.446720  0.238288  0.541351  0.391899  0.549402\n",
       "4   0.301057  0.459601  0.812017  0.932113  0.480305  0.677415\n",
       "5   0.263400  0.796951  0.545263  0.015327  0.815814  0.305352\n",
       "6   0.228221  0.266079  0.377693  0.818462  0.322144  0.047977\n",
       "7   0.887580  0.375648  0.803225  0.445266  0.731440  0.432320\n",
       "8   0.882566  0.421746  0.714760  0.153811  0.180213  0.226544\n",
       "9   0.668532  0.601916  0.866854  0.709304  0.449055  0.693811\n",
       "10       NaN       NaN       NaN  0.383852  0.579978  0.129316\n",
       "11       NaN       NaN       NaN  0.330585  0.846395  0.856580\n",
       "12       NaN       NaN       NaN  0.884055  0.591412  0.184183\n",
       "13       NaN       NaN       NaN  0.060337  0.443717  0.278496\n",
       "14       NaN       NaN       NaN  0.079485  0.873294  0.774197"
      ]
     },
     "execution_count": 34,
     "metadata": {},
     "output_type": "execute_result"
    }
   ],
   "source": [
    "# 2\n",
    "dfa = pd.DataFrame(np.random.random((10, 2)), columns=['a', 'b'])\n",
    "dfb = pd.DataFrame(np.random.random((10, 1)), columns=['c'])\n",
    "dfc = pd.DataFrame(np.random.random((15, 3)), columns=['d', 'e', 'f'])\n",
    "\n",
    "# Using concat\n",
    "print(pd.concat([dfa, dfb, dfc], axis=1))\n",
    "# Using merge\n",
    "pd.merge(pd.merge(dfa, dfb, how='outer', left_index=True, right_index=True), \n",
    "         dfc, how='outer', left_index=True, right_index=True)"
   ]
  },
  {
   "cell_type": "code",
   "execution_count": 35,
   "metadata": {},
   "outputs": [
    {
     "data": {
      "text/plain": [
       "<matplotlib.axes._subplots.AxesSubplot at 0x7fe8f9d25400>"
      ]
     },
     "execution_count": 35,
     "metadata": {},
     "output_type": "execute_result"
    },
    {
     "data": {
      "image/png": "[encoded data removed]",
      "text/plain": [
       "<Figure size 432x288 with 1 Axes>"
      ]
     },
     "metadata": {
      "needs_background": "light"
     },
     "output_type": "display_data"
    }
   ],
   "source": [
    "# 3\n",
    "vals = np.array([0, 1])\n",
    "needed = 100\n",
    "stop = 20 * np.pi\n",
    "chosen = np.random.choice(vals, needed)\n",
    "df = pd.DataFrame({'flag': chosen, 'val': np.sin(np.linspace(start=0, stop=stop, num=needed))})\n",
    "\n",
    "window_size = 5\n",
    "grouped = df.groupby('flag')\n",
    "grouped.val.plot()\n",
    "\n",
    "df.val.rolling(window=window_size).mean().plot()"
   ]
  },
  {
   "cell_type": "markdown",
   "metadata": {},
   "source": [
    "## IntervalIndex"
   ]
  },
  {
   "cell_type": "markdown",
   "metadata": {},
   "source": [
    "Pandas has a __TON__ of features and small implementation details that are there to make your life simpler. A small example, just to make you look for these deep in the documentation, is an `IntervalIndex`.\n",
    "\n",
    "`IntervalIndex` is a type of index, just like a `DatetimeIndex` that we've seen many times, or a simple integer index. This index is special because it contain a start and a stop \"time\", and values can be included or excluded in this range."
   ]
  },
  {
   "cell_type": "code",
   "execution_count": 36,
   "metadata": {},
   "outputs": [
    {
     "data": {
      "text/html": [
       "<div>\n",
       "<style scoped>\n",
       "    .dataframe tbody tr th:only-of-type {\n",
       "        vertical-align: middle;\n",
       "    }\n",
       "\n",
       "    .dataframe tbody tr th {\n",
       "        vertical-align: top;\n",
       "    }\n",
       "\n",
       "    .dataframe thead th {\n",
       "        text-align: right;\n",
       "    }\n",
       "</style>\n",
       "<table border=\"1\" class=\"dataframe\">\n",
       "  <thead>\n",
       "    <tr style=\"text-align: right;\">\n",
       "      <th></th>\n",
       "      <th>data</th>\n",
       "    </tr>\n",
       "  </thead>\n",
       "  <tbody>\n",
       "    <tr>\n",
       "      <th>(0, 1]</th>\n",
       "      <td>0</td>\n",
       "    </tr>\n",
       "    <tr>\n",
       "      <th>(1, 2]</th>\n",
       "      <td>1</td>\n",
       "    </tr>\n",
       "    <tr>\n",
       "      <th>(2, 3]</th>\n",
       "      <td>2</td>\n",
       "    </tr>\n",
       "    <tr>\n",
       "      <th>(3, 4]</th>\n",
       "      <td>3</td>\n",
       "    </tr>\n",
       "  </tbody>\n",
       "</table>\n",
       "</div>"
      ],
      "text/plain": [
       "        data\n",
       "(0, 1]     0\n",
       "(1, 2]     1\n",
       "(2, 3]     2\n",
       "(3, 4]     3"
      ]
     },
     "execution_count": 36,
     "metadata": {},
     "output_type": "execute_result"
    }
   ],
   "source": [
    "df = pd.DataFrame([0, 1, 2, 3], index=pd.IntervalIndex.from_breaks((0, 1, 2, 3, 4)),\n",
    "                  columns=['data'])\n",
    "df  # notice the index"
   ]
  },
  {
   "cell_type": "code",
   "execution_count": 37,
   "metadata": {},
   "outputs": [
    {
     "data": {
      "text/plain": [
       "data    1\n",
       "Name: (1, 2], dtype: int64"
      ]
     },
     "execution_count": 37,
     "metadata": {},
     "output_type": "execute_result"
    }
   ],
   "source": [
    "# Select a label on the edge of the index\n",
    "df.loc[2]  # label-based, i.e. index-based and not value-based"
   ]
  },
  {
   "cell_type": "code",
   "execution_count": 38,
   "metadata": {},
   "outputs": [
    {
     "data": {
      "text/html": [
       "<div>\n",
       "<style scoped>\n",
       "    .dataframe tbody tr th:only-of-type {\n",
       "        vertical-align: middle;\n",
       "    }\n",
       "\n",
       "    .dataframe tbody tr th {\n",
       "        vertical-align: top;\n",
       "    }\n",
       "\n",
       "    .dataframe thead th {\n",
       "        text-align: right;\n",
       "    }\n",
       "</style>\n",
       "<table border=\"1\" class=\"dataframe\">\n",
       "  <thead>\n",
       "    <tr style=\"text-align: right;\">\n",
       "      <th></th>\n",
       "      <th>data</th>\n",
       "    </tr>\n",
       "  </thead>\n",
       "  <tbody>\n",
       "    <tr>\n",
       "      <th>(0, 1]</th>\n",
       "      <td>0</td>\n",
       "    </tr>\n",
       "    <tr>\n",
       "      <th>(1, 2]</th>\n",
       "      <td>1</td>\n",
       "    </tr>\n",
       "  </tbody>\n",
       "</table>\n",
       "</div>"
      ],
      "text/plain": [
       "        data\n",
       "(0, 1]     0\n",
       "(1, 2]     1"
      ]
     },
     "execution_count": 38,
     "metadata": {},
     "output_type": "execute_result"
    }
   ],
   "source": [
    "df.loc[[1, 2]]"
   ]
  },
  {
   "cell_type": "code",
   "execution_count": 39,
   "metadata": {},
   "outputs": [
    {
     "data": {
      "text/plain": [
       "data    1\n",
       "Name: (1, 2], dtype: int64"
      ]
     },
     "execution_count": 39,
     "metadata": {},
     "output_type": "execute_result"
    }
   ],
   "source": [
    "# Select a label contained in the index\n",
    "df.loc[1.5]"
   ]
  },
  {
   "cell_type": "markdown",
   "metadata": {},
   "source": [
    "There are types of datasets that \"demand\" an `IntervalIndex`, \n",
    "in the sense that it's very natural to use them to represent the data. \n",
    "For example, if you sample data from an electrode every microsecond, \n",
    "then the measurement at time `t` represents the values in times `(t-us, t]`."
   ]
  },
  {
   "cell_type": "markdown",
   "metadata": {},
   "source": [
    "# Higher Dimensionality - `xarray`"
   ]
  },
  {
   "cell_type": "markdown",
   "metadata": {},
   "source": [
    "Pandas is amazing, but has its limits. A `DataFrame` can be a multi-dimensional container when using a `MultiIndex`, but it's limited to a subset of uses in which another layer of indexing makes sense.\n",
    "\n",
    "In many occasions, however, our data is truly high-dimensional. A simple case could be electrophysiological recordings, or calcium traces. In these cases we have several indices (some can be categorical), like \"Sex\", \"AnimalID\", \"Date\", \"TypeOfExperiment\" and perhaps a few more. But the data itself is a vector of numbers representing voltage or fluorescence. Having this data in a DataFrame seems a bit \"off\" - what are the columns on this DF? Is each column a voltage measurement? Or if each column is a measurement, how do you deal with the indices? We can use nested columns (`MultiIndex` the columns), but it's not a very modular approach.\n",
    "\n",
    "This is a classic example where pandas DF \"fail\", and indeed pandas used to have a higher-dimensionality container named `Panel`. However, late 2016 pandas devs deprecated it, publicly announcing that they intend to drop support for `Panel`s sometime in the future, and whoever needs a higher-dimensionality container should use `xarray`."
   ]
  },
  {
   "cell_type": "markdown",
   "metadata": {},
   "source": [
    "Thus, in essence `xarray` is a labeled n-dimensional array. Just like a DataFrame is a labeled 2D array, i.e. with names to its axes rather than numbers, in `xarray` each dimension has a name (`time`, `temp`, `voltage`) and its indices (\"coordinates\") can also have labels (like a timestamp, for example). In addition, each `xarray` object also has metadata attached to it, in which we can write details that do not fit a columnar structure (experimenter name, hardware and software used for acquisition, etc.)."
   ]
  },
  {
   "cell_type": "markdown",
   "metadata": {},
   "source": [
    "## DataArray"
   ]
  },
  {
   "cell_type": "code",
   "execution_count": 40,
   "metadata": {},
   "outputs": [
    {
     "data": {
      "text/plain": [
       "<xarray.DataArray (dim_0: 10, dim_1: 2)>\n",
       "array([[0.811788, 0.451999],\n",
       "       [0.329244, 0.054251],\n",
       "       [0.395648, 0.266465],\n",
       "       [0.964907, 0.088796],\n",
       "       [0.222309, 0.330811],\n",
       "       [0.13952 , 0.646182],\n",
       "       [0.44157 , 0.422225],\n",
       "       [0.658387, 0.152891],\n",
       "       [0.563514, 0.672669],\n",
       "       [0.005156, 0.976007]])\n",
       "Dimensions without coordinates: dim_0, dim_1"
      ]
     },
     "execution_count": 40,
     "metadata": {},
     "output_type": "execute_result"
    }
   ],
   "source": [
    "import numpy as np\n",
    "import xarray as xr\n",
    "\n",
    "\n",
    "da = xr.DataArray(np.random.random((10, 2)))\n",
    "da"
   ]
  },
  {
   "cell_type": "markdown",
   "metadata": {},
   "source": [
    "The basic building block of `xarray` is a DataArray, an n-dimensional counter part of a pandas' Series. It has two dimensions, just like the numpy array that its based upon. We didn't specify names for these dimensions, so currently they're called `dim_0` and `dim_1`. We also didn't specify coordinates (indices), so the printout doesn't report of any coordinates for the data."
   ]
  },
  {
   "cell_type": "code",
   "execution_count": 41,
   "metadata": {},
   "outputs": [
    {
     "data": {
      "text/plain": [
       "array([[0.8117881 , 0.45199918],\n",
       "       [0.32924403, 0.05425098],\n",
       "       [0.39564767, 0.26646539],\n",
       "       [0.96490725, 0.08879555],\n",
       "       [0.22230903, 0.33081134],\n",
       "       [0.13952006, 0.64618184],\n",
       "       [0.44156953, 0.42222452],\n",
       "       [0.6583871 , 0.15289086],\n",
       "       [0.56351422, 0.67266863],\n",
       "       [0.0051561 , 0.97600701]])"
      ]
     },
     "execution_count": 41,
     "metadata": {},
     "output_type": "execute_result"
    }
   ],
   "source": [
    "da.values  # just like pandas"
   ]
  },
  {
   "cell_type": "code",
   "execution_count": 42,
   "metadata": {},
   "outputs": [
    {
     "data": {
      "text/plain": [
       "Coordinates:\n",
       "    *empty*"
      ]
     },
     "execution_count": 42,
     "metadata": {},
     "output_type": "execute_result"
    }
   ],
   "source": [
    "da.coords"
   ]
  },
  {
   "cell_type": "code",
   "execution_count": 43,
   "metadata": {},
   "outputs": [
    {
     "data": {
      "text/plain": [
       "('dim_0', 'dim_1')"
      ]
     },
     "execution_count": 43,
     "metadata": {},
     "output_type": "execute_result"
    }
   ],
   "source": [
    "da.dims"
   ]
  },
  {
   "cell_type": "code",
   "execution_count": 44,
   "metadata": {},
   "outputs": [
    {
     "data": {
      "text/plain": [
       "OrderedDict()"
      ]
     },
     "execution_count": 44,
     "metadata": {},
     "output_type": "execute_result"
    }
   ],
   "source": [
    "da.attrs"
   ]
  },
  {
   "cell_type": "markdown",
   "metadata": {},
   "source": [
    "We'll add coordinates and dimension names and see how indexing works:"
   ]
  },
  {
   "cell_type": "code",
   "execution_count": 45,
   "metadata": {},
   "outputs": [
    {
     "data": {
      "text/plain": [
       "<xarray.DataArray (time: 10, repetition: 2)>\n",
       "array([[0.792435, 0.466192],\n",
       "       [0.342819, 0.142081],\n",
       "       [0.622309, 0.682035],\n",
       "       [0.294185, 0.600305],\n",
       "       [0.4853  , 0.060108],\n",
       "       [0.829469, 0.720694],\n",
       "       [0.776835, 0.957733],\n",
       "       [0.473218, 0.519051],\n",
       "       [0.803736, 0.374799],\n",
       "       [0.717004, 0.234577]])\n",
       "Coordinates:\n",
       "  * time        (time) float64 0.0 0.1111 0.2222 0.3333 ... 0.7778 0.8889 1.0\n",
       "  * repetition  (repetition) int64 0 1"
      ]
     },
     "execution_count": 45,
     "metadata": {},
     "output_type": "execute_result"
    }
   ],
   "source": [
    "dims = ('time', 'repetition')\n",
    "coords = {'time': np.linspace(0, 1, num=10),\n",
    "          'repetition': np.arange(2)}\n",
    "da2 = xr.DataArray(np.random.random((10, 2)), dims=dims, coords=coords)\n",
    "da2"
   ]
  },
  {
   "cell_type": "code",
   "execution_count": 46,
   "metadata": {},
   "outputs": [
    {
     "data": {
      "text/plain": [
       "<xarray.DataArray (time: 2)>\n",
       "array([0.142081, 0.682035])\n",
       "Coordinates:\n",
       "  * time        (time) float64 0.1111 0.2222\n",
       "    repetition  int64 1"
      ]
     },
     "execution_count": 46,
     "metadata": {},
     "output_type": "execute_result"
    }
   ],
   "source": [
    "da2[[0, 1]]  # positional\n",
    "da2.loc[0.1:0.3, 1]  # rows 1-2 in the second column"
   ]
  },
  {
   "cell_type": "code",
   "execution_count": 47,
   "metadata": {},
   "outputs": [
    {
     "data": {
      "text/plain": [
       "<xarray.DataArray (time: 4, repetition: 2)>\n",
       "array([[0.294185, 0.600305],\n",
       "       [0.4853  , 0.060108],\n",
       "       [0.829469, 0.720694],\n",
       "       [0.776835, 0.957733]])\n",
       "Coordinates:\n",
       "  * time        (time) float64 0.3333 0.4444 0.5556 0.6667\n",
       "  * repetition  (repetition) int64 0 1"
      ]
     },
     "execution_count": 47,
     "metadata": {},
     "output_type": "execute_result"
    }
   ],
   "source": [
    "da2.isel(time=slice(3, 7))  # dimension name and integer label (sel = select)"
   ]
  },
  {
   "cell_type": "code",
   "execution_count": 48,
   "metadata": {},
   "outputs": [
    {
     "data": {
      "text/plain": [
       "<xarray.DataArray (time: 10, repetition: 1)>\n",
       "array([[0.792435],\n",
       "       [0.342819],\n",
       "       [0.622309],\n",
       "       [0.294185],\n",
       "       [0.4853  ],\n",
       "       [0.829469],\n",
       "       [0.776835],\n",
       "       [0.473218],\n",
       "       [0.803736],\n",
       "       [0.717004]])\n",
       "Coordinates:\n",
       "  * time        (time) float64 0.0 0.1111 0.2222 0.3333 ... 0.7778 0.8889 1.0\n",
       "  * repetition  (repetition) int64 0"
      ]
     },
     "execution_count": 48,
     "metadata": {},
     "output_type": "execute_result"
    }
   ],
   "source": [
    "da2.sel(repetition=[0])  # dimension name and coordinate label"
   ]
  },
  {
   "cell_type": "markdown",
   "metadata": {},
   "source": [
    "Other operations on DataArrays, such as computations, grouping and such, are done very similarly to DataFrames and numpy arrays."
   ]
  },
  {
   "cell_type": "markdown",
   "metadata": {},
   "source": [
    "## Dataset"
   ]
  },
  {
   "cell_type": "markdown",
   "metadata": {},
   "source": [
    "A Dataset is to a DataArray what a DataFrame is to a Series. In other words, it's a collection of DataArrays that share coordinates."
   ]
  },
  {
   "cell_type": "code",
   "execution_count": 49,
   "metadata": {},
   "outputs": [
    {
     "data": {
      "text/plain": [
       "<xarray.DataArray (time: 10, repetition: 2)>\n",
       "array([[0.792435, 0.466192],\n",
       "       [0.342819, 0.142081],\n",
       "       [0.622309, 0.682035],\n",
       "       [0.294185, 0.600305],\n",
       "       [0.4853  , 0.060108],\n",
       "       [0.829469, 0.720694],\n",
       "       [0.776835, 0.957733],\n",
       "       [0.473218, 0.519051],\n",
       "       [0.803736, 0.374799],\n",
       "       [0.717004, 0.234577]])\n",
       "Coordinates:\n",
       "  * time        (time) float64 0.0 0.1111 0.2222 0.3333 ... 0.7778 0.8889 1.0\n",
       "  * repetition  (repetition) int64 0 1"
      ]
     },
     "execution_count": 49,
     "metadata": {},
     "output_type": "execute_result"
    }
   ],
   "source": [
    "da2  # a reminder. We notice that this could've been a DataFrame as well"
   ]
  },
  {
   "cell_type": "code",
   "execution_count": 50,
   "metadata": {},
   "outputs": [
    {
     "data": {
      "text/plain": [
       "<xarray.Dataset>\n",
       "Dimensions:     (repetition: 2, time: 10)\n",
       "Coordinates:\n",
       "  * time        (time) float64 0.0 0.1111 0.2222 0.3333 ... 0.7778 0.8889 1.0\n",
       "  * repetition  (repetition) int64 0 1\n",
       "Data variables:\n",
       "    ephys       (time, repetition) float64 0.7924 0.4662 0.3428 ... 0.717 0.2346\n",
       "    calcium     (time) float64 0.12 0.8039 0.7131 ... 0.2509 0.644 0.03486\n",
       "Attributes:\n",
       "    AnimalD:         701\n",
       "    ExperimentType:  double\n",
       "    Sex:             Male"
      ]
     },
     "execution_count": 50,
     "metadata": {},
     "output_type": "execute_result"
    }
   ],
   "source": [
    "ds = xr.Dataset({'ephys': da2,\n",
    "                 'calcium': ('time', np.random.random(10))},\n",
    "                attrs={'AnimalD': 701,\n",
    "                       'ExperimentType': 'double',\n",
    "                       'Sex': 'Male'})\n",
    "ds"
   ]
  },
  {
   "cell_type": "code",
   "execution_count": 51,
   "metadata": {},
   "outputs": [
    {
     "data": {
      "text/plain": [
       "<xarray.DataArray 'ephys' (time: 10, repetition: 2)>\n",
       "array([[0.792435, 0.466192],\n",
       "       [0.342819, 0.142081],\n",
       "       [0.622309, 0.682035],\n",
       "       [0.294185, 0.600305],\n",
       "       [0.4853  , 0.060108],\n",
       "       [0.829469, 0.720694],\n",
       "       [0.776835, 0.957733],\n",
       "       [0.473218, 0.519051],\n",
       "       [0.803736, 0.374799],\n",
       "       [0.717004, 0.234577]])\n",
       "Coordinates:\n",
       "  * time        (time) float64 0.0 0.1111 0.2222 0.3333 ... 0.7778 0.8889 1.0\n",
       "  * repetition  (repetition) int64 0 1"
      ]
     },
     "execution_count": 51,
     "metadata": {},
     "output_type": "execute_result"
    }
   ],
   "source": [
    "ds['ephys']  # individual DataArrays can be dissimilar in shape"
   ]
  },
  {
   "cell_type": "markdown",
   "metadata": {},
   "source": [
    "## Exercise - Rat Visual Stimulus Experiment Database"
   ]
  },
  {
   "cell_type": "markdown",
   "metadata": {},
   "source": [
    "You're measuring the potential of neurons in a rat's brain over time in response to flashes of light\n",
    "using a multi-electrode array surgically inserted into the rat's skull. Each trial is two seconds\n",
    "long, and one second into the trial a short, 100 ms, bright light is flashed at the animal. After 30 seconds\n",
    "the experiment is replicated, for a total of 4 repetitions. The relevant parameters are the following:\n",
    "\n",
    "- Rat ID.\n",
    "- Experimenter name.\n",
    "- Rat gender.\n",
    "- Measured voltage (10 electrode, 10k samples representing two seconds).\n",
    "- Stimulus index (mark differently the pre-, during- and post-stimulus time).\n",
    "- Repetition number.\n",
    "\n",
    "Mock data and model it, you can add more parameters if you feel so.\n",
    "\n",
    "Experimental timeline:\n",
    "```\n",
    "       1s          100ms             0.9s             30s\n",
    "Start -----> Flash -----> End flash -----> End trial -----> New trial\n",
    "|                                                                    |\n",
    "|--------------------------------------------------------------------|\n",
    "                                   x4\n",
    "```"
   ]
  },
  {
   "cell_type": "markdown",
   "metadata": {},
   "source": [
    "### Methods and functions to implement"
   ]
  },
  {
   "cell_type": "markdown",
   "metadata": {},
   "source": [
    "1. There should be a class holding this data table, `VisualStimData`, alongside\n",
    "several methods for the analysis of the data. The class should have a `data`\n",
    "attribute containing the data table, in a `xarray.DataArray` or a `xarray.Dataset`.\n",
    "\n",
    "2. Write a function (not a method) that returns an instance of the class with mock data.\n",
    "    ```python\n",
    "    def mock_stim_data() -> VisualStimData:\n",
    "        \"\"\" Creates a new VisualStimData instance with mock data \"\"\"\n",
    "    ```\n",
    "\n",
    "    When simulating the recorded voltage, it's completely fine to not model spikes precisely,\n",
    "    with leaky integration and so forth - randoming numbers and treating them as the recorded\n",
    "    neural potential is fine. There are quite a few ways to model _real_ neurons,\n",
    "    if so you wish, [brian](http://brian2.readthedocs.io/en/stable/index.html) being one\n",
    "    of them. If your own research will benefit from knowing how to use these tools, this\n",
    "    exercise is a great place to start familiarizing yourself with them.\n",
    "\n",
    "3. Write a method that receives a repetition number, rat ID, and a list of electrode numbers,\n",
    "and plots the voltage recorded from these electrodes. The single figure should be\n",
    "divided into however many plots needed, depending on the length of the list of electrode\n",
    "numbers.\n",
    "\n",
    "    ```python\n",
    "    def plot_electrode(self, rep_number: int, rat_id: int, elec_number: tuple=(0,)):\n",
    "        \"\"\"\n",
    "        Plots the voltage of the electrodes in \"elec_number\" for the rat \"rat_id\" in the repetition\n",
    "        \"rep_number\". Shows a single figure with subplots.\n",
    "        \"\"\"\n",
    "    ```\n",
    "\n",
    "4. To see if the different experimenters influence the measurements, write a method that\n",
    "calculates the mean, standard deviation and median of the average voltage trace across all\n",
    "repetitions, for each experimenter, and shows a bar plot of it.\n",
    "\n",
    "    ```python\n",
    "    def experimenter_bias(self):\n",
    "        \"\"\" Shows the statistics of the average recording across all experimenters \"\"\"\n",
    "    ```"
   ]
  },
  {
   "cell_type": "markdown",
   "metadata": {},
   "source": [
    "### Exercise solutions below..."
   ]
  },
  {
   "cell_type": "code",
   "execution_count": 1,
   "metadata": {},
   "outputs": [],
   "source": [
    "import xarray as xr\n",
    "import numpy as np\n",
    "import pandas as pd\n",
    "import matplotlib.pyplot as plt\n",
    "\n",
    "\n",
    "class VisualStimData:\n",
    "    \"\"\"\n",
    "    Data and methods for the visual stimulus ePhys experiment.\n",
    "    The data table itself is held in self.data, an `xarray` object.\n",
    "    Inputs:\n",
    "        data: xr.DataArray or xr.Dataset\n",
    "    Methods:\n",
    "         ...\n",
    "    \"\"\"\n",
    "    def __init__(self, data: xr.Dataset, ):\n",
    "        assert isinstance(data, xr.Dataset)\n",
    "        self.data = data\n",
    "\n",
    "\n",
    "    def plot_electrode(self, rep_number: int, rat_id: int, elec_number: tuple=(0,)):\n",
    "        \"\"\"\n",
    "        Plots the voltage of the electrodes in \"elec_number\" for the rat \"rat_id\" in the repetition\n",
    "        \"rep_number\". Shows a single figure with two subplots, for male and female rats.\n",
    "        \"\"\"\n",
    "        fig, axes = plt.subplots(len(elec_number), 1)\n",
    "        axes = np.array([axes]) if isinstance(axes, plt.Axes) else axes\n",
    "        time = self.data['time']\n",
    "        for ax, elec in zip(axes, elec_number):\n",
    "            to_plot = self.data.sel(rep=rep_number, rat_id=rat_id, elec=elec)['volt'].values\n",
    "            ax.plot(time, to_plot)\n",
    "            ax.set_xlabel('Time [s]')\n",
    "            ax.set_ylabel('Voltage [V]')\n",
    "            ax.set_title(f'Electrode {elec}')\n",
    "\n",
    "        fig.tight_layout()\n",
    "\n",
    "    def experimenter_bias(self):\n",
    "        \"\"\" Shows the statistics of the average recording across all experimenters \"\"\"\n",
    "        names = np.unique(self.data.coords['exp_name'].values)\n",
    "        means = []\n",
    "        stds = []\n",
    "        medians = []\n",
    "        for experimenter in names:\n",
    "            data = self.data.sel(exp_name=experimenter)['volt'].values\n",
    "            means.append(np.abs(data.mean()))\n",
    "            stds.append(np.abs(data.std()))\n",
    "            medians.append(np.abs(np.median(data)))\n",
    "\n",
    "        # Plotting\n",
    "        fig, ax = plt.subplots()\n",
    "        x_locs = np.arange(len(names))\n",
    "        width = 0.3\n",
    "        rect0 = ax.bar(x_locs, means, width, color='C0')\n",
    "        rect1 = ax.bar(x_locs + width, stds, width, color='C1')\n",
    "        rect2 = ax.bar(x_locs - width, medians, width, color='C2')\n",
    "\n",
    "        ax.set_xticks(x_locs)\n",
    "        ax.set_xticklabels(names)\n",
    "        ax.legend((rect0[0], rect1[0], rect2[0]), ('Mean', 'STD', 'Median'))\n",
    "        ax.set_title('Experimenter Bias (absolute values)')\n",
    "        ax.set_ylabel('Volts [V]')"
   ]
  },
  {
   "cell_type": "code",
   "execution_count": 14,
   "metadata": {},
   "outputs": [],
   "source": [
    "def mock_stim_data() -> VisualStimData:\n",
    "    \"\"\" Creates a new VisualStimData instance with mock data \"\"\"\n",
    "    num_of_animals = 20\n",
    "    num_of_reps = 4\n",
    "    reps = np.arange(num_of_reps, dtype=np.uint8)\n",
    "    total_num_of_exp = num_of_animals * num_of_reps\n",
    "    exp_number = np.arange(total_num_of_exp, dtype=np.uint32)\n",
    "    \n",
    "    rat_id_ints, rat_id = _generate_rat_data(num_of_animals)\n",
    "    room_temp, room_humid = _generate_temp_hum_values(total_num_of_exp)\n",
    "    experimenters = _generate_experimenter_names(num_of_animals, num_of_reps)\n",
    "    rat_sex = _generate_rat_gender(num_of_animals, num_of_reps)\n",
    "    stim, electrode_array, time, volt = _generate_voltage_stim(num_of_animals, num_of_reps)\n",
    "\n",
    "    # Construct the Dataset - this could be done with a pd.MultiIndex as well\n",
    "    ds = xr.Dataset({'temp': (['num'], room_temp),\n",
    "                     'humid': (['num'], room_humid),\n",
    "                     'volt': (['elec', 'time', 'rat_id', 'rep'], volt),\n",
    "                     'stim': (['time'], stim)},\n",
    "                    coords={'elec': electrode_array,\n",
    "                            'time': time,\n",
    "                            'rat_id': rat_id,\n",
    "                            'rep': reps,\n",
    "                            'exp_name': experimenters,\n",
    "                            'sex': rat_sex,\n",
    "                            'num': exp_number,\n",
    "                            })\n",
    "\n",
    "    ds.attrs['exp_date'] = pd.to_datetime('today')\n",
    "    ds.attrs['rat_strain'] = 'Sprague Dawley'\n",
    "\n",
    "    return VisualStimData(ds)\n",
    "    \n",
    "def _generate_rat_data(num_of_animals):\n",
    "    rat_id_ints = np.random.choice(np.arange(100, 900), size=300, replace=False)\n",
    "    rat_id = np.random.choice(rat_id_ints, size=num_of_animals, replace=False)\n",
    "    return rat_id_ints, rat_id\n",
    "\n",
    "\n",
    "def _generate_temp_hum_values(total_num_of_exp):\n",
    "    room_temp = np.random.random(total_num_of_exp) * 3 + 23  # between 23 and 26 C\n",
    "    room_humid = np.random.randint(30, 70, size=total_num_of_exp)\n",
    "    return room_temp, room_humid\n",
    "\n",
    "def _generate_experimenter_names(num_of_animals, num_of_reps):\n",
    "    names = ['Dana', 'Motti', 'Sam', 'Daria']\n",
    "    experimenters = np.random.choice(names, size=num_of_animals, replace=True)\n",
    "    experimenters = np.tile(experimenters, num_of_reps)\n",
    "    return experimenters\n",
    "\n",
    "def _generate_rat_gender(num_of_animals, num_of_reps):\n",
    "    sex = ['F', 'M']\n",
    "    rat_sex = np.random.choice(sex, size=num_of_animals, replace=True)\n",
    "    rat_sex = np.tile(rat_sex, num_of_reps)\n",
    "    return rat_sex\n",
    "\n",
    "\n",
    "def _generate_voltage_stim(num_of_animals, num_of_reps):\n",
    "    pre_stim = 1  # seconds\n",
    "    stim_time = 0.1  # seconds\n",
    "    post_stim = 0.9  # seconds\n",
    "    sampling_rate = 5000  # Hz\n",
    "    freq = 1 / sampling_rate\n",
    "    experiment_length = int(pre_stim + stim_time + post_stim)\n",
    "    electrodes = 10\n",
    "    samples = sampling_rate * experiment_length\n",
    "\n",
    "    # Random voltage values from N(0.068, 0.0004)\n",
    "    volt = 0.02 * np.random.randn(electrodes, samples, num_of_animals,\n",
    "                                 num_of_reps).astype(np.float32) - 0.068  # in volts, not millivolts\n",
    "    volt[volt > -0.02] = 0.04  # \"spikes\"\n",
    "    time = pd.date_range(start=pd.to_datetime('today'), periods=experiment_length * sampling_rate,\n",
    "                         freq=f'{freq}S')\n",
    "    electrode_array = np.arange(electrodes, dtype=np.uint16)\n",
    "\n",
    "    # Stim index - -1 is pre, 0 is stim, 1 is post\n",
    "    stim = np.zeros(int(samples), dtype=np.int8)\n",
    "    stim[:int(pre_stim*sampling_rate)] = -1\n",
    "    stim[int((pre_stim + stim_time)*sampling_rate):] += 1\n",
    "    return stim, electrode_array, time, volt"
   ]
  },
  {
   "cell_type": "code",
   "execution_count": 15,
   "metadata": {},
   "outputs": [
    {
     "name": "stderr",
     "output_type": "stream",
     "text": [
      "/home/hagai/miniconda3/envs/course/lib/python3.7/site-packages/pandas/plotting/_converter.py:129: FutureWarning: Using an implicitly registered datetime converter for a matplotlib plotting method. The converter was registered by pandas on import. Future versions of pandas will require you to explicitly register matplotlib converters.\n",
      "\n",
      "To register the converters:\n",
      "\t>>> from pandas.plotting import register_matplotlib_converters\n",
      "\t>>> register_matplotlib_converters()\n",
      "  warnings.warn(msg, FutureWarning)\n"
     ]
    },
    {
     "data": {
      "image/png": "[encoded data removed]",
      "text/plain": [
       "<Figure size 432x288 with 2 Axes>"
      ]
     },
     "metadata": {
      "needs_background": "light"
     },
     "output_type": "display_data"
    },
    {
     "data": {
      "image/png": "[encoded data removed]",
      "text/plain": [
       "<Figure size 432x288 with 1 Axes>"
      ]
     },
     "metadata": {
      "needs_background": "light"
     },
     "output_type": "display_data"
    }
   ],
   "source": [
    "# Run the solution\n",
    "stim_data = mock_stim_data()\n",
    "ids = stim_data.data['rat_id']\n",
    "arr = stim_data.plot_electrode(rep_number=2, rat_id=ids[0], elec_number=(1, 6))\n",
    "stim_data.experimenter_bias()"
   ]
  }
 ],
 "metadata": {
  "anaconda-cloud": {},
  "kernelspec": {
   "display_name": "Python 3",
   "language": "python",
   "name": "python3"
  },
  "language_info": {
   "codemirror_mode": {
    "name": "ipython",
    "version": 3
   },
   "file_extension": ".py",
   "mimetype": "text/x-python",
   "name": "python",
   "nbconvert_exporter": "python",
   "pygments_lexer": "ipython3",
   "version": "3.7.3"
  }
 },
 "nbformat": 4,
 "nbformat_minor": 2
}
