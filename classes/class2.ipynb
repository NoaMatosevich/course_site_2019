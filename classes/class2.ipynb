{
 "cells": [
  {
   "cell_type": "markdown",
   "metadata": {
    "slideshow": {
     "slide_type": "slide"
    }
   },
   "source": [
    "# Class 2 - 11.3.19\n"
   ]
  },
  {
   "cell_type": "markdown",
   "metadata": {
    "slideshow": {
     "slide_type": "subslide"
    }
   },
   "source": [
    "## Conditionals and Iteration"
   ]
  },
  {
   "cell_type": "markdown",
   "metadata": {
    "slideshow": {
     "slide_type": "subslide"
    }
   },
   "source": [
    "Even though you've learned it by yourself in the first class and while doing homework, we'll go through these subjects (quickly) one more time, for the sake of completeness."
   ]
  },
  {
   "cell_type": "markdown",
   "metadata": {
    "slideshow": {
     "slide_type": "subslide"
    }
   },
   "source": [
    "### The `if` Statement"
   ]
  },
  {
   "cell_type": "code",
   "execution_count": 1,
   "metadata": {
    "slideshow": {
     "slide_type": "subslide"
    }
   },
   "outputs": [],
   "source": [
    "# Notice the indentation and colon\n",
    "x = 10\n",
    "if x > 10:\n",
    "    print(\"x is bigger than 10\")"
   ]
  },
  {
   "cell_type": "code",
   "execution_count": 2,
   "metadata": {
    "slideshow": {
     "slide_type": "subslide"
    }
   },
   "outputs": [
    {
     "name": "stdout",
     "output_type": "stream",
     "text": [
      "y\n"
     ]
    }
   ],
   "source": [
    "y = 11\n",
    "if x > y:\n",
    "    print(\"x\")\n",
    "else:\n",
    "    print(\"y\")"
   ]
  },
  {
   "cell_type": "code",
   "execution_count": 3,
   "metadata": {
    "slideshow": {
     "slide_type": "subslide"
    }
   },
   "outputs": [],
   "source": [
    "# Chained conditionals\n",
    "z = 12\n",
    "if x > y:\n",
    "    print(\"x\")\n",
    "elif x > z:\n",
    "    print(\"x > z\")\n",
    "elif z < y:\n",
    "    print(\"z is small\")\n",
    "    if z < x:\n",
    "        print(\"wow, z IS small\")\n",
    "# No need for else"
   ]
  },
  {
   "cell_type": "markdown",
   "metadata": {
    "slideshow": {
     "slide_type": "subslide"
    }
   },
   "source": [
    "### Iteration\n",
    "One of Python's strongest features."
   ]
  },
  {
   "cell_type": "markdown",
   "metadata": {
    "slideshow": {
     "slide_type": "subslide"
    }
   },
   "source": [
    "#### How would one loop in other programming languages? Let's examine MATLAB:\n",
    "\n",
    "\n",
    "```matlab\n",
    "% Sum all items in array\n",
    "data = [10, 20, 30];\n",
    "result = 0;\n",
    "for idx = 1:size(data, 1)\n",
    "    result = result + data(idx);\n",
    "end\n",
    "```\n",
    "    \n"
   ]
  },
  {
   "cell_type": "code",
   "execution_count": 4,
   "metadata": {
    "slideshow": {
     "slide_type": "subslide"
    }
   },
   "outputs": [
    {
     "name": "stdout",
     "output_type": "stream",
     "text": [
      "10\n",
      "20\n",
      "30\n",
      "The result is: 60\n"
     ]
    }
   ],
   "source": [
    "# In Python we can iterate over the values themselves\n",
    "data = [10, 20, 30]\n",
    "result = 0\n",
    "for value in data:\n",
    "    print(value)\n",
    "    result += value\n",
    "\n",
    "print(\"The result is:\", result)\n",
    "\n",
    "# We iterate over the values with the \"in\" operator."
   ]
  },
  {
   "cell_type": "code",
   "execution_count": 5,
   "metadata": {
    "slideshow": {
     "slide_type": "subslide"
    }
   },
   "outputs": [
    {
     "name": "stdout",
     "output_type": "stream",
     "text": [
      "60\n"
     ]
    }
   ],
   "source": [
    "# Of course we can iterate over indices\n",
    "indices = [0, 1, 2]  # 0-based indexing\n",
    "data = [10, 20, 30]\n",
    "result = 0\n",
    "for idx in indices:\n",
    "    result += data[idx]\n",
    "print(result)"
   ]
  },
  {
   "cell_type": "code",
   "execution_count": 6,
   "metadata": {
    "slideshow": {
     "slide_type": "subslide"
    }
   },
   "outputs": [
    {
     "name": "stdout",
     "output_type": "stream",
     "text": [
      "0\n",
      "1\n",
      "2\n",
      "3\n",
      "4\n",
      "5\n",
      "6\n",
      "7\n",
      "8\n",
      "9\n"
     ]
    },
    {
     "data": {
      "text/plain": [
       "range(0, 10000000)"
      ]
     },
     "execution_count": 6,
     "metadata": {},
     "output_type": "execute_result"
    }
   ],
   "source": [
    "# In some cases you really do need to use indices. In these cases, the range() function is your friend.\n",
    "for i in range(10):\n",
    "    print(i)\n",
    "\n",
    "# Range is a \"generator\" (well, kinda), which means that it doesn't create the actual \n",
    "# list of items when it's called - only when iterated over.\n",
    "# We'll discuss generators at a later stage of our course.\n",
    "range(10000000)  # requires nearly 0 memory"
   ]
  },
  {
   "cell_type": "code",
   "execution_count": 7,
   "metadata": {
    "slideshow": {
     "slide_type": "subslide"
    }
   },
   "outputs": [
    {
     "data": {
      "text/plain": [
       "[1, 3, 5, 7, 9]"
      ]
     },
     "execution_count": 7,
     "metadata": {},
     "output_type": "execute_result"
    }
   ],
   "source": [
    "# Range has a start, stop and step arguments\n",
    "list(range(1, 10, 2))"
   ]
  },
  {
   "cell_type": "code",
   "execution_count": 8,
   "metadata": {
    "slideshow": {
     "slide_type": "subslide"
    }
   },
   "outputs": [
    {
     "name": "stdout",
     "output_type": "stream",
     "text": [
      "1\n",
      "2\n",
      "True\n",
      "3.0\n",
      "four\n",
      "--------\n",
      "a\n",
      "b\n",
      "c\n",
      "d\n",
      "e\n",
      "f\n"
     ]
    }
   ],
   "source": [
    "# We can iterate over nearly anything - two examples follow:\n",
    "tup = (1, 2, True, 3.0, 'four')\n",
    "for item in tup:\n",
    "    print(item)\n",
    "\n",
    "print('--------')\n",
    "string = \"abcdef\"\n",
    "for letter in string:\n",
    "    print(letter)"
   ]
  },
  {
   "cell_type": "code",
   "execution_count": 9,
   "metadata": {
    "slideshow": {
     "slide_type": "subslide"
    }
   },
   "outputs": [
    {
     "name": "stdout",
     "output_type": "stream",
     "text": [
      "The index of the item 1 is 0\n",
      "The index of the item 2 is 1\n",
      "The index of the item True is 2\n",
      "The index of the item 3.0 is 3\n",
      "The index of the item four is 4\n"
     ]
    }
   ],
   "source": [
    "# Getting both the index and the value of some sequence is done using the \"enumerate\" keyword:\n",
    "tup = (1, 2, True, 3.0, 'four')\n",
    "for index, item in enumerate(tup):\n",
    "    print(\"The index of the item %s is %d\" %(item, index))\n",
    "    "
   ]
  },
  {
   "cell_type": "code",
   "execution_count": 10,
   "metadata": {
    "slideshow": {
     "slide_type": "subslide"
    }
   },
   "outputs": [
    {
     "name": "stdout",
     "output_type": "stream",
     "text": [
      "a\n",
      "e\n",
      "ed\n"
     ]
    }
   ],
   "source": [
    "# By the way, it means that strings are also sliceable\n",
    "string = 'abcde'\n",
    "print(string[0])\n",
    "print(string[-1])\n",
    "print(string[-1:-3:-1])"
   ]
  },
  {
   "cell_type": "code",
   "execution_count": 11,
   "metadata": {
    "slideshow": {
     "slide_type": "subslide"
    }
   },
   "outputs": [
    {
     "name": "stdout",
     "output_type": "stream",
     "text": [
      "Key iteration:\n",
      "a\n",
      "b\n",
      "c\n",
      "-----\n",
      "Value iteration:\n",
      "1\n",
      "2\n",
      "3\n",
      "-----\n",
      "Pairs iteration:\n",
      "a 1\n",
      "b 2\n",
      "c 3\n"
     ]
    }
   ],
   "source": [
    "# Dictionary iteration - the default is over the keys\n",
    "print('Key iteration:')\n",
    "dict1 = {'a': 1, 'b': 2, 'c': 3}\n",
    "for key in dict1:\n",
    "    print(key)\n",
    "    \n",
    "print('-----')\n",
    "print('Value iteration:')\n",
    "# If you wish to iterate over the values you have to be explicit:\n",
    "for val in dict1.values():\n",
    "    print(val)\n",
    "\n",
    "print('-----')\n",
    "print('Pairs iteration:')\n",
    "# Iterating over the pair is also easy:\n",
    "for key, val in dict1.items():\n",
    "    print(key, val)"
   ]
  },
  {
   "cell_type": "markdown",
   "metadata": {
    "slideshow": {
     "slide_type": "subslide"
    }
   },
   "source": [
    "### While Loop"
   ]
  },
  {
   "cell_type": "code",
   "execution_count": 12,
   "metadata": {
    "slideshow": {
     "slide_type": "subslide"
    }
   },
   "outputs": [],
   "source": [
    "def countdown(n):\n",
    "    \"\"\" Explodes a bomb when n is zero. \"\"\"\n",
    "    while n > 0:\n",
    "        print(\"{}...\".format(n))\n",
    "        n = n - 1\n",
    "    print(\"BOOM!\")\n",
    "    return True"
   ]
  },
  {
   "cell_type": "code",
   "execution_count": 13,
   "metadata": {
    "slideshow": {
     "slide_type": "subslide"
    }
   },
   "outputs": [
    {
     "name": "stdout",
     "output_type": "stream",
     "text": [
      "10...\n",
      "9...\n",
      "8...\n",
      "7...\n",
      "6...\n",
      "5...\n",
      "4...\n",
      "3...\n",
      "2...\n",
      "1...\n",
      "BOOM!\n",
      "True\n"
     ]
    }
   ],
   "source": [
    "n = 10\n",
    "val = countdown(n)\n",
    "\n",
    "print(val)"
   ]
  },
  {
   "cell_type": "code",
   "execution_count": 14,
   "metadata": {
    "slideshow": {
     "slide_type": "subslide"
    }
   },
   "outputs": [
    {
     "name": "stdout",
     "output_type": "stream",
     "text": [
      "Still 1...\n",
      "Still 1...\n",
      "Still 1...\n",
      "4.0\n"
     ]
    }
   ],
   "source": [
    "# Stopping a loop is done with break\n",
    "data = [1., 1., 1., 4.,]\n",
    "for datum in data:\n",
    "    if datum != 1.:\n",
    "        print(datum)\n",
    "        break\n",
    "    print(\"Still 1...\")"
   ]
  },
  {
   "cell_type": "markdown",
   "metadata": {
    "slideshow": {
     "slide_type": "slide"
    }
   },
   "source": [
    "## Formatting\n",
    "\n",
    "We can print together variables and text in several different manners:"
   ]
  },
  {
   "cell_type": "code",
   "execution_count": 15,
   "metadata": {
    "slideshow": {
     "slide_type": "subslide"
    }
   },
   "outputs": [
    {
     "name": "stdout",
     "output_type": "stream",
     "text": [
      "The value of a is 42\n"
     ]
    }
   ],
   "source": [
    "# Not recommended as it doesn't allow for customizations\n",
    "a = 42\n",
    "print(\"The value of a is\", a)"
   ]
  },
  {
   "cell_type": "code",
   "execution_count": 16,
   "metadata": {
    "slideshow": {
     "slide_type": "subslide"
    }
   },
   "outputs": [
    {
     "name": "stdout",
     "output_type": "stream",
     "text": [
      "The value of a is 42, while the value of b is 32\n"
     ]
    }
   ],
   "source": [
    "# Older version, similar to other languages\n",
    "a = 42\n",
    "b = 32\n",
    "print(\"The value of a is %d, while the value of b is %d\" % (a, b))"
   ]
  },
  {
   "cell_type": "code",
   "execution_count": 17,
   "metadata": {
    "slideshow": {
     "slide_type": "subslide"
    }
   },
   "outputs": [
    {
     "name": "stdout",
     "output_type": "stream",
     "text": [
      "The value of a is 42, while the value of b is 32\n"
     ]
    }
   ],
   "source": [
    "# A decent option\n",
    "a = 42\n",
    "b = 32\n",
    "print(\"The value of a is {}, while the value of b is {}\".format(a, b))"
   ]
  },
  {
   "cell_type": "code",
   "execution_count": 18,
   "metadata": {},
   "outputs": [
    {
     "name": "stdout",
     "output_type": "stream",
     "text": [
      "The value of a is 42, while the value of b is 32\n"
     ]
    }
   ],
   "source": [
    "# Only for Python 3.6+ - but it's pretty cool. It's called f-strings\n",
    "a = 42\n",
    "b = 32\n",
    "print(f\"The value of a is {a}, while the value of b is {b}\")"
   ]
  },
  {
   "cell_type": "code",
   "execution_count": 19,
   "metadata": {
    "slideshow": {
     "slide_type": "subslide"
    }
   },
   "outputs": [
    {
     "name": "stdout",
     "output_type": "stream",
     "text": [
      "The value of a is 42.00, while the value of b is not 33.\n"
     ]
    }
   ],
   "source": [
    "# Another example\n",
    "a = 42\n",
    "b = 32\n",
    "print(f\"The value of a is {a:.2f}, while the value of b is not {b + 1}.\")\n",
    "# You can write any expression you'd like inside the curly brackets."
   ]
  },
  {
   "cell_type": "markdown",
   "metadata": {
    "slideshow": {
     "slide_type": "subslide"
    }
   },
   "source": [
    "Throughout the course you'll see me using mostly the f-string option, which is the most readable assuming you only work on Python 3.6+."
   ]
  },
  {
   "cell_type": "markdown",
   "metadata": {
    "slideshow": {
     "slide_type": "slide"
    }
   },
   "source": [
    "## Comprehensions"
   ]
  },
  {
   "cell_type": "markdown",
   "metadata": {
    "slideshow": {
     "slide_type": "subslide"
    }
   },
   "source": [
    "If you're still not convinced on this whole Python business, comprehensions might be the thing that will flip you to the good side. Comprehensions are a different way to create lists and other iterables. It's usually faster and more readable than the alternatives.\n",
    "\n",
    "Assume we wish to create a list with the squared values of the numbers in the range [0, 10). Let's observe the different implementation options we have:"
   ]
  },
  {
   "cell_type": "code",
   "execution_count": 20,
   "metadata": {
    "slideshow": {
     "slide_type": "subslide"
    }
   },
   "outputs": [
    {
     "name": "stdout",
     "output_type": "stream",
     "text": [
      "[0, 1, 4, 9, 16, 25, 36, 49, 64, 81]\n"
     ]
    }
   ],
   "source": [
    "# Populate the list the usual way\n",
    "squares = []\n",
    "for item in range(10):\n",
    "    squares.append(item ** 2)\n",
    "    \n",
    "print(squares)"
   ]
  },
  {
   "cell_type": "code",
   "execution_count": 21,
   "metadata": {
    "slideshow": {
     "slide_type": "subslide"
    }
   },
   "outputs": [
    {
     "name": "stdout",
     "output_type": "stream",
     "text": [
      "[0, 1, 4, 9, 16, 25, 36, 49, 64, 81]\n"
     ]
    }
   ],
   "source": [
    "# A classic Python one-liner - list comprehension\n",
    "squares = [x ** 2 for x in range(10)]\n",
    "\n",
    "print(squares)"
   ]
  },
  {
   "cell_type": "markdown",
   "metadata": {
    "slideshow": {
     "slide_type": "subslide"
    }
   },
   "source": [
    "This amazing piece of software iterates of the range with the variable `x`, and places its square inside a list, which is then allocated to the `squares` variable.\n",
    "\n",
    "What other goodies do comprehensions allow? Filtering."
   ]
  },
  {
   "cell_type": "code",
   "execution_count": 22,
   "metadata": {
    "slideshow": {
     "slide_type": "subslide"
    }
   },
   "outputs": [
    {
     "name": "stdout",
     "output_type": "stream",
     "text": [
      "[0, 1, 4, 9, 16, 25, 36, 49, 81]\n"
     ]
    }
   ],
   "source": [
    "squares = [x ** 2 for x in range(10) if x != 8]\n",
    "\n",
    "print(squares)"
   ]
  },
  {
   "cell_type": "markdown",
   "metadata": {
    "slideshow": {
     "slide_type": "subslide"
    }
   },
   "source": [
    "The `if` statement is evaluated on each iteration of `x`. Notice how similar to English this expression is?\n",
    "\n",
    "Funnily enough, performance isn't hindered:"
   ]
  },
  {
   "cell_type": "code",
   "execution_count": 23,
   "metadata": {
    "slideshow": {
     "slide_type": "subslide"
    }
   },
   "outputs": [
    {
     "name": "stdout",
     "output_type": "stream",
     "text": [
      "34.3 µs ± 1.9 µs per loop (mean ± std. dev. of 7 runs, 10000 loops each)\n"
     ]
    }
   ],
   "source": [
    "%timeit squares = [x ** 2 for x in range(100) if x != 8]"
   ]
  },
  {
   "cell_type": "code",
   "execution_count": 24,
   "metadata": {
    "slideshow": {
     "slide_type": "subslide"
    }
   },
   "outputs": [
    {
     "name": "stdout",
     "output_type": "stream",
     "text": [
      "41.1 µs ± 3.19 µs per loop (mean ± std. dev. of 7 runs, 10000 loops each)\n"
     ]
    }
   ],
   "source": [
    "%%timeit\n",
    "squares = []\n",
    "for item in range(100):\n",
    "    if item != 8:\n",
    "        squares.append(item ** 2)"
   ]
  },
  {
   "cell_type": "code",
   "execution_count": 25,
   "metadata": {
    "slideshow": {
     "slide_type": "subslide"
    }
   },
   "outputs": [
    {
     "name": "stdout",
     "output_type": "stream",
     "text": [
      "['B', 'C', 'D', 'F', 'G', 'H', 'J']\n"
     ]
    }
   ],
   "source": [
    "# Another example\n",
    "strings = [cons.upper() for cons in 'abcdefghij' if cons not in 'aeiou']\n",
    "\n",
    "print(strings)"
   ]
  },
  {
   "cell_type": "markdown",
   "metadata": {
    "slideshow": {
     "slide_type": "subslide"
    }
   },
   "source": [
    "Happily enough, comprehensions aren't limited to lists. You can also comprehend dictionaries, but for that you'll need the built-in `zip` function:"
   ]
  },
  {
   "cell_type": "code",
   "execution_count": 26,
   "metadata": {
    "slideshow": {
     "slide_type": "subslide"
    }
   },
   "outputs": [
    {
     "name": "stdout",
     "output_type": "stream",
     "text": [
      "a 1 True\n",
      "b 2 True\n",
      "c 3 False\n"
     ]
    }
   ],
   "source": [
    "keys = 'abcde'\n",
    "vals = [1, 2, 3, 4, 5]\n",
    "bools = [True, True, False]\n",
    "# Zip bundles up these iterables together, allowing iteration\n",
    "for a, b, c in zip(keys, vals, bools):\n",
    "    print(a, b, c)"
   ]
  },
  {
   "cell_type": "code",
   "execution_count": 27,
   "metadata": {
    "slideshow": {
     "slide_type": "subslide"
    }
   },
   "outputs": [
    {
     "name": "stdout",
     "output_type": "stream",
     "text": [
      "{'a': 1, 'b': 2, 'd': 4, 'e': 5}\n",
      "{'a': 1, 'b': 2, 'c': 3, 'd': 4, 'e': 5}\n"
     ]
    }
   ],
   "source": [
    "# With zip we can bundle up the pairs of key-value\n",
    "keys = 'abcde'\n",
    "vals = [1, 2, 3, 4, 5]\n",
    "dic = {key: val for key, val in zip(keys, vals) if key is not 'c'}\n",
    "\n",
    "print(dic)\n",
    "\n",
    "# If we didn't want to use the \"if\" part of the comprehension - this is easier:    \n",
    "dict3 = dict(zip(keys, vals))\n",
    "print(dict3)"
   ]
  },
  {
   "cell_type": "code",
   "execution_count": 28,
   "metadata": {
    "slideshow": {
     "slide_type": "subslide"
    }
   },
   "outputs": [
    {
     "name": "stdout",
     "output_type": "stream",
     "text": [
      "{1, 5, 6, 7}\n"
     ]
    }
   ],
   "source": [
    "# And set comprehension\n",
    "se = {item for item in [1, 1, 1, 5, 6, 7, 7]}\n",
    "\n",
    "print(se)"
   ]
  },
  {
   "cell_type": "markdown",
   "metadata": {
    "slideshow": {
     "slide_type": "subslide"
    }
   },
   "source": [
    "Lastly, list comprehensions can iterate over more than one iterable:"
   ]
  },
  {
   "cell_type": "code",
   "execution_count": 29,
   "metadata": {
    "slideshow": {
     "slide_type": "subslide"
    }
   },
   "outputs": [
    {
     "name": "stdout",
     "output_type": "stream",
     "text": [
      "[10, 11, 12, 13, 14, 15, 16, 17, 18, 19, 11, 12, 13, 14, 15, 16, 17, 18, 19, 20, 12, 13, 14, 15, 16, 17, 18, 19, 20, 21, 13, 14, 15, 16, 17, 18, 19, 20, 21, 22, 14, 15, 16, 17, 18, 19, 20, 21, 22, 23, 15, 16, 17, 18, 19, 20, 21, 22, 23, 24, 16, 17, 18, 19, 20, 21, 22, 23, 24, 25, 17, 18, 19, 20, 21, 22, 23, 24, 25, 26, 18, 19, 20, 21, 22, 23, 24, 25, 26, 27, 19, 20, 21, 22, 23, 24, 25, 26, 27, 28]\n"
     ]
    }
   ],
   "source": [
    "summed_list = [a + b for a in range(10) for b in range(10, 20)]\n",
    "\n",
    "# Identical to:\n",
    "\"\"\"\n",
    "summed_list = []\n",
    "for a in range(10):\n",
    "    for b in range(10, 20):\n",
    "        summed_list.append(a + b)\n",
    "\"\"\"\n",
    "print(summed_list)"
   ]
  },
  {
   "cell_type": "markdown",
   "metadata": {
    "slideshow": {
     "slide_type": "subslide"
    }
   },
   "source": [
    "Once your eyes and brains are used to looking at comprehensions, they're the most \"natural\" way to iterate over iterables. Their brevity on the one hand, and readability on the other, are their most important features. That's why comprehension are very encouraged when writing true \"Pythonic\" code."
   ]
  },
  {
   "cell_type": "markdown",
   "metadata": {
    "slideshow": {
     "slide_type": "slide"
    }
   },
   "source": [
    "## Function Default Arguments"
   ]
  },
  {
   "cell_type": "markdown",
   "metadata": {
    "slideshow": {
     "slide_type": "subslide"
    }
   },
   "source": [
    "One thing we didn't show when introducing function was the default argument value feature of function definitions. \n",
    "\n",
    "Say you have a function which calculates the nth-power of any number its given. It obviously has to be given two inputs - the number and the power by which it will be multiplied. Here's such a function:"
   ]
  },
  {
   "cell_type": "code",
   "execution_count": 44,
   "metadata": {
    "slideshow": {
     "slide_type": "subslide"
    }
   },
   "outputs": [],
   "source": [
    "import math\n",
    "\n",
    "\n",
    "def power_of(x, power):\n",
    "    \"\"\" Raises x to the power of power \"\"\"\n",
    "    return math.pow(x, power)"
   ]
  },
  {
   "cell_type": "markdown",
   "metadata": {
    "slideshow": {
     "slide_type": "subslide"
    }
   },
   "source": [
    "This function works wonderfully, but we're assuming that most of the times users will raise `x` to the power of two. If we want to save the hassle for the caller, we can use default arguments when defining the function:"
   ]
  },
  {
   "cell_type": "code",
   "execution_count": 45,
   "metadata": {
    "slideshow": {
     "slide_type": "subslide"
    }
   },
   "outputs": [],
   "source": [
    "def power_of(x, power=2):\n",
    "    \"\"\" Raises x to the power of power \"\"\"\n",
    "    return math.pow(x, power)"
   ]
  },
  {
   "cell_type": "markdown",
   "metadata": {
    "slideshow": {
     "slide_type": "subslide"
    }
   },
   "source": [
    "We can now call this function either with the power argument or without it, which will default it to 2:"
   ]
  },
  {
   "cell_type": "code",
   "execution_count": 47,
   "metadata": {
    "slideshow": {
     "slide_type": "subslide"
    }
   },
   "outputs": [
    {
     "name": "stdout",
     "output_type": "stream",
     "text": [
      "1000.0\n",
      "100.0\n"
     ]
    }
   ],
   "source": [
    "print(power_of(10, 3))\n",
    "\n",
    "print(power_of(10))"
   ]
  },
  {
   "cell_type": "markdown",
   "metadata": {
    "slideshow": {
     "slide_type": "slide"
    }
   },
   "source": [
    "# Version Control"
   ]
  },
  {
   "cell_type": "markdown",
   "metadata": {
    "slideshow": {
     "slide_type": "slide"
    }
   },
   "source": [
    "## Introduction"
   ]
  },
  {
   "cell_type": "markdown",
   "metadata": {
    "slideshow": {
     "slide_type": "subslide"
    }
   },
   "source": [
    "Version control is the active management of the history of your source code. It is an essential part of every developers' work cycle, for both small and large projects.\n",
    "\n",
    "With version control, in any point in time during the work on your code you can decide to \"commit\" the change. Committing your code means that the system will remember the current state of your work (all files in a folder), and will allow you to return to this exact state of your codebase whenever you wish."
   ]
  },
  {
   "cell_type": "markdown",
   "metadata": {
    "slideshow": {
     "slide_type": "subslide"
    }
   },
   "source": [
    "Using version control is orthogonal to the traditional save operation. Saving records the current state of your codebase, but usually doesn't allow you to \"go back in time\" to previous versions.\n",
    "\n",
    "This property is useful in many occasions. For example, if you have a working version of some function, but you wish to make it better - add a feature, or change its internal structure (refactoring). Version control allows you to record this point in time - when you have a good, functioning function - and change the working copy of the function however you'd like. If you fail to refactor the function you can simply jump back to the latest working version."
   ]
  },
  {
   "cell_type": "markdown",
   "metadata": {
    "slideshow": {
     "slide_type": "subslide"
    }
   },
   "source": [
    "There are many version control applications, but the most popular one is Git, developed by Linus Torvald (the Linux guy) in the early 2000's. In this course we'll be using Git with GitHub.com - an online backup site for your code.\n",
    "\n",
    "There are numerous great Git and GitHub tutorials ([here's one](https://github.com/pluralsight/git-internals-pdf)), but for our course we'll be using only the most basic features of Git and GitHub, so going through all features and intricacies of the software is unnecessary. `PythonSetup.md` contains instructions on how to setup Git and GitHub, which should be enough for homework submission."
   ]
  },
  {
   "cell_type": "markdown",
   "metadata": {
    "slideshow": {
     "slide_type": "slide"
    }
   },
   "source": [
    "## A Simple Walkthrough (command line)"
   ]
  },
  {
   "cell_type": "markdown",
   "metadata": {
    "slideshow": {
     "slide_type": "subslide"
    }
   },
   "source": [
    "Assume I have a directory that I wish to track with Git:\n",
    "- /home/\n",
    "    - my_proj/\n",
    "        - `__init__.py`\n",
    "        - `class1.py`\n",
    "        - `class2.py`\n",
    "        - README.md\n",
    "    - etc/\n",
    "    - etc2/\n",
    "\n",
    "Git is usually run fro the command line. Navigate (in the command line) to the `my_proj` folder (using `cd`) and write `git init`. This signifies that the current folder should be tracked by Git."
   ]
  },
  {
   "cell_type": "markdown",
   "metadata": {
    "slideshow": {
     "slide_type": "subslide"
    }
   },
   "source": [
    "Next I wish to tell Git which files to track, which is called \"adding the files\". I can either name all specific files inside `my_proj`, or just write `git add .`. The dot means \"the entire folder\".\n",
    "\n",
    "Now git remembers that inside the `my_proj` folder, all files should be tracked."
   ]
  },
  {
   "cell_type": "markdown",
   "metadata": {
    "slideshow": {
     "slide_type": "subslide"
    }
   },
   "source": [
    "Finally I wish to commit the initial state of my repository (repo). To do so I write `git commit -m \"Initial commit\"`.\n",
    "\n",
    "The flag `-m` is the commit message - it should signify what has changed in this commit since the last one."
   ]
  },
  {
   "cell_type": "markdown",
   "metadata": {
    "slideshow": {
     "slide_type": "subslide"
    }
   },
   "source": [
    "If you create new files, you have to remember to add the with `git add new_file.py`, otherwise they won't be tracked and committed. \n",
    "\n",
    "This created a local repo in our computer. If the whole folder is erased our backups and commit history go away with it as well. \n",
    "\n",
    "To make an online backup for a repository you use `git push`. I won't go over it right now, but `HW1.md` has instructions about it, and you can also ask me if there's anything unclear. Since GitHub is the only available way to submit homework in this course, learning how to push commits is essentially mandatory :)"
   ]
  },
  {
   "cell_type": "markdown",
   "metadata": {
    "slideshow": {
     "slide_type": "slide"
    }
   },
   "source": [
    "# The Python Stack"
   ]
  },
  {
   "cell_type": "markdown",
   "metadata": {
    "slideshow": {
     "slide_type": "slide"
    }
   },
   "source": [
    "## How to Run Python?"
   ]
  },
  {
   "cell_type": "markdown",
   "metadata": {
    "slideshow": {
     "slide_type": "subslide"
    }
   },
   "source": [
    "### How does Matlab do it?\n",
    "\n",
    "MATLAB has its excellent application GUI which essentially everyone uses all the time.\n",
    "\n",
    "But all interpreted programming languages, including Python and MATLAB, can be run from the command line. \n",
    "\n",
    "In the case of MATLAB, though, rarely do you see people running it from the command line:\n",
    "\n",
    "![MATLAB from the CL](matlab_cl.png)"
   ]
  },
  {
   "cell_type": "markdown",
   "metadata": {
    "slideshow": {
     "slide_type": "subslide"
    }
   },
   "source": [
    "It's obviously possible, but less comfortable than the standard GUI we all know.\n",
    "\n",
    "If all you wish to do is run a MATLAB `.m` file, you can also do it from the command line by simply writing `matlab -r myfile.m`. "
   ]
  },
  {
   "cell_type": "markdown",
   "metadata": {
    "slideshow": {
     "slide_type": "subslide"
    }
   },
   "source": [
    "### Python is very similar\n",
    "Just like MATLAB, the quickest option to run Python is from the command line, by simply writing `python`:\n",
    "\n",
    "![Python CL](python_cl.png)\n",
    "\n",
    "Running Python scripts, like `myfile.py`, is as easy as `python myfile.py`."
   ]
  },
  {
   "cell_type": "markdown",
   "metadata": {
    "slideshow": {
     "slide_type": "subslide"
    }
   },
   "source": [
    "### Python \"GUI\"\n",
    "\n",
    "However, more often than not we wish to both write a script, experiment with it a little, and then run it, just as some of us are used to do from the MATLAB environment. Python, being non-propietary, has several similar solutions that go by the general name IDE - integrated development enviornment."
   ]
  },
  {
   "cell_type": "markdown",
   "metadata": {
    "slideshow": {
     "slide_type": "subslide"
    }
   },
   "source": [
    "### Spyder\n",
    "Spyder is an open-source science-oriented IDE that was designed with MATLAB's GUI in mind. It contains many similar functions and might look very similar in a short glance:\n",
    "\n",
    "![Spyder IDE](extra_material/spyder.png)\n",
    "\n",
    "Unfortunately, Spyder's main financial support was cut off in November 2017. It's still in active development, but on a much slower pace, and its future is unclear at the moment."
   ]
  },
  {
   "cell_type": "markdown",
   "metadata": {
    "slideshow": {
     "slide_type": "subslide"
    }
   },
   "source": [
    "### PyCharm\n",
    "PyCharm is a full-blown IDE which contains many advanced features that any modern IDE has, like refactoring capabilities, testing suites and more. It has a free community edition, and a paid proffessional edition - which is actually free for poor students like us:\n",
    "\n",
    "![PyCharm IDE](extra_material/pycharm.jpg)"
   ]
  },
  {
   "cell_type": "markdown",
   "metadata": {
    "slideshow": {
     "slide_type": "subslide"
    }
   },
   "source": [
    "### Visual Studio Code\n",
    "VSCode is a free, open-source editor for nearly all existing programming languages. It doesn't have all features that PyCharm has, but it's great nonetheless. The fact that it's a light-weight editor is an advantage for some.\n",
    "\n",
    "![VS Code](extra_material/vs_code.jpg)"
   ]
  },
  {
   "cell_type": "markdown",
   "metadata": {
    "slideshow": {
     "slide_type": "subslide"
    }
   },
   "source": [
    "### Jupyter Notebook\n",
    "While not technically an IDE, Jupyter is designed with data exploration in mind. It's less suited for writing long, complex application, but great when it comes for a quick \"plot-n-go\" on some data you recently acquired."
   ]
  },
  {
   "cell_type": "markdown",
   "metadata": {
    "slideshow": {
     "slide_type": "subslide"
    }
   },
   "source": [
    "### What's Best?\n",
    "There's no __best__ option, but in broad strokes:\n",
    "* When you wish to do something \"quick-and-dirty\", you should probably use Jupyter. This can be thought of as the stand-in replacement for \"smart\" Excel spreadsheets.\n",
    "* For more complicated analysis scripts I prefer VSCode, which grants you with enough power in your fingertips without being too complicated."
   ]
  },
  {
   "cell_type": "markdown",
   "metadata": {
    "slideshow": {
     "slide_type": "slide"
    }
   },
   "source": [
    "# The Module System and Its Uses"
   ]
  },
  {
   "cell_type": "markdown",
   "metadata": {
    "slideshow": {
     "slide_type": "slide"
    }
   },
   "source": [
    "## Namespaces"
   ]
  },
  {
   "cell_type": "markdown",
   "metadata": {
    "slideshow": {
     "slide_type": "subslide"
    }
   },
   "source": [
    "One of the largest differences between Python and MATLAB is the concept of namespaces. At first it's also one of the most aggrevating differences. But I promise that sooner than later you'll understand its importance, and start disliking MATLAB's approach."
   ]
  },
  {
   "cell_type": "markdown",
   "metadata": {
    "slideshow": {
     "slide_type": "subslide"
    }
   },
   "source": [
    "Namespaces is a system set to avoid ambiguity. We have many Hagai's, but much less Hagai Har-Gil's. In computers, we can have many files with the name `test1.py` saved in _different folders_ of our harddrive. In contrast - we can only have one `test1.py` per folder, since the file system dislikes these collisions."
   ]
  },
  {
   "cell_type": "markdown",
   "metadata": {
    "slideshow": {
     "slide_type": "subslide"
    }
   },
   "source": [
    "Similarly, In Python we have to declare which namespace does our function belong to. Usually functions aren't included in the scope of the program until we `import` them. After importing we can use the function with its \"pathname\", i.e. the module it belongs to. This way, the same identifier (function name, class name, etc.) can be used multiple times in different modules."
   ]
  },
  {
   "cell_type": "markdown",
   "metadata": {
    "slideshow": {
     "slide_type": "subslide"
    }
   },
   "source": [
    "You might have realised that you're already familiar with this topic from your previous usage of functions. The following example should be clear:"
   ]
  },
  {
   "cell_type": "code",
   "execution_count": 30,
   "metadata": {
    "slideshow": {
     "slide_type": "subslide"
    }
   },
   "outputs": [
    {
     "name": "stdout",
     "output_type": "stream",
     "text": [
      "Inside the function, a=2\n",
      "But outside of it, a=1\n"
     ]
    }
   ],
   "source": [
    "# Namespaces are defined inside functions\n",
    "a = 1\n",
    "def f(a):\n",
    "    \"\"\" Scopes and namespaces exemplified \"\"\"\n",
    "    a = 2\n",
    "    print(f\"Inside the function, a={a}\")  # Python 3.6 f-strings are kinda awesome...\n",
    "f(a)\n",
    "print(f\"But outside of it, a={a}\")"
   ]
  },
  {
   "cell_type": "markdown",
   "metadata": {
    "slideshow": {
     "slide_type": "subslide"
    }
   },
   "source": [
    "Namespaces for modules are the same. Python modules are an object with variables, classes and functions in it. A module can be a single class, a file or a folder containing files and other sub-folders. As we've said, a module is brought into scope (into our namespace) with the import statement:"
   ]
  },
  {
   "cell_type": "code",
   "execution_count": 31,
   "metadata": {
    "slideshow": {
     "slide_type": "subslide"
    }
   },
   "outputs": [
    {
     "data": {
      "text/plain": [
       "3.141592653589793"
      ]
     },
     "execution_count": 31,
     "metadata": {},
     "output_type": "execute_result"
    }
   ],
   "source": [
    "# The objects \"math\" or \"pi\" do not exist here yet.\n",
    "import math\n",
    "math.pi"
   ]
  },
  {
   "cell_type": "markdown",
   "metadata": {
    "slideshow": {
     "slide_type": "subslide"
    }
   },
   "source": [
    "`pi` is only defined in the context of the `math` module. Without the import statement there's no special meaning attached to neither `math` nor `pi`, and they can be used as normal variables."
   ]
  },
  {
   "cell_type": "code",
   "execution_count": 32,
   "metadata": {
    "slideshow": {
     "slide_type": "subslide"
    }
   },
   "outputs": [
    {
     "data": {
      "text/plain": [
       "'/'"
      ]
     },
     "execution_count": 32,
     "metadata": {},
     "output_type": "execute_result"
    }
   ],
   "source": [
    "import os\n",
    "os.sep"
   ]
  },
  {
   "cell_type": "markdown",
   "metadata": {
    "slideshow": {
     "slide_type": "subslide"
    }
   },
   "source": [
    "When we try to use a function, class or constant from a package (module) we didn't import, we'll receive a `NameError`. That's also the exception raised when we try to use a variable that didn't exist beforehand."
   ]
  },
  {
   "cell_type": "markdown",
   "metadata": {
    "slideshow": {
     "slide_type": "slide"
    }
   },
   "source": [
    "## The Default Python Namespace"
   ]
  },
  {
   "cell_type": "markdown",
   "metadata": {
    "slideshow": {
     "slide_type": "subslide"
    }
   },
   "source": [
    "Python comes with many functions already defined, which we've obviously met:\n",
    "```python\n",
    "list(), dict(), set(), int(), float()\n",
    "```\n",
    "and it also has many keywords, some reserved and some are not:\n",
    "```python\n",
    "int, class, def, return\n",
    "```"
   ]
  },
  {
   "cell_type": "markdown",
   "metadata": {
    "slideshow": {
     "slide_type": "subslide"
    }
   },
   "source": [
    "The true power of Python comes from its ecosystem. Its one of the largest and most comprehensive around, certainly for a scripting language, and allows you to do basically whatever you want with minimum effort."
   ]
  },
  {
   "cell_type": "code",
   "execution_count": 33,
   "metadata": {
    "slideshow": {
     "slide_type": "subslide"
    }
   },
   "outputs": [],
   "source": [
    "import antigravity  # try this at home!"
   ]
  },
  {
   "cell_type": "markdown",
   "metadata": {
    "slideshow": {
     "slide_type": "subslide"
    }
   },
   "source": [
    "![Antigravity XKCD](./extra_material/antigravity.png)"
   ]
  },
  {
   "cell_type": "markdown",
   "metadata": {
    "slideshow": {
     "slide_type": "subslide"
    }
   },
   "source": [
    "The standard library of Python includes the packages that come with every installation of Python. I didn't have to do anything special to import the `math` module - it was just there, \"waiting\" for me to import it. \n",
    "\n",
    "Most of the functions you'd expect a programming language to have are indeed included in the standard library, available automatically to everyone who downloaded Python. Other modules, including many popular ones, are available online. We'll discuss later how to import them."
   ]
  },
  {
   "cell_type": "markdown",
   "metadata": {
    "slideshow": {
     "slide_type": "subslide"
    }
   },
   "source": [
    "I'll let you discover yourself what is included in the standard library, but some of the highlights include:"
   ]
  },
  {
   "cell_type": "code",
   "execution_count": 34,
   "metadata": {
    "slideshow": {
     "slide_type": "subslide"
    }
   },
   "outputs": [
    {
     "name": "stdout",
     "output_type": "stream",
     "text": [
      "/home/hagaihargil/Classes/PythonCourseMaster/classes\n"
     ]
    }
   ],
   "source": [
    "import pathlib\n",
    "p = pathlib.Path(\".\")\n",
    "print(p.absolute())"
   ]
  },
  {
   "cell_type": "code",
   "execution_count": 35,
   "metadata": {
    "slideshow": {
     "slide_type": "subslide"
    }
   },
   "outputs": [
    {
     "name": "stdout",
     "output_type": "stream",
     "text": [
      "b'<!doctype html><html dir=\"rtl\" itemscope=\"\" itemtype=\"http://schema.org/WebPage\" lang=\"iw\"><head><meta content=\"text/html; charset=UTF-8\" http-equiv=\"Content-Type\"><meta content=\"/images/branding/googleg/1x/googleg_standard_color_128dp.png\" itemprop=\"image\"><title>Google</title><script nonce=\"bIJi6JUgvDKqxMAjHx8ztQ==\">(function(){window.google={kEI:\\'lVWGXM3ABcyXmwXvkZi4Dw\\',kEXPI:\\'0,1353747,57,1957,2423,698,527,730,224,1575,30,927,301,805,1088,70,2,513,160,191,78,203,2334033,329476,1294,12383,4855,32692,15247,867,12163,14325,2196,363,3320,5505,1240,1196,266,5107,575,835,284,2,205,1101,2432,1361,4323,4968,773,2251,2820,3074,2,1970,2590,3601,669,535,515,1808,1397,81,7,491,620,29,2373,6722,904,307,874,412,2,554,33,3420,796,1220,38,363,557,584,134,35,120,1217,1364,484,47,1080,2736,1558,1245,258,2,631,217,2345,2,4,2,670,44,935,1252,598,1519,354,125,1051,1556,632,1136,3,275,350,25,938,2,46,108,21,318,55,4,175,20,2,526,783,349,1318,138,404,135,357,251,721,322,274,569,111,2,22,207,549,85,1,12,41,351,29,77,1211,104,80,376,53,192,584,8,296,7,267,103,90,353,11,235,78,365,33,133,116,535,174,23,219,147,46,121,8,321,86,608,14,15,123,230,214,66,97,174,86,325,352,269,2,15,357,101,15,4,2,333,451,251,10,122,116,59,9,162,12,831,278,5953364,1874,680,122,133,8797531,4,1572,549,333,444,1,2,80,1,900,578,12,306,1,8,1,2,2132,1,1,1,1,1,414,1,748,200,726,3,7,4,559,1,1189,42,14,6,1,9,1,25,24\\',authuser:0,kscs:\\'c9c918f0_lVWGXM3ABcyXmwXvkZi4Dw\\',kGL:\\'IL\\'};google.sn=\\'webhp\\';google.kHL=\\'iw\\';})();(function(){google.lc=[];google.li=0;google.getEI=function(a){for(var b;a&&(!a.getAttribute||!(b=a.getAttribute(\"eid\")));)a=a.parentNode;return b||google.kEI};google.getLEI=function(a){for(var b=null;a&&(!a.getAttribute||!(b=a.getAttribute(\"leid\")));)a=a.parentNode;return b};google.https=function(){return\"https:\"==window.location.protocol};google.ml=function(){return null};google.time=function(){return(new Date).getTime()};google.log=function(a,b,e,c,g){if(a=google.logUrl(a,b,e,c,g)){b=new Image;var d=google.lc,f=google.li;d[f]=b;b.onerror=b.onload=b.onabort=function(){delete d[f]};google.vel&&google.vel.lu&&google.vel.lu(a);b.src=a;google.li=f+1}};google.logUrl=function(a,b,e,c,g){var d=\"\",f=google.ls||\"\";e||-1!=b.search(\"&ei=\")||(d=\"&ei=\"+google.getEI(c),-1==b.search(\"&lei=\")&&(c=google.getLEI(c))&&(d+=\"&lei=\"+c));c=\"\";!e&&google.cshid&&-1==b.search(\"&cshid=\")&&\"slh\"!=a&&(c=\"&cshid=\"+google.cshid);a=e||\"/\"+(g||\"gen_204\")+\"?atyp=i&ct=\"+a+\"&cad=\"+b+d+f+\"&zx=\"+google.time()+c;/^http:/i.test(a)&&google.https()&&(google.ml(Error(\"a\"),!1,{src:a,glmm:1}),a=\"\");return a};}).call(this);(function(){google.y={};google.x=function(a,b){if(a)var c=a.id;else{do c=Math.random();while(google.y[c])}google.y[c]=[a,b];return!1};google.lm=[];google.plm=function(a){google.lm.push.apply(google.lm,a)};google.lq=[];google.load=function(a,b,c){google.lq.push([[a],b,c])};google.loadAll=function(a,b){google.lq.push([a,b])};}).call(this);google.f={};</script><script nonce=\"bIJi6JUgvDKqxMAjHx8ztQ==\">var a=window.location,b=a.href.indexOf(\"#\");if(0<=b){var c=a.href.substring(b+1);/(^|&)q=/.test(c)&&-1==c.indexOf(\"#\")&&a.replace(\"/search?\"+c.replace(/(^|&)fp=[^&]*/g,\"\")+\"&cad=h\")};</script><style>#gbar,#guser{font-size:13px;padding-top:1px !important;}#gbar{height:22px}#guser{padding-bottom:7px !important;text-align:left}.gbh,.gbd{border-top:1px solid #c9d7f1;font-size:1px}.gbh{height:0;position:absolute;top:24px;width:100%}@media all{.gb1{height:22px;margin-left:.5em;vertical-align:top}#gbar{float:right}}a.gb1,a.gb4{text-decoration:underline !important}a.gb1,a.gb4{color:#00c !important}.gbi .gb4{color:#dd8e27 !important}.gbf .gb4{color:#900 !important}\\n</style><style>body,td,a,p,.h{font-family:arial,sans-serif}body{margin:0;overflow-y:scroll}#gog{padding:3px 8px 0}td{line-height:.8em}.gac_m td{line-height:17px}form{margin-bottom:20px}.h{color:#36c}.q{color:#00c}.ts td{padding:0}.ts{border-collapse:collapse}em{font-weight:bold;font-style:normal}.lst{height:25px;width:496px}.gsfi,.lst{font:18px arial,sans-serif}.gsfs{font:17px arial,sans-serif}.ds{display:inline-box;display:inline-block;margin:3px 0 4px;margin-right:4px}input{font-family:inherit}a.gb1,a.gb2,a.gb3,a.gb4{color:#11c !important}body{background:#fff;color:black}a{color:#11c;text-decoration:none}a:hover,a:active{text-decoration:underline}.fl a{color:#36c}a:visited{color:#551a8b}a.gb1,a.gb4{text-decoration:underline}a.gb3:hover{text-decoration:none}#ghead a.gb2:hover{color:#fff !important}.sblc{padding-top:5px}.sblc a{display:block;margin:2px 0;margin-right:13px;font-size:11px}.lsbb{background:#eee;border:solid 1px;border-color:#ccc #ccc #999 #999;height:30px}.lsbb{display:block}.ftl,#fll a{display:inline-block;margin:0 12px}.lsb{background:url(/images/nav_logo229.png) 0 -261px repeat-x;border:none;color:#000;cursor:pointer;height:30px;margin:0;outline:0;font:15px arial,sans-serif;vertical-align:top}.lsb:active{background:#ccc}.lst:focus{outline:none}.tiah{width:458px}</style><script nonce=\"bIJi6JUgvDKqxMAjHx8ztQ==\"></script></head><body bgcolor=\"#fff\"><script nonce=\"bIJi6JUgvDKqxMAjHx8ztQ==\">(function(){var src=\\'/images/nav_logo229.png\\';var iesg=false;document.body.onload = function(){window.n && window.n();if (document.images){new Image().src=src;}\\nif (!iesg){document.f&&document.f.q.focus();document.gbqf&&document.gbqf.q.focus();}\\n}\\n})();</script><div id=\"mngb\"> <div id=gbar><nobr><b class=gb1>&#1495;&#1497;&#1508;&#1493;&#1513;</b> <a class=gb1 href=\"https://www.google.co.il/imghp?hl=iw&tab=wi\">&#1495;&#1497;&#1508;&#1493;&#1513; &#1514;&#1502;&#1493;&#1504;&#1493;&#1514;</a> <a class=gb1 href=\"https://maps.google.co.il/maps?hl=iw&tab=wl\">&#1502;&#1508;&#1493;&#1514;</a> <a class=gb1 href=\"https://www.youtube.com/?gl=IL&tab=w1\">YouTube</a> <a class=gb1 href=\"https://news.google.co.il/nwshp?hl=iw&tab=wn\">&#1495;&#1491;&#1513;&#1493;&#1514;</a> <a class=gb1 href=\"https://mail.google.com/mail/?tab=wm\">Gmail</a> <a class=gb1 href=\"https://drive.google.com/?tab=wo\">Drive</a> <a class=gb1 href=\"https://www.google.com/calendar?tab=wc\">&#1497;&#1493;&#1502;&#1503;</a> <a class=gb1 style=\"text-decoration:none\" href=\"https://www.google.co.il/intl/iw/about/products?tab=wh\"><u>&#1506;&#1493;&#1491;</u> &raquo;</a></nobr></div><div id=guser width=100%><nobr><span id=gbn class=gbi></span><span id=gbf class=gbf></span><span id=gbe></span><a href=\"http://www.google.co.il/history/optout?hl=iw\" class=gb4>&#1492;&#1497;&#1505;&#1496;&#1493;&#1512;&#1497;&#1497;&#1514; &#1488;&#1514;&#1512;&#1497;&#1501;</a> | <a  href=\"/preferences?hl=iw\" class=gb4>&#1492;&#1490;&#1491;&#1512;&#1493;&#1514;</a> | <a target=_top id=gb_70 href=\"https://accounts.google.com/ServiceLogin?hl=iw&passive=true&continue=https://www.google.com/\" class=gb4>&#1499;&#1504;&#1497;&#1505;&#1492;</a></nobr></div><div class=gbh style=left:0></div><div class=gbh style=right:0></div> </div><center><br clear=\"all\" id=\"lgpd\"><div id=\"lga\"><img alt=\"Google\" height=\"92\" src=\"/images/branding/googlelogo/1x/googlelogo_white_background_color_272x92dp.png\" style=\"padding:28px 0 14px\" width=\"272\" id=\"hplogo\" onload=\"window.lol&&lol()\"><br><br></div><form action=\"/search\" name=\"f\"><table cellpadding=\"0\" cellspacing=\"0\"><tr valign=\"top\"><td width=\"25%\">&nbsp;</td><td align=\"center\" nowrap=\"\"><input name=\"ie\" value=\"ISO-8859-1\" type=\"hidden\"><input value=\"iw\" name=\"hl\" type=\"hidden\"><input name=\"source\" type=\"hidden\" value=\"hp\"><input name=\"biw\" type=\"hidden\"><input name=\"bih\" type=\"hidden\"><div class=\"ds\" style=\"height:32px;margin:4px 0\"><div style=\"position:relative;zoom:1\"><input style=\"color:#000;margin:0;padding:5px 6px 0 8px;vertical-align:top;padding-left:38px\" autocomplete=\"off\" class=\"lst tiah\" value=\"\" title=\"&#1495;&#1497;&#1508;&#1493;&#1513; &#1489;-Google\" maxlength=\"2048\" name=\"q\" size=\"57\"><img src=\"/textinputassistant/tia.png\" style=\"position:absolute;cursor:pointer;left:5px;top:4px;z-index:300\" data-script-url=\"/textinputassistant/11/iw_tia.js\" alt=\"\" height=\"23\" onclick=\"var s=document.createElement(\\'script\\');s.src=this.getAttribute(\\'data-script-url\\');(document.getElementById(\\'xjsc\\')||document.body).appendChild(s);\" width=\"27\"></div></div><br style=\"line-height:0\"><span class=\"ds\"><span class=\"lsbb\"><input class=\"lsb\" value=\"&#1495;&#1497;&#1508;&#1493;&#1513; &#1489;-Google\" name=\"btnG\" type=\"submit\"></span></span><span class=\"ds\"><span class=\"lsbb\"><input class=\"lsb\" value=\"&#1497;&#1493;&#1514;&#1512; &#1502;&#1494;&#1500; &#1502;&#1513;&#1499;&#1500;\" name=\"btnI\" onclick=\"if(this.form.q.value)this.checked=1; else top.location=\\'/doodles/\\'\" type=\"submit\"></span></span></td><td class=\"fl sblc\" align=\"right\" nowrap=\"\" width=\"25%\"><a href=\"/advanced_search?hl=iw&amp;authuser=0\">&#1495;&#1497;&#1508;&#1493;&#1513; &#1502;&#1514;&#1511;&#1491;&#1501;</a><a href=\"/language_tools?hl=iw&amp;authuser=0\">&#1499;&#1500;&#1497; &#1513;&#1508;&#1492;</a></td></tr></table><input id=\"gbv\" name=\"gbv\" type=\"hidden\" value=\"1\"><script nonce=\"bIJi6JUgvDKqxMAjHx8ztQ==\">(function(){var a,b=\"1\";if(document&&document.getElementById)if(\"undefined\"!=typeof XMLHttpRequest)b=\"2\";else if(\"undefined\"!=typeof ActiveXObject){var c,d,e=[\"MSXML2.XMLHTTP.6.0\",\"MSXML2.XMLHTTP.3.0\",\"MSXML2.XMLHTTP\",\"Microsoft.XMLHTTP\"];for(c=0;d=e[c++];)try{new ActiveXObject(d),b=\"2\"}catch(h){}}a=b;if(\"2\"==a&&-1==location.search.indexOf(\"&gbv=2\")){var f=google.gbvu,g=document.getElementById(\"gbv\");g&&(g.value=a);f&&window.setTimeout(function(){location.href=f},0)};}).call(this);</script></form><div id=\"gac_scont\"></div><div style=\"font-size:83%;min-height:3.5em\"><br><div id=\"gws-output-pages-elements-homepage_additional_languages__als\"><style>#gws-output-pages-elements-homepage_additional_languages__als{font-size:small;margin-bottom:24px}#SIvCob{display:inline-block;line-height:28px;}#SIvCob a{padding:0 3px;}.H6sW5{display:inline-block;margin:0 2px;white-space:nowrap}.z4hgWe{display:inline-block;margin:0 2px}</style><div id=\"SIvCob\">Google &#1494;&#1502;&#1497;&#1504;&#1492; &#1489;:  <a href=\"https://www.google.com/setprefs?sig=0_REzyOWI9Gh-y7t9poC6GCLBEXSM%3D&amp;hl=ar&amp;source=homepage&amp;sa=X&amp;ved=0ahUKEwiN34i7jPrgAhXMy6YKHe8IBvcQ2ZgBCAU\">&#1575;&#1604;&#1593;&#1585;&#1576;&#1610;&#1577;</a>    <a dir=\"ltr\" href=\"https://www.google.com/setprefs?sig=0_REzyOWI9Gh-y7t9poC6GCLBEXSM%3D&amp;hl=en&amp;source=homepage&amp;sa=X&amp;ved=0ahUKEwiN34i7jPrgAhXMy6YKHe8IBvcQ2ZgBCAY\">English</a>  </div></div></div><span id=\"footer\"><div style=\"font-size:10pt\"><div style=\"margin:19px auto;text-align:center\" id=\"fll\"><a href=\"/intl/iw/ads/\"> &#1508;&#1512;&#1505;&#1493;&#1501; &#1489;-Google</a><a href=\"http://www.google.co.il/intl/iw/services/\">&#1508;&#1514;&#1512;&#1493;&#1504;&#1493;&#1514; &#1506;&#1505;&#1511;&#1497;&#1497;&#1501;</a><a href=\"/intl/iw/about.html\">&#1492;&#1499;&#1500; &#1506;&#1500; Google</a><a dir=\"ltr\" href=\"https://www.google.com/setprefdomain?prefdom=IL&amp;prev=https://www.google.co.il/&amp;sig=K_MwxpkiMV1dHEqF9R7Q9gV8zpiuE%3D\">Google.co.il</a></div></div><p style=\"color:#767676;font-size:8pt\">&copy; 2019 - <a href=\"/intl/iw/policies/privacy/\">&#1508;&#1512;&#1496;&#1497;&#1493;&#1514;</a> - <a href=\"/intl/iw/policies/terms/\">&#1514;&#1504;&#1488;&#1497;&#1501;</a></p></span></center><script nonce=\"bIJi6JUgvDKqxMAjHx8ztQ==\">(function(){window.google.cdo={height:0,width:0};(function(){var a=window.innerWidth,b=window.innerHeight;if(!a||!b){var c=window.document,d=\"CSS1Compat\"==c.compatMode?c.documentElement:c.body;a=d.clientWidth;b=d.clientHeight}a&&b&&(a!=google.cdo.width||b!=google.cdo.height)&&google.log(\"\",\"\",\"/client_204?&atyp=i&biw=\"+a+\"&bih=\"+b+\"&ei=\"+google.kEI);}).call(this);})();(function(){var u=\\'/xjs/_/js/k\\\\x3dxjs.hp.en.Bn3kjnGY1To.O/m\\\\x3dsb_he,d/am\\\\x3dioEW/rt\\\\x3dj/d\\\\x3d1/rs\\\\x3dACT90oFETHlzEtlviTiGvOjvjNblb9bIzA\\';setTimeout(function(){var a=document.createElement(\"script\");a.src=u;google.timers&&google.timers.load&&google.tick&&google.tick(\"load\",\"xjsls\");document.body.appendChild(a)},0);})();(function(){window.google.xjsu=\\'/xjs/_/js/k\\\\x3dxjs.hp.en.Bn3kjnGY1To.O/m\\\\x3dsb_he,d/am\\\\x3dioEW/rt\\\\x3dj/d\\\\x3d1/rs\\\\x3dACT90oFETHlzEtlviTiGvOjvjNblb9bIzA\\';})();function _DumpException(e){throw e;}\\n(function(){var pmc=\\'{\\\\x22Qnk92g\\\\x22:{},\\\\x22U5B21g\\\\x22:{},\\\\x22YFCs/g\\\\x22:{},\\\\x22ZI/YVQ\\\\x22:{},\\\\x22d\\\\x22:{},\\\\x22sb_he\\\\x22:{\\\\x22agen\\\\x22:false,\\\\x22cgen\\\\x22:false,\\\\x22client\\\\x22:\\\\x22heirloom-hp\\\\x22,\\\\x22dh\\\\x22:true,\\\\x22dhqt\\\\x22:true,\\\\x22ds\\\\x22:\\\\x22\\\\x22,\\\\x22ffql\\\\x22:\\\\x22en\\\\x22,\\\\x22fl\\\\x22:true,\\\\x22host\\\\x22:\\\\x22google.com\\\\x22,\\\\x22isbh\\\\x22:28,\\\\x22jsonp\\\\x22:true,\\\\x22msgs\\\\x22:{\\\\x22cibl\\\\x22:\\\\x22&#1504;&#1511;&#1492; &#1495;&#1497;&#1508;&#1493;&#1513;\\\\x22,\\\\x22dym\\\\x22:\\\\x22&#1492;&#1488;&#1501; &#1492;&#1514;&#1499;&#1493;&#1493;&#1504;&#1514; &#1500;:\\\\x22,\\\\x22lcky\\\\x22:\\\\x22&#1497;&#1493;&#1514;&#1512; &#1502;&#1494;&#1500; &#1502;&#1513;&#1499;&#1500;\\\\x22,\\\\x22lml\\\\x22:\\\\x22&#1500;&#1502;&#1497;&#1491;&#1506; &#1504;&#1493;&#1505;&#1507;\\\\x22,\\\\x22oskt\\\\x22:\\\\x22&#1499;&#1500;&#1497; &#1492;&#1494;&#1504;&#1492;\\\\x22,\\\\x22psrc\\\\x22:\\\\x22&#1495;&#1497;&#1508;&#1493;&#1513; &#1494;&#1492; &#1492;&#1493;&#1505;&#1512; &#1502;\\\\\\\\u003Ca href\\\\x3d\\\\\\\\\\\\x22/history\\\\\\\\\\\\x22\\\\\\\\u003E&#1492;&#1497;&#1505;&#1496;&#1493;&#1512;&#1497;&#1497;&#1514; &#1492;&#1488;&#1497;&#1504;&#1496;&#1512;&#1504;&#1496;\\\\\\\\u003C/a\\\\\\\\u003E &#1513;&#1500;&#1498;\\\\x22,\\\\x22psrl\\\\x22:\\\\x22&#1492;&#1505;&#1512;\\\\x22,\\\\x22sbit\\\\x22:\\\\x22&#1495;&#1497;&#1508;&#1493;&#1513; &#1500;&#1508;&#1497; &#1514;&#1502;&#1493;&#1504;&#1492;\\\\x22,\\\\x22srch\\\\x22:\\\\x22&#1495;&#1497;&#1508;&#1493;&#1513; &#1489;-Google\\\\x22},\\\\x22ovr\\\\x22:{},\\\\x22pq\\\\x22:\\\\x22\\\\x22,\\\\x22refpd\\\\x22:true,\\\\x22rfs\\\\x22:[],\\\\x22sbpl\\\\x22:24,\\\\x22sbpr\\\\x22:24,\\\\x22scd\\\\x22:10,\\\\x22sce\\\\x22:5,\\\\x22stok\\\\x22:\\\\x224zwFJU7zHmVdQwrlC-IqXEIkZKg\\\\x22,\\\\x22uhde\\\\x22:false}}\\';google.pmc=JSON.parse(pmc);})();</script>        </body></html>'\n"
     ]
    }
   ],
   "source": [
    "import urllib.request\n",
    "url = urllib.request.urlopen(\"https://www.google.com\")\n",
    "print(url.read())"
   ]
  },
  {
   "cell_type": "markdown",
   "metadata": {},
   "source": [
    "It can be quite irritating to write the full namespace address of all functions. To this end we have the `from` and `as` keywords:"
   ]
  },
  {
   "cell_type": "code",
   "execution_count": 36,
   "metadata": {
    "slideshow": {
     "slide_type": "subslide"
    }
   },
   "outputs": [],
   "source": [
    "from pprint import pprint as pp"
   ]
  },
  {
   "cell_type": "code",
   "execution_count": 37,
   "metadata": {
    "slideshow": {
     "slide_type": "subslide"
    }
   },
   "outputs": [
    {
     "name": "stdout",
     "output_type": "stream",
     "text": [
      "(b'<!doctype html><html dir=\"rtl\" itemscope=\"\" itemtype=\"http://schema.org/WebP'\n",
      " b'age\" lang=\"iw\"><head><meta content=\"text/html; charset=UTF-8\" http-equiv=\"Co'\n",
      " b'ntent-Type\"><meta content=\"/images/branding/googleg/1x/googleg_standard_colo'\n",
      " b'r_128dp.png\" itemprop=\"image\"><title>Google</title><script nonce=\"ospBrifJSf'\n",
      " b'7X9EvHan7i1w==\">(function(){window.google={kEI:\\'lVWGXKrhIsGNmwXAnbqIBQ\\','\n",
      " b\"kEXPI:'0,1353746,58,1957,2423,667,30,528,731,223,1575,30,1227,806,1088,69,33\"\n",
      " b'7,179,350,80,55,147,2334025,329484,1294,12383,4855,32691,8162,7086,867,12163'\n",
      " b',16521,363,3320,1262,4243,2442,260,1028,4079,575,835,284,2,205,374,727,2432,'\n",
      " b'1361,4323,4967,774,2253,4741,1151,2,1970,2590,1021,2580,669,1050,1808,1397,8'\n",
      " b'1,7,491,620,29,2373,6264,458,47,1162,694,182,412,2,554,3451,798,1222,36,363,'\n",
      " b'557,681,37,36,119,1214,1214,85,68,484,47,552,4,19,1,504,2736,49,1509,1245,25'\n",
      " b'8,2,631,217,2345,2,4,2,670,46,2185,598,960,403,156,354,124,1161,1449,630,464'\n",
      " b',206,744,350,25,439,490,25,2,139,20,318,55,4,175,20,2,526,810,1254,524,539,3'\n",
      " b'59,249,635,681,570,37,74,2,229,549,85,1,12,392,29,399,40,37,813,21,82,82,374'\n",
      " b',178,651,8,85,129,82,744,76,11,51,31,6,147,78,365,19,15,248,536,173,23,219,1'\n",
      " b'94,120,8,403,612,14,14,354,281,96,175,85,676,273,2,12,358,100,15,4,2,512,272'\n",
      " b',249,11,123,116,59,9,162,13,1107,5953365,2554,255,8797531,4,1572,549,333,444'\n",
      " b',1,2,80,1,900,583,3,310,1,8,1,2,2132,1,1,1,1,1,414,1,889,59,726,3,7,2,561,1,'\n",
      " b\"1191,40,14,6,1,9,1,25,24',authuser:0,kscs:'c9c918f0_lVWGXKrhIsGNmwXAnbqIBQ',\"\n",
      " b\"kGL:'IL'};google.sn='webhp';google.kHL='iw';})();(function(){google.lc=[];go\"\n",
      " b'ogle.li=0;google.getEI=function(a){for(var b;a&&(!a.getAttribute||!(b=a.getA'\n",
      " b'ttribute(\"eid\")));)a=a.parentNode;return b||google.kEI};google.getLEI=functi'\n",
      " b'on(a){for(var b=null;a&&(!a.getAttribute||!(b=a.getAttribute(\"leid\")));)a=a.'\n",
      " b'parentNode;return b};google.https=function(){return\"https:\"==window.location'\n",
      " b'.protocol};google.ml=function(){return null};google.time=function(){return(n'\n",
      " b'ew Date).getTime()};google.log=function(a,b,e,c,g){if(a=google.logUrl(a,b,e,'\n",
      " b'c,g)){b=new Image;var d=google.lc,f=google.li;d[f]=b;b.onerror=b.onload=b.on'\n",
      " b'abort=function(){delete d[f]};google.vel&&google.vel.lu&&google.vel.lu(a);b.'\n",
      " b'src=a;google.li=f+1}};google.logUrl=function(a,b,e,c,g){var d=\"\",f=google.ls'\n",
      " b'||\"\";e||-1!=b.search(\"&ei=\")||(d=\"&ei=\"+google.getEI(c),-1==b.search(\"&lei=\"'\n",
      " b')&&(c=google.getLEI(c))&&(d+=\"&lei=\"+c));c=\"\";!e&&google.cshid&&-1==b.search'\n",
      " b'(\"&cshid=\")&&\"slh\"!=a&&(c=\"&cshid=\"+google.cshid);a=e||\"/\"+(g||\"gen_204\")+\"?'\n",
      " b'atyp=i&ct=\"+a+\"&cad=\"+b+d+f+\"&zx=\"+google.time()+c;/^http:/i.test(a)&&google'\n",
      " b'.https()&&(google.ml(Error(\"a\"),!1,{src:a,glmm:1}),a=\"\");return a};}).call(t'\n",
      " b'his);(function(){google.y={};google.x=function(a,b){if(a)var c=a.id;else{do '\n",
      " b'c=Math.random();while(google.y[c])}google.y[c]=[a,b];return!1};google.lm=[];'\n",
      " b'google.plm=function(a){google.lm.push.apply(google.lm,a)};google.lq=[];googl'\n",
      " b'e.load=function(a,b,c){google.lq.push([[a],b,c])};google.loadAll=function(a,'\n",
      " b'b){google.lq.push([a,b])};}).call(this);google.f={};</script><script nonce=\"'\n",
      " b'ospBrifJSf7X9EvHan7i1w==\">var a=window.location,b=a.href.indexOf(\"#\");if(0<='\n",
      " b'b){var c=a.href.substring(b+1);/(^|&)q=/.test(c)&&-1==c.indexOf(\"#\")&&a.repl'\n",
      " b'ace(\"/search?\"+c.replace(/(^|&)fp=[^&]*/g,\"\")+\"&cad=h\")};</script><style>#gb'\n",
      " b'ar,#guser{font-size:13px;padding-top:1px !important;}#gbar{height:22px}#guse'\n",
      " b'r{padding-bottom:7px !important;text-align:left}.gbh,.gbd{border-top:1px sol'\n",
      " b'id #c9d7f1;font-size:1px}.gbh{height:0;position:absolute;top:24px;width:100%'\n",
      " b'}@media all{.gb1{height:22px;margin-left:.5em;vertical-align:top}#gbar{float'\n",
      " b':right}}a.gb1,a.gb4{text-decoration:underline !important}a.gb1,a.gb4{color:#'\n",
      " b'00c !important}.gbi .gb4{color:#dd8e27 !important}.gbf .gb4{color:#900 !impo'\n",
      " b'rtant}\\n</style><style>body,td,a,p,.h{font-family:arial,sans-serif}body{m'\n",
      " b'argin:0;overflow-y:scroll}#gog{padding:3px 8px 0}td{line-height:.8em}.gac_m '\n",
      " b'td{line-height:17px}form{margin-bottom:20px}.h{color:#36c}.q{color:#00c}.ts '\n",
      " b'td{padding:0}.ts{border-collapse:collapse}em{font-weight:bold;font-style:nor'\n",
      " b'mal}.lst{height:25px;width:496px}.gsfi,.lst{font:18px arial,sans-serif}.gsfs'\n",
      " b'{font:17px arial,sans-serif}.ds{display:inline-box;display:inline-block;marg'\n",
      " b'in:3px 0 4px;margin-right:4px}input{font-family:inherit}a.gb1,a.gb2,a.gb3,a.'\n",
      " b'gb4{color:#11c !important}body{background:#fff;color:black}a{color:#11c;text'\n",
      " b'-decoration:none}a:hover,a:active{text-decoration:underline}.fl a{color:#36c'\n",
      " b'}a:visited{color:#551a8b}a.gb1,a.gb4{text-decoration:underline}a.gb3:hover{t'\n",
      " b'ext-decoration:none}#ghead a.gb2:hover{color:#fff !important}.sblc{padding-t'\n",
      " b'op:5px}.sblc a{display:block;margin:2px 0;margin-right:13px;font-size:11px}.'\n",
      " b'lsbb{background:#eee;border:solid 1px;border-color:#ccc #ccc #999 #999;heigh'\n",
      " b't:30px}.lsbb{display:block}.ftl,#fll a{display:inline-block;margin:0 12px}.l'\n",
      " b'sb{background:url(/images/nav_logo229.png) 0 -261px repeat-x;border:none;col'\n",
      " b'or:#000;cursor:pointer;height:30px;margin:0;outline:0;font:15px arial,sans-s'\n",
      " b'erif;vertical-align:top}.lsb:active{background:#ccc}.lst:focus{outline:none}'\n",
      " b'.tiah{width:458px}</style><script nonce=\"ospBrifJSf7X9EvHan7i1w==\"></script>'\n",
      " b'</head><body bgcolor=\"#fff\"><script nonce=\"ospBrifJSf7X9EvHan7i1w==\">(functi'\n",
      " b\"on(){var src='/images/nav_logo229.png';var iesg=false;document.body.onload =\"\n",
      " b' function(){window.n && window.n();if (document.images){new Image().src=src;'\n",
      " b'}\\nif (!iesg){document.f&&document.f.q.focus();document.gbqf&&document.gb'\n",
      " b'qf.q.focus();}\\n}\\n})();</script><div id=\"mngb\"> <div id=gbar><nobr><b cla'\n",
      " b'ss=gb1>&#1495;&#1497;&#1508;&#1493;&#1513;</b> <a class=gb1 href=\"https://ww'\n",
      " b'w.google.co.il/imghp?hl=iw&tab=wi\">&#1495;&#1497;&#1508;&#1493;&#1513; &#151'\n",
      " b'4;&#1502;&#1493;&#1504;&#1493;&#1514;</a> <a class=gb1 href=\"https://maps.go'\n",
      " b'ogle.co.il/maps?hl=iw&tab=wl\">&#1502;&#1508;&#1493;&#1514;</a> <a class=gb1 '\n",
      " b'href=\"https://www.youtube.com/?gl=IL&tab=w1\">YouTube</a> <a class=gb1 href=\"'\n",
      " b'https://news.google.co.il/nwshp?hl=iw&tab=wn\">&#1495;&#1491;&#1513;&#1493;&#'\n",
      " b'1514;</a> <a class=gb1 href=\"https://mail.google.com/mail/?tab=wm\">Gmail</a>'\n",
      " b' <a class=gb1 href=\"https://drive.google.com/?tab=wo\">Drive</a> <a class=gb1'\n",
      " b' href=\"https://www.google.com/calendar?tab=wc\">&#1497;&#1493;&#1502;&#1503;<'\n",
      " b'/a> <a class=gb1 style=\"text-decoration:none\" href=\"https://www.google.co.il'\n",
      " b'/intl/iw/about/products?tab=wh\"><u>&#1506;&#1493;&#1491;</u> &raquo;</a></no'\n",
      " b'br></div><div id=guser width=100%><nobr><span id=gbn class=gbi></span><span '\n",
      " b'id=gbf class=gbf></span><span id=gbe></span><a href=\"http://www.google.co.il'\n",
      " b'/history/optout?hl=iw\" class=gb4>&#1492;&#1497;&#1505;&#1496;&#1493;&#1512;&'\n",
      " b'#1497;&#1497;&#1514; &#1488;&#1514;&#1512;&#1497;&#1501;</a> | <a  href=\"/pr'\n",
      " b'eferences?hl=iw\" class=gb4>&#1492;&#1490;&#1491;&#1512;&#1493;&#1514;</a> | '\n",
      " b'<a target=_top id=gb_70 href=\"https://accounts.google.com/ServiceLogin?hl=iw'\n",
      " b'&passive=true&continue=https://www.google.com/\" class=gb4>&#1499;&#1504;&#14'\n",
      " b'97;&#1505;&#1492;</a></nobr></div><div class=gbh style=left:0></div><div cla'\n",
      " b'ss=gbh style=right:0></div> </div><center><br clear=\"all\" id=\"lgpd\"><div id='\n",
      " b'\"lga\"><img alt=\"Google\" height=\"92\" src=\"/images/branding/googlelogo/1x/goog'\n",
      " b'lelogo_white_background_color_272x92dp.png\" style=\"padding:28px 0 14px\" widt'\n",
      " b'h=\"272\" id=\"hplogo\" onload=\"window.lol&&lol()\"><br><br></div><form action=\"/'\n",
      " b'search\" name=\"f\"><table cellpadding=\"0\" cellspacing=\"0\"><tr valign=\"top\"><td'\n",
      " b' width=\"25%\">&nbsp;</td><td align=\"center\" nowrap=\"\"><input name=\"ie\" value='\n",
      " b'\"ISO-8859-1\" type=\"hidden\"><input value=\"iw\" name=\"hl\" type=\"hidden\"><input '\n",
      " b'name=\"source\" type=\"hidden\" value=\"hp\"><input name=\"biw\" type=\"hidden\"><inpu'\n",
      " b't name=\"bih\" type=\"hidden\"><div class=\"ds\" style=\"height:32px;margin:4px 0\">'\n",
      " b'<div style=\"position:relative;zoom:1\"><input style=\"color:#000;margin:0;padd'\n",
      " b'ing:5px 6px 0 8px;vertical-align:top;padding-left:38px\" autocomplete=\"off\" c'\n",
      " b'lass=\"lst tiah\" value=\"\" title=\"&#1495;&#1497;&#1508;&#1493;&#1513; &#1489;-'\n",
      " b'Google\" maxlength=\"2048\" name=\"q\" size=\"57\"><img src=\"/textinputassistant/ti'\n",
      " b'a.png\" style=\"position:absolute;cursor:pointer;left:5px;top:4px;z-index:300\"'\n",
      " b' data-script-url=\"/textinputassistant/11/iw_tia.js\" alt=\"\" height=\"23\" oncli'\n",
      " b'ck=\"var s=document.createElement(\\'script\\');s.src=this.getAttribute(\\'data'\n",
      " b\"-script-url');(document.getElementById('xjsc')||document.body).appendChild(s\"\n",
      " b');\" width=\"27\"></div></div><br style=\"line-height:0\"><span class=\"ds\"><span '\n",
      " b'class=\"lsbb\"><input class=\"lsb\" value=\"&#1495;&#1497;&#1508;&#1493;&#1513; &'\n",
      " b'#1489;-Google\" name=\"btnG\" type=\"submit\"></span></span><span class=\"ds\"><spa'\n",
      " b'n class=\"lsbb\"><input class=\"lsb\" value=\"&#1497;&#1493;&#1514;&#1512; &#1502'\n",
      " b';&#1494;&#1500; &#1502;&#1513;&#1499;&#1500;\" name=\"btnI\" onclick=\"if(this.f'\n",
      " b'orm.q.value)this.checked=1; else top.location=\\'/doodles/\\'\" type=\"submit\"'\n",
      " b'></span></span></td><td class=\"fl sblc\" align=\"right\" nowrap=\"\" width=\"25%\">'\n",
      " b'<a href=\"/advanced_search?hl=iw&amp;authuser=0\">&#1495;&#1497;&#1508;&#1493;'\n",
      " b'&#1513; &#1502;&#1514;&#1511;&#1491;&#1501;</a><a href=\"/language_tools?hl=i'\n",
      " b'w&amp;authuser=0\">&#1499;&#1500;&#1497; &#1513;&#1508;&#1492;</a></td></tr><'\n",
      " b'/table><input id=\"gbv\" name=\"gbv\" type=\"hidden\" value=\"1\"><script nonce=\"osp'\n",
      " b'BrifJSf7X9EvHan7i1w==\">(function(){var a,b=\"1\";if(document&&document.getElem'\n",
      " b'entById)if(\"undefined\"!=typeof XMLHttpRequest)b=\"2\";else if(\"undefined\"!=typ'\n",
      " b'eof ActiveXObject){var c,d,e=[\"MSXML2.XMLHTTP.6.0\",\"MSXML2.XMLHTTP.3.0\",\"MSX'\n",
      " b'ML2.XMLHTTP\",\"Microsoft.XMLHTTP\"];for(c=0;d=e[c++];)try{new ActiveXObject(d)'\n",
      " b',b=\"2\"}catch(h){}}a=b;if(\"2\"==a&&-1==location.search.indexOf(\"&gbv=2\")){var '\n",
      " b'f=google.gbvu,g=document.getElementById(\"gbv\");g&&(g.value=a);f&&window.setT'\n",
      " b'imeout(function(){location.href=f},0)};}).call(this);</script></form><div id'\n",
      " b'=\"gac_scont\"></div><div style=\"font-size:83%;min-height:3.5em\"><br><div id=\"'\n",
      " b'gws-output-pages-elements-homepage_additional_languages__als\"><style>#gws-ou'\n",
      " b'tput-pages-elements-homepage_additional_languages__als{font-size:small;margi'\n",
      " b'n-bottom:24px}#SIvCob{display:inline-block;line-height:28px;}#SIvCob a{paddi'\n",
      " b'ng:0 3px;}.H6sW5{display:inline-block;margin:0 2px;white-space:nowrap}.z4hgW'\n",
      " b'e{display:inline-block;margin:0 2px}</style><div id=\"SIvCob\">Google &#1494;&'\n",
      " b'#1502;&#1497;&#1504;&#1492; &#1489;:  <a href=\"https://www.google.com/setpre'\n",
      " b'fs?sig=0_Tz1Vis3F8rtx6RnVqXqXaTAQiVI%3D&amp;hl=ar&amp;source=homepage&amp;sa'\n",
      " b'=X&amp;ved=0ahUKEwjq_6W7jPrgAhXBxqYKHcCODlEQ2ZgBCAU\">&#1575;&#1604;&#1593;&#'\n",
      " b'1585;&#1576;&#1610;&#1577;</a>    <a dir=\"ltr\" href=\"https://www.google.com/'\n",
      " b'setprefs?sig=0_Tz1Vis3F8rtx6RnVqXqXaTAQiVI%3D&amp;hl=en&amp;source=homepage&'\n",
      " b'amp;sa=X&amp;ved=0ahUKEwjq_6W7jPrgAhXBxqYKHcCODlEQ2ZgBCAY\">English</a>  </di'\n",
      " b'v></div></div><span id=\"footer\"><div style=\"font-size:10pt\"><div style=\"marg'\n",
      " b'in:19px auto;text-align:center\" id=\"fll\"><a href=\"/intl/iw/ads/\"> &#1508;&#1'\n",
      " b'512;&#1505;&#1493;&#1501; &#1489;-Google</a><a href=\"http://www.google.co.il'\n",
      " b'/intl/iw/services/\">&#1508;&#1514;&#1512;&#1493;&#1504;&#1493;&#1514; &#1506'\n",
      " b';&#1505;&#1511;&#1497;&#1497;&#1501;</a><a href=\"/intl/iw/about.html\">&#1492'\n",
      " b';&#1499;&#1500; &#1506;&#1500; Google</a><a dir=\"ltr\" href=\"https://www.goog'\n",
      " b'le.com/setprefdomain?prefdom=IL&amp;prev=https://www.google.co.il/&amp;sig=K'\n",
      " b'_E0nacnu2FSdfUAbkLkaPpmJM9xg%3D\">Google.co.il</a></div></div><p style=\"color'\n",
      " b':#767676;font-size:8pt\">&copy; 2019 - <a href=\"/intl/iw/policies/privacy/\">&'\n",
      " b'#1508;&#1512;&#1496;&#1497;&#1493;&#1514;</a> - <a href=\"/intl/iw/policies/t'\n",
      " b'erms/\">&#1514;&#1504;&#1488;&#1497;&#1501;</a></p></span></center><script no'\n",
      " b'nce=\"ospBrifJSf7X9EvHan7i1w==\">(function(){window.google.cdo={height:0,width'\n",
      " b':0};(function(){var a=window.innerWidth,b=window.innerHeight;if(!a||!b){var '\n",
      " b'c=window.document,d=\"CSS1Compat\"==c.compatMode?c.documentElement:c.body;a=d.'\n",
      " b'clientWidth;b=d.clientHeight}a&&b&&(a!=google.cdo.width||b!=google.cdo.heigh'\n",
      " b't)&&google.log(\"\",\"\",\"/client_204?&atyp=i&biw=\"+a+\"&bih=\"+b+\"&ei=\"+google.kE'\n",
      " b\"I);}).call(this);})();(function(){var u='/xjs/_/js/k\\\\x3dxjs.hp.en.Bn3kjn\"\n",
      " b'GY1To.O/m\\\\x3dsb_he,d/am\\\\x3dioEW/rt\\\\x3dj/d\\\\x3d1/rs\\\\x3dACT90oFETHlzEtl'\n",
      " b\"viTiGvOjvjNblb9bIzA';setTimeout(function(){var a=document.createElement(\"\n",
      " b'\"script\");a.src=u;google.timers&&google.timers.load&&google.tick&&google.tic'\n",
      " b'k(\"load\",\"xjsls\");document.body.appendChild(a)},0);})();(function(){window.g'\n",
      " b\"oogle.xjsu='/xjs/_/js/k\\\\x3dxjs.hp.en.Bn3kjnGY1To.O/m\\\\x3dsb_he,d/am\\\\x3dio\"\n",
      " b\"EW/rt\\\\x3dj/d\\\\x3d1/rs\\\\x3dACT90oFETHlzEtlviTiGvOjvjNblb9bIzA';})();functio\"\n",
      " b\"n _DumpException(e){throw e;}\\n(function(){var pmc='{\\\\x22Qnk92g\\\\x22:{},\\\\x\"\n",
      " b'22U5B21g\\\\x22:{},\\\\x22YFCs/g\\\\x22:{},\\\\x22ZI/YVQ\\\\x22:{},\\\\x22d\\\\x22:{},\\\\x2'\n",
      " b'2sb_he\\\\x22:{\\\\x22agen\\\\x22:true,\\\\x22cgen\\\\x22:true,\\\\x22client\\\\x22:\\\\x22h'\n",
      " b'eirloom-hp\\\\x22,\\\\x22dh\\\\x22:true,\\\\x22dhqt\\\\x22:true,\\\\x22ds\\\\x22:\\\\x22'\n",
      " b'\\\\x22,\\\\x22ffql\\\\x22:\\\\x22en\\\\x22,\\\\x22fl\\\\x22:true,\\\\x22host\\\\x22:\\\\x22go'\n",
      " b'ogle.com\\\\x22,\\\\x22isbh\\\\x22:28,\\\\x22jsonp\\\\x22:true,\\\\x22msgs\\\\x22:{\\\\x22ci'\n",
      " b'bl\\\\x22:\\\\x22&#1504;&#1511;&#1492; &#1495;&#1497;&#1508;&#1493;&#1513;\\\\x22'\n",
      " b',\\\\x22dym\\\\x22:\\\\x22&#1492;&#1488;&#1501; &#1492;&#1514;&#1499;&#1493;&#149'\n",
      " b'3;&#1504;&#1514; &#1500;:\\\\x22,\\\\x22lcky\\\\x22:\\\\x22&#1497;&#1493;&#1514;&#15'\n",
      " b'12; &#1502;&#1494;&#1500; &#1502;&#1513;&#1499;&#1500;\\\\x22,\\\\x22lml\\\\x22:\\\\'\n",
      " b'x22&#1500;&#1502;&#1497;&#1491;&#1506; &#1504;&#1493;&#1505;&#1507;\\\\x22,'\n",
      " b'\\\\x22oskt\\\\x22:\\\\x22&#1499;&#1500;&#1497; &#1492;&#1494;&#1504;&#1492;\\\\x22,'\n",
      " b'\\\\x22psrc\\\\x22:\\\\x22&#1495;&#1497;&#1508;&#1493;&#1513; &#1494;&#1492; &#14'\n",
      " b'92;&#1493;&#1505;&#1512; &#1502;\\\\\\\\u003Ca href\\\\x3d\\\\\\\\\\\\x22/history\\\\'\n",
      " b'\\\\\\\\x22\\\\\\\\u003E&#1492;&#1497;&#1505;&#1496;&#1493;&#1512;&#1497;&#1497;&#15'\n",
      " b'14; &#1492;&#1488;&#1497;&#1504;&#1496;&#1512;&#1504;&#1496;\\\\\\\\u003C/a\\\\\\\\u'\n",
      " b'003E &#1513;&#1500;&#1498;\\\\x22,\\\\x22psrl\\\\x22:\\\\x22&#1492;&#1505;&#1512'\n",
      " b';\\\\x22,\\\\x22sbit\\\\x22:\\\\x22&#1495;&#1497;&#1508;&#1493;&#1513; &#1500;&#1508'\n",
      " b';&#1497; &#1514;&#1502;&#1493;&#1504;&#1492;\\\\x22,\\\\x22srch\\\\x22:\\\\x22&#1495'\n",
      " b';&#1497;&#1508;&#1493;&#1513; &#1489;-Google\\\\x22},\\\\x22ovr\\\\x22:{},\\\\x2'\n",
      " b'2pq\\\\x22:\\\\x22\\\\x22,\\\\x22refpd\\\\x22:true,\\\\x22rfs\\\\x22:[],\\\\x22sbpl\\\\x22:'\n",
      " b'24,\\\\x22sbpr\\\\x22:24,\\\\x22scd\\\\x22:10,\\\\x22sce\\\\x22:5,\\\\x22stok\\\\x22:\\\\x2'\n",
      " b\"2o6cGIS14Z2yq5K6_frbK9oH_mH4\\\\x22,\\\\x22uhde\\\\x22:false}}';google.pmc=JSON.p\"\n",
      " b'arse(pmc);})();</script>        </body></html>')\n"
     ]
    }
   ],
   "source": [
    "pp(urllib.request.urlopen(\"https://www.google.com\").read())"
   ]
  },
  {
   "cell_type": "code",
   "execution_count": 38,
   "metadata": {
    "slideshow": {
     "slide_type": "subslide"
    }
   },
   "outputs": [
    {
     "name": "stdout",
     "output_type": "stream",
     "text": [
      "Day.MONDAY\n",
      "<Day.MONDAY: 2>\n"
     ]
    }
   ],
   "source": [
    "# Enumerations are great, you should familiarize yourself with them\n",
    "from enum import Enum\n",
    "class Day(Enum):\n",
    "    SUNDAY = 1\n",
    "    MONDAY = 2\n",
    "    TUESDAY = 3\n",
    "    WEDNESDAY = 4\n",
    "    THURSDAY = 5\n",
    "    FRIDAY = 6\n",
    "    SATURDAY = 7\n",
    "\n",
    "d = Day.MONDAY\n",
    "print(d)\n",
    "pp(d)"
   ]
  },
  {
   "cell_type": "code",
   "execution_count": 39,
   "metadata": {
    "slideshow": {
     "slide_type": "subslide"
    }
   },
   "outputs": [],
   "source": [
    "from random import randint, randrange"
   ]
  },
  {
   "cell_type": "code",
   "execution_count": 40,
   "metadata": {
    "slideshow": {
     "slide_type": "subslide"
    }
   },
   "outputs": [],
   "source": [
    "# Instead (or on top) of from:\n",
    "import multiprocessing.pool as mpool"
   ]
  },
  {
   "cell_type": "code",
   "execution_count": 41,
   "metadata": {
    "slideshow": {
     "slide_type": "subslide"
    }
   },
   "outputs": [
    {
     "name": "stdout",
     "output_type": "stream",
     "text": [
      "3.141592653589793\n",
      "2.718281828459045\n",
      "-1.0\n"
     ]
    }
   ],
   "source": [
    "# A non-recommended version of importing is the star import\n",
    "from math import *\n",
    "print(pi)\n",
    "print(e)\n",
    "print(cos(pi))"
   ]
  },
  {
   "cell_type": "markdown",
   "metadata": {
    "slideshow": {
     "slide_type": "subslide"
    }
   },
   "source": [
    "The list of all standard library modules in Python 3 is [here](https://docs.python.org/3/library/index.html). However, it's just a drop in the ocean that is the Python ecosystem. "
   ]
  },
  {
   "cell_type": "markdown",
   "metadata": {
    "slideshow": {
     "slide_type": "slide"
    }
   },
   "source": [
    "## `pip` and External Modules"
   ]
  },
  {
   "cell_type": "markdown",
   "metadata": {
    "slideshow": {
     "slide_type": "subslide"
    }
   },
   "source": [
    "As noted before, Python's gigantic ecosystem is one of its biggest strengths. And the fact that you can easily install many of these package with a simple command-line instruction is even more important. The standard tool to do that is `pip`, a recursive acronym that stands for \"`pip` installs Python\"."
   ]
  },
  {
   "cell_type": "markdown",
   "metadata": {
    "slideshow": {
     "slide_type": "subslide"
    }
   },
   "source": [
    "`pip` itself is a Python program, __but its not run from inside the Python interpreter.__ Instead its run from a shell - the Windows command line (or PowerShell), for example, or the Mac's terminal - making it an external application to Python. Happily enough, basically all Python distributions come with `pip` pre-installed, so you don't have to install it yourself."
   ]
  },
  {
   "cell_type": "markdown",
   "metadata": {
    "slideshow": {
     "slide_type": "subslide"
    }
   },
   "source": [
    "`pip`, like any package manager, has two main jobs. The first is to provide a convenient API to a package repository. In essence, it's a download manager for a single site - the [Python Package Index](https://pypi.python.org/pypi) (PyPI, pronounced _pai-pee-eye_), the official Python repository for packages.\n",
    "\n",
    "PyPI holds installation files for the packages hosted in it, alongside with some metadata, like version number and dependencies. `pip` (and other tools we'll discuss soon) downloads the wanted package from PyPI, together with its dependencies, and installs them in a pre-defined location in our personal computer."
   ]
  },
  {
   "cell_type": "markdown",
   "metadata": {
    "slideshow": {
     "slide_type": "subslide"
    }
   },
   "source": [
    "`pip`'s second important job is handling dependencies. Many packages rely on other packages, which in turn rely on other, more basic packages, finally leading to the basic Python interpreter. `pip` has to make sure to install all dependencies of the package you're currently after, and to avoid any collisions with other installed packages. For example, a common problem in the Python world is the Python 2-3 schism, which means that packages written for Python 2 can't run on a Python 3 interpreter, and vice versa. The package manger's job is to grant you the right version of the package you're looking for."
   ]
  },
  {
   "cell_type": "markdown",
   "metadata": {
    "slideshow": {
     "slide_type": "slide"
    }
   },
   "source": [
    "## File Structure"
   ]
  },
  {
   "cell_type": "markdown",
   "metadata": {
    "slideshow": {
     "slide_type": "subslide"
    }
   },
   "source": [
    "`import` statements are useful for more than just importing code - they're also our way of arranging our project's files. Here's the standard arrangement of files I'd like you to use throughout the course:"
   ]
  },
  {
   "cell_type": "raw",
   "metadata": {
    "slideshow": {
     "slide_type": "subslide"
    }
   },
   "source": [
    "- /home/\n",
    "    - my_proj/\n",
    "        - project_name/\n",
    "            - `__init__.py`\n",
    "            - `class1.py\n",
    "            - `class2.py`\n",
    "        - setup.py\n",
    "        - README.md\n",
    "        - config.cfg\n",
    "        - data.tif\n",
    "        \n",
    "    - other_proj/\n",
    "    - yet_another/"
   ]
  },
  {
   "cell_type": "markdown",
   "metadata": {
    "slideshow": {
     "slide_type": "subslide"
    }
   },
   "source": [
    "The base folder can contain many other files, including sample data, for example. The point here is that your actual code in confined to the `project_name` folder, which has an empty `__init__.py`. This file allows Python to import user-defined objects from that folder.\n",
    "\n",
    "Thus, if you wish to use a function you defined in `class_1.py` in `class_2.py`, you should write inside `class_2.py` the following statement: `from class_1.py import my_func`."
   ]
  }
 ],
 "metadata": {
  "anaconda-cloud": {},
  "celltoolbar": "Slideshow",
  "kernelspec": {
   "display_name": "Python 3",
   "language": "python",
   "name": "python3"
  },
  "language_info": {
   "codemirror_mode": {
    "name": "ipython",
    "version": 3
   },
   "file_extension": ".py",
   "mimetype": "text/x-python",
   "name": "python",
   "nbconvert_exporter": "python",
   "pygments_lexer": "ipython3",
   "version": "3.7.1"
  }
 },
 "nbformat": 4,
 "nbformat_minor": 2
}
