{
 "cells": [
  {
   "cell_type": "markdown",
   "metadata": {
    "slideshow": {
     "slide_type": "slide"
    }
   },
   "source": [
    "# Class 4 - 25.3.18"
   ]
  },
  {
   "cell_type": "markdown",
   "metadata": {
    "slideshow": {
     "slide_type": "slide"
    }
   },
   "source": [
    "# Part 2 - Object Oriented Programming"
   ]
  },
  {
   "cell_type": "markdown",
   "metadata": {
    "slideshow": {
     "slide_type": "slide"
    }
   },
   "source": [
    "## Two Exercises\n",
    "\n",
    "### The Fraction Class"
   ]
  },
  {
   "cell_type": "markdown",
   "metadata": {
    "slideshow": {
     "slide_type": "subslide"
    }
   },
   "source": [
    "Create a `Fraction()` class with only the basic attributes. Assume that the inputs are numbers.\n",
    "\n",
    "a. Override some operators so that you can add a Fraction to an integer (`Fraction() + int` only, not `int + Fraction()`).\n",
    "\n",
    "b. Override the operator that allows you to check which fraction is larger between the two."
   ]
  },
  {
   "cell_type": "markdown",
   "metadata": {
    "slideshow": {
     "slide_type": "subslide"
    }
   },
   "source": [
    "### The Path Class"
   ]
  },
  {
   "cell_type": "markdown",
   "metadata": {
    "slideshow": {
     "slide_type": "subslide"
    }
   },
   "source": [
    "Create a `Path()` class, symboling a directory in a mock filesystem. The class should at least one attribute and three methods, not including the mandatory `__init__` method:\n",
    "- `Path.get_parent()` - returns the name of the parent folder of our Path (not the entire path).\n",
    "- `Path.get_size()` - returns a number corresponding to the size in KB of the folder, which should depend on the number of files in the folder.\n",
    "- `Path.set_path(Path())` - Change the current directory to the one given (as a Path() instance).\n",
    "`\n",
    "\n",
    "After you've created it, overload the division operator `/` (`__truediv__`) to concatenate two a Path class instance with a string pointing to a folder, i.e.:\n",
    "```python\n",
    ">> print(Path(\"/home\") / \"/usr\")\n",
    "Path(\"/home/usr\")\n",
    "```\n",
    "_Note:_ The filesystem is a _mock_ one, meaning that it shouldn't correspond to the actual file system, but to path-like strings you invent, like the ones above.\n",
    "\n",
    "You can also assume that the string doesn't contain you own path, i.e. you don't have to deal with cases such as:\n",
    "`Path(\"/home\") / \"/home/usr\"`"
   ]
  },
  {
   "cell_type": "markdown",
   "metadata": {
    "slideshow": {
     "slide_type": "subslide"
    }
   },
   "source": [
    "### Exercises solutions follow..."
   ]
  },
  {
   "cell_type": "code",
   "execution_count": 53,
   "metadata": {
    "slideshow": {
     "slide_type": "subslide"
    }
   },
   "outputs": [],
   "source": [
    "# Exercise 1\n",
    "class Fraction:\n",
    "    \"\"\" \n",
    "    Models a fraction with a numerator and a denominator, assuming the inputs are numbers\n",
    "    Attributes:\n",
    "    num - int, float - numerator\n",
    "    denom - int, float - denomerator\n",
    "    value - num/denom\n",
    "    Methods:\n",
    "    Can be added and compared to other fractions\n",
    "    \"\"\"\n",
    "    def __init__(self, num, denom):\n",
    "        self.num = num\n",
    "        self.denom = denom\n",
    "        try:\n",
    "            self.value = self.num/self.denom\n",
    "        except ZeroDivisonError:\n",
    "            self.value = None\n",
    "    \n",
    "    def __str__(self):\n",
    "        return f\"{self.num}/{self.denom} = {self.value}\"\n",
    "    \n",
    "    def __add__(self, other):\n",
    "        \"\"\" Left-add a Fraction to an integer \"\"\"\n",
    "        new_other = Fraction(int(other) * self.denom, self.denom)\n",
    "        return Fraction(self.num + new_other.num, self.denom)\n",
    "    \n",
    "    def __gt__(self, other):\n",
    "        \"\"\" Left > between two fractions \"\"\"\n",
    "        try:\n",
    "            return self.value > other.value\n",
    "        except AttributeError:\n",
    "            return NotImplemented"
   ]
  },
  {
   "cell_type": "code",
   "execution_count": 54,
   "metadata": {
    "slideshow": {
     "slide_type": "subslide"
    }
   },
   "outputs": [
    {
     "name": "stdout",
     "output_type": "stream",
     "text": [
      "1/2 = 0.5\n",
      "0.5\n",
      "Is f1 bigger?\n",
      "False\n",
      "Is f1 smaller?\n",
      "True\n",
      "Are they equal?\n",
      "False\n",
      "Are they not equal?\n",
      "True\n"
     ]
    }
   ],
   "source": [
    "f1 = Fraction(1, 2)\n",
    "f2 = Fraction(3, 4)\n",
    "\n",
    "print(f1)\n",
    "\n",
    "print(f1.value)\n",
    "\n",
    "print(\"Is f1 bigger?\")\n",
    "print(f1 > f2)\n",
    "\n",
    "print(\"Is f1 smaller?\")\n",
    "print(f1 < f2)\n",
    "\n",
    "print(\"Are they equal?\")\n",
    "print(f1 == f2)\n",
    "\n",
    "print(\"Are they not equal?\")\n",
    "print(f1 != f2)\n",
    "# Damn, Python's smart."
   ]
  },
  {
   "cell_type": "code",
   "execution_count": 55,
   "metadata": {
    "slideshow": {
     "slide_type": "subslide"
    }
   },
   "outputs": [],
   "source": [
    "# Exercise 2 - the Path class\n",
    "import os\n",
    "\n",
    "\n",
    "class Path:\n",
    "    \"\"\" \n",
    "    File system path to folders, allows the use of \"/\" to move between folders\n",
    "    Attributes:\n",
    "    path - str\n",
    "    files - list of str\n",
    "    \n",
    "    Methods:\n",
    "    get_parent - returns parent folder as Path\n",
    "    get_size - returns size of current folder in KB\n",
    "    set_path(new_path) - changes current path to the .path attribute of new_path\n",
    "    \"\"\"\n",
    "    def __init__(self, path, files=['a.txt', 'b.py', 'c.c']):\n",
    "        self.path = path\n",
    "        self.files = files\n",
    "    \n",
    "    def get_parent(self):\n",
    "        \"\"\" Returns the name of the parent folder \"\"\"\n",
    "        separated_path = self.path.split(os.sep)\n",
    "        try:\n",
    "            parent = separated_path[-2]\n",
    "        except IndexError:\n",
    "            return None\n",
    "        else:\n",
    "            return separated_path[-2]\n",
    "    \n",
    "    def get_size(self):\n",
    "        \"\"\" Returns the size in KB of the folder's content \"\"\"\n",
    "        return 10 * len(self.files)\n",
    "    \n",
    "    def set_path(self, new_path):\n",
    "        \"\"\" Changes current path to new_path \"\"\"\n",
    "        try:\n",
    "            _path, _files = new_path.path, new_path.files\n",
    "        except AttributeError:\n",
    "            print(\"Input variable must be a Path-like instance\")\n",
    "            raise\n",
    "        else:  # Written like that because we're afraid that the \"new_path\" variable might have\n",
    "               # a \".path\" attribute, but not a \"files\" attribute, for example\n",
    "            self.path = _path\n",
    "            self.files = _files\n",
    "    \n",
    "    def __truediv__(self, other):\n",
    "        \"\"\" \n",
    "        Traverse the filesystem using the / sign, assuming that \n",
    "        other isn't an absolute path.\n",
    "        Returns a new instance\n",
    "        \"\"\"\n",
    "        assert type(other) in (str, int)\n",
    "        new_path = self.path + os.sep + str(other)\n",
    "        new_files = []\n",
    "        return Path(path=new_path, files=new_files)"
   ]
  },
  {
   "cell_type": "code",
   "execution_count": 56,
   "metadata": {
    "slideshow": {
     "slide_type": "subslide"
    }
   },
   "outputs": [
    {
     "name": "stdout",
     "output_type": "stream",
     "text": [
      "\\home\\usr\\python\\python36 ['ab.R, l.cpp, py.py']\n",
      "Size: 10, parent: python\n"
     ]
    }
   ],
   "source": [
    "p = Path(r'\\home\\usr\\python\\python36', files=['ab.R, l.cpp, py.py'])\n",
    "print(p.path, p.files)\n",
    "\n",
    "size = p.get_size()\n",
    "parent = p.get_parent()\n",
    "print(f\"Size: {size}, parent: {parent}\")"
   ]
  },
  {
   "cell_type": "code",
   "execution_count": 57,
   "metadata": {
    "slideshow": {
     "slide_type": "subslide"
    }
   },
   "outputs": [
    {
     "name": "stdout",
     "output_type": "stream",
     "text": [
      "\\usr\\local\\bin ['a.txt', 'b.py', 'c.c']\n"
     ]
    }
   ],
   "source": [
    "p.set_path(Path(r'\\usr\\local\\bin'))\n",
    "print(p.path, p.files)"
   ]
  },
  {
   "cell_type": "code",
   "execution_count": 58,
   "metadata": {
    "slideshow": {
     "slide_type": "subslide"
    }
   },
   "outputs": [
    {
     "name": "stdout",
     "output_type": "stream",
     "text": [
      "\\usr\\local\\bin\\data\n"
     ]
    }
   ],
   "source": [
    "new_path = p / 'data'\n",
    "print(new_path.path)"
   ]
  },
  {
   "cell_type": "markdown",
   "metadata": {
    "slideshow": {
     "slide_type": "slide"
    }
   },
   "source": [
    "## Inheritance"
   ]
  },
  {
   "cell_type": "markdown",
   "metadata": {
    "slideshow": {
     "slide_type": "subslide"
    }
   },
   "source": [
    "One of the most important aspects of object-oriented programming is _inheritance_. Since we're now modeling real-life objects, we can think of the relations between these objects in our code. These relations are sometimes deemed \"interfaces\", and one of the most important interfaces is inheritance. A simple example should be quite clear:"
   ]
  },
  {
   "cell_type": "code",
   "execution_count": 59,
   "metadata": {
    "slideshow": {
     "slide_type": "subslide"
    }
   },
   "outputs": [],
   "source": [
    "# The base class\n",
    "class Person:\n",
    "    \"\"\"A base class representing the average Joe (or Jane)\"\"\"\n",
    "    def __init__(self, name='Jane', age=42, gender='F'):\n",
    "        self.name = name\n",
    "        self.age = age\n",
    "        self.gender = gender\n",
    "    \n",
    "    def is_old(self):\n",
    "        \"\"\"Ageism is wrong\"\"\"\n",
    "        return self.age > 120"
   ]
  },
  {
   "cell_type": "code",
   "execution_count": 60,
   "metadata": {
    "slideshow": {
     "slide_type": "subslide"
    }
   },
   "outputs": [
    {
     "data": {
      "text/plain": [
       "False"
      ]
     },
     "execution_count": 60,
     "metadata": {},
     "output_type": "execute_result"
    }
   ],
   "source": [
    "woman_a = Person(name='Tammy', age=40, gender='F')\n",
    "woman_a.is_old()"
   ]
  },
  {
   "cell_type": "markdown",
   "metadata": {
    "slideshow": {
     "slide_type": "subslide"
    }
   },
   "source": [
    "As you can see, we created a `Person()`, which obviously corresponds to a (simplified) real-life person.\n",
    "\n",
    "Now we'll introduce inheritance, by creating a new class that inherits from `Person()`:"
   ]
  },
  {
   "cell_type": "code",
   "execution_count": 61,
   "metadata": {
    "slideshow": {
     "slide_type": "subslide"
    }
   },
   "outputs": [],
   "source": [
    "class Student(Person):\n",
    "    def __init__(self, name='Jane', age=42, gender='F', school='Sagol', gpa=5.):\n",
    "        super().__init__(name, age, gender)  # initialize the Person, termed super(), for super-class\n",
    "        self.school = school\n",
    "        self.gpa = gpa\n",
    "        \n",
    "    def try_expel(self):\n",
    "        \"\"\"A low GPA will get you kicked\"\"\"\n",
    "        if self.gpa < 4.5:\n",
    "            self.school = None\n",
    "            return True"
   ]
  },
  {
   "cell_type": "code",
   "execution_count": 62,
   "metadata": {
    "slideshow": {
     "slide_type": "subslide"
    }
   },
   "outputs": [],
   "source": [
    "stud = Student('John', 25, 'M', 'Life Sciences', 4.2)"
   ]
  },
  {
   "cell_type": "markdown",
   "metadata": {
    "slideshow": {
     "slide_type": "subslide"
    }
   },
   "source": [
    "Which methods and attributes does our `stud` have?"
   ]
  },
  {
   "cell_type": "code",
   "execution_count": 63,
   "metadata": {
    "slideshow": {
     "slide_type": "subslide"
    }
   },
   "outputs": [
    {
     "name": "stdout",
     "output_type": "stream",
     "text": [
      "John\n",
      "4.2\n",
      "Life Sciences\n"
     ]
    }
   ],
   "source": [
    "# Methods from both the Person and the Student class, of course.\n",
    "print(stud.name)\n",
    "print(stud.gpa)\n",
    "print(stud.school)"
   ]
  },
  {
   "cell_type": "code",
   "execution_count": 64,
   "metadata": {
    "slideshow": {
     "slide_type": "subslide"
    }
   },
   "outputs": [
    {
     "data": {
      "text/plain": [
       "False"
      ]
     },
     "execution_count": 64,
     "metadata": {},
     "output_type": "execute_result"
    }
   ],
   "source": [
    "stud.is_old()"
   ]
  },
  {
   "cell_type": "code",
   "execution_count": 65,
   "metadata": {
    "slideshow": {
     "slide_type": "subslide"
    }
   },
   "outputs": [
    {
     "name": "stdout",
     "output_type": "stream",
     "text": [
      "None\n"
     ]
    }
   ],
   "source": [
    "stud.try_expel()\n",
    "print(stud.school)"
   ]
  },
  {
   "cell_type": "markdown",
   "metadata": {
    "slideshow": {
     "slide_type": "subslide"
    }
   },
   "source": [
    "Inheritance facilitates code re-use and simpler, clearer mental models of the problem at hand.\n",
    "\n",
    "A possible issue with inheritance is readability - finding the methods that are associated with the base class can be cumbersome. This is why usually people try to avoid more than a single layer of inheritance."
   ]
  },
  {
   "cell_type": "markdown",
   "metadata": {
    "slideshow": {
     "slide_type": "slide"
    }
   },
   "source": [
    "## Exercise\n",
    "### Smartphones"
   ]
  },
  {
   "cell_type": "markdown",
   "metadata": {
    "slideshow": {
     "slide_type": "subslide"
    }
   },
   "source": [
    "Model both a smartphone and a label-specific phone (like iPhone) by using a parent and child class. Have at least 2 methods and 2 attributes for the base class, and at least one unique method for the child class.\n",
    "\n",
    "One of the methods has to be a `call(phone)` method, designed to call from one phone to the other. When `call()`ing between iPhones, the method should use the FaceTime interface of the two iPhones. Make sure to keep a log of the calls on both phones."
   ]
  },
  {
   "cell_type": "markdown",
   "metadata": {
    "slideshow": {
     "slide_type": "subslide"
    }
   },
   "source": [
    "### Exercise solution below..."
   ]
  },
  {
   "cell_type": "code",
   "execution_count": 66,
   "metadata": {
    "slideshow": {
     "slide_type": "subslide"
    }
   },
   "outputs": [],
   "source": [
    "import time\n",
    "\n",
    "\n",
    "class Phone:\n",
    "    \"\"\" Base class for all types of mobile phones \"\"\"\n",
    "    \n",
    "    def __init__(self, name, screen_size, num_camera=2):\n",
    "        self.name = name\n",
    "        self.screen_size = screen_size\n",
    "        self.num_of_camera = num_camera\n",
    "        self.is_on = True  # power switch\n",
    "        self.photos = []  # list of pictures taken\n",
    "        self.calls = {}  # call log\n",
    "    \n",
    "    def switch_power(self):\n",
    "        self.is_on = False if self.is_on else True\n",
    "    \n",
    "    def take_photo(self):\n",
    "        \"\"\" Take a photo and append it to the photo album \"\"\"\n",
    "        self.photo.append([[1, 0], [0, 1]])\n",
    "    \n",
    "    def call(self, other):\n",
    "        \"\"\" Call another Phone instance \"\"\"\n",
    "        if self.is_on and other.is_on:\n",
    "            self.calls[other.name] = time.time()\n",
    "            other.calls[self.name] = time.time()\n",
    "        else:\n",
    "            print(f\"Phone {other.name} is off.\")\n",
    "            \n",
    "        return other\n",
    "\n",
    "class IPhone(Phone):\n",
    "    \"\"\" A more expensive phone, that can call other iPhones using a special call method \"\"\"\n",
    "    \n",
    "    def __init__(self, name, screen_size, num_camera, apple_id):\n",
    "        super().__init__(name, screen_size, num_camera)\n",
    "        self.apple_id = apple_id\n",
    "        self.facetime_calls = {}  # FaceTime call log\n",
    "    \n",
    "    def call(self, other):\n",
    "        \"\"\" Overrides the call method from the parent class \"\"\"\n",
    "        if self.is_on and other.is_on:\n",
    "            try:\n",
    "                self.facetime_calls[other.apple_id] = time.time()\n",
    "            except AttributeError:\n",
    "                self.calls[other.name] = time.time()\n",
    "                other.calls[self.name] = time.time()\n",
    "            else:\n",
    "                other.facetime_calls[self.apple_id] = time.time()\n",
    "        else:\n",
    "            print(f\"Phone {other.name} is off.\")\n",
    "        \n",
    "        return other\n",
    "        "
   ]
  },
  {
   "cell_type": "code",
   "execution_count": 67,
   "metadata": {
    "slideshow": {
     "slide_type": "subslide"
    }
   },
   "outputs": [
    {
     "name": "stdout",
     "output_type": "stream",
     "text": [
      "Before calling, the log for regular shows: {}\n",
      "After the call, regular shows {'iphone_8': 1521987246.7338047} and the iPhone shows {'lg_v10': 1521987246.7338047}\n"
     ]
    }
   ],
   "source": [
    "regular = Phone(name='lg_v10', screen_size=6)\n",
    "iphone = IPhone(name='iphone_8', screen_size=5.5, num_camera=3, apple_id='first_iphone_8')\n",
    "iphone2 = IPhone(name='iphon_X', screen_size=6, num_camera=3, apple_id='second_iphone_X')\n",
    "\n",
    "# Call from regular phone to iPhone\n",
    "print(f\"Before calling, the log for regular shows: {regular.calls}\")\n",
    "iphone = regular.call(iphone)\n",
    "print(f\"After the call, regular shows {regular.calls} and the iPhone shows {iphone.calls}\")"
   ]
  },
  {
   "cell_type": "code",
   "execution_count": 68,
   "metadata": {
    "slideshow": {
     "slide_type": "subslide"
    }
   },
   "outputs": [
    {
     "name": "stdout",
     "output_type": "stream",
     "text": [
      "Before calling, the log for first iPhone shows: {}\n",
      "After the call, the first iPhone shows {'second_iphone_X': 1521987246.8198643} and the second shows {'first_iphone_8': 1521987246.8198643}\n"
     ]
    }
   ],
   "source": [
    "# Two iPhones:\n",
    "print(f\"Before calling, the log for first iPhone shows: {iphone.facetime_calls}\")\n",
    "iphone2 = iphone.call(iphone2)\n",
    "print(f\"After the call, the first iPhone shows {iphone.facetime_calls} and the second shows {iphone2.facetime_calls}\")"
   ]
  },
  {
   "cell_type": "markdown",
   "metadata": {
    "slideshow": {
     "slide_type": "subslide"
    }
   },
   "source": [
    "Object-oriented design requires you to think about the code you're about to write - how to model each object, how to deal with the interfaces between them, how to verify the types of each input, etc.\n",
    "\n",
    "Because we're trying to model a complex structures, we usually don't succeed in the first try. That's because we become smarter and understand our needs from the model better __only after we've used it.__ Premeditating and debating on the exact way through which two `Phones()` will call each other is important, but we'll usually just __refactor__ our initial model in favor of a better one after a few days of \"usage\". That's the underlying reason for \"alpha\" and \"beta\" versions of software. \n",
    "\n",
    "In short, rewriting large parts of an application you designed is expected, since it's a natural and important part of software design - a luxury other engineers rarely have."
   ]
  },
  {
   "cell_type": "markdown",
   "metadata": {
    "slideshow": {
     "slide_type": "slide"
    }
   },
   "source": [
    " # Errors and Exceptions"
   ]
  },
  {
   "cell_type": "markdown",
   "metadata": {
    "slideshow": {
     "slide_type": "subslide"
    }
   },
   "source": [
    "A very debated feature of Python (and other scripting languages) is its fear of failing. Python tries to coerce unknown commands into something familiar that it can work with. For example, addition of `bool`s and other types is fully supported, since `bool` types are treated as 0 (for `False`) and 1 (for `True`)."
   ]
  },
  {
   "cell_type": "code",
   "execution_count": 1,
   "metadata": {
    "slideshow": {
     "slide_type": "subslide"
    }
   },
   "outputs": [
    {
     "data": {
      "text/plain": [
       "0.0"
      ]
     },
     "execution_count": 1,
     "metadata": {},
     "output_type": "execute_result"
    }
   ],
   "source": [
    "True - 1.0"
   ]
  },
  {
   "cell_type": "code",
   "execution_count": 2,
   "metadata": {
    "slideshow": {
     "slide_type": "subslide"
    }
   },
   "outputs": [
    {
     "data": {
      "text/plain": [
       "10"
      ]
     },
     "execution_count": 2,
     "metadata": {},
     "output_type": "execute_result"
    }
   ],
   "source": [
    "False + 10"
   ]
  },
  {
   "cell_type": "markdown",
   "metadata": {
    "slideshow": {
     "slide_type": "subslide"
    }
   },
   "source": [
    "However, many other statements will result in an error, or _Exception_ in Python's terms:"
   ]
  },
  {
   "cell_type": "code",
   "execution_count": 3,
   "metadata": {
    "slideshow": {
     "slide_type": "subslide"
    }
   },
   "outputs": [
    {
     "ename": "TypeError",
     "evalue": "must be str, not int",
     "output_type": "error",
     "traceback": [
      "\u001b[1;31m---------------------------------------------------------------------------\u001b[0m",
      "\u001b[1;31mTypeError\u001b[0m                                 Traceback (most recent call last)",
      "\u001b[1;32m<ipython-input-3-977675d93a78>\u001b[0m in \u001b[0;36m<module>\u001b[1;34m()\u001b[0m\n\u001b[1;32m----> 1\u001b[1;33m \u001b[1;34m'3'\u001b[0m \u001b[1;33m+\u001b[0m \u001b[1;36m3\u001b[0m  \u001b[1;31m# TypeError\u001b[0m\u001b[1;33m\u001b[0m\u001b[0m\n\u001b[0m",
      "\u001b[1;31mTypeError\u001b[0m: must be str, not int"
     ]
    }
   ],
   "source": [
    "'3' + 3  # TypeError"
   ]
  },
  {
   "cell_type": "code",
   "execution_count": 4,
   "metadata": {
    "slideshow": {
     "slide_type": "subslide"
    }
   },
   "outputs": [
    {
     "ename": "IndexError",
     "evalue": "list index out of range",
     "output_type": "error",
     "traceback": [
      "\u001b[1;31m---------------------------------------------------------------------------\u001b[0m",
      "\u001b[1;31mIndexError\u001b[0m                                Traceback (most recent call last)",
      "\u001b[1;32m<ipython-input-4-4076b5525985>\u001b[0m in \u001b[0;36m<module>\u001b[1;34m()\u001b[0m\n\u001b[0;32m      1\u001b[0m \u001b[0ma\u001b[0m \u001b[1;33m=\u001b[0m \u001b[1;33m[\u001b[0m\u001b[1;36m0\u001b[0m\u001b[1;33m,\u001b[0m \u001b[1;36m1\u001b[0m\u001b[1;33m,\u001b[0m \u001b[1;36m2\u001b[0m\u001b[1;33m]\u001b[0m\u001b[1;33m\u001b[0m\u001b[0m\n\u001b[1;32m----> 2\u001b[1;33m \u001b[0ma\u001b[0m\u001b[1;33m[\u001b[0m\u001b[1;36m3\u001b[0m\u001b[1;33m]\u001b[0m  \u001b[1;31m# IndexError\u001b[0m\u001b[1;33m\u001b[0m\u001b[0m\n\u001b[0m",
      "\u001b[1;31mIndexError\u001b[0m: list index out of range"
     ]
    }
   ],
   "source": [
    "a = [0, 1, 2]\n",
    "a[3]  # IndexError"
   ]
  },
  {
   "cell_type": "code",
   "execution_count": 5,
   "metadata": {
    "slideshow": {
     "slide_type": "subslide"
    }
   },
   "outputs": [
    {
     "ename": "NameError",
     "evalue": "name 'camel' is not defined",
     "output_type": "error",
     "traceback": [
      "\u001b[1;31m---------------------------------------------------------------------------\u001b[0m",
      "\u001b[1;31mNameError\u001b[0m                                 Traceback (most recent call last)",
      "\u001b[1;32m<ipython-input-5-30dc50b6b31d>\u001b[0m in \u001b[0;36m<module>\u001b[1;34m()\u001b[0m\n\u001b[1;32m----> 1\u001b[1;33m \u001b[0mcamel\u001b[0m  \u001b[1;31m# NameError\u001b[0m\u001b[1;33m\u001b[0m\u001b[0m\n\u001b[0m",
      "\u001b[1;31mNameError\u001b[0m: name 'camel' is not defined"
     ]
    }
   ],
   "source": [
    "camel  # NameError"
   ]
  },
  {
   "cell_type": "markdown",
   "metadata": {
    "slideshow": {
     "slide_type": "subslide"
    }
   },
   "source": [
    "There are countless exceptions in Python, and most modules you'll use created their designated exceptions. Modules and packages do this because the exception is _meaningful_ - each exception conveys information about what went wrong during the runtime. Since it's not a simple error, we can use this information by predetermining the course of action when an excpetion occurs. This is called _catching_ an exception."
   ]
  },
  {
   "cell_type": "markdown",
   "metadata": {
    "slideshow": {
     "slide_type": "subslide"
    }
   },
   "source": [
    "The keywords involved are: `try`, `except`, `else` and `finally`:\n",
    "\n",
    "```python\n",
    "try:\n",
    "    # Do something that might fail\n",
    "except PermissionError:\n",
    "    # If we don't have permission to do the operation (e.g. write to protected disk), do the following\n",
    "except IsADirectoryError:\n",
    "    # Trying to do a file operation on a directory - so do the following\n",
    "except (NameError, TypeError):\n",
    "    # If we encouter either a non-existent variable or operation on variables, do the following\n",
    "except Exception:\n",
    "    # General error, not caught by previous exceptions\n",
    "else:\n",
    "    # If the operation under \"try\" succeeded, do the following\n",
    "finally:\n",
    "    # Regardless of the result - success or failure - do this.\n",
    "```"
   ]
  },
  {
   "cell_type": "markdown",
   "metadata": {
    "slideshow": {
     "slide_type": "subslide"
    }
   },
   "source": [
    "Let's break it down:"
   ]
  },
  {
   "cell_type": "code",
   "execution_count": 84,
   "metadata": {
    "slideshow": {
     "slide_type": "subslide"
    }
   },
   "outputs": [],
   "source": [
    "# Simplest form of exception handling:\n",
    "# a = 2\n",
    "try:\n",
    "    b = a + 1\n",
    "except NameError:  # a or b isn't defined\n",
    "    a = 1\n",
    "    b = 2\n",
    "\n",
    "# We could catch other exceptions\n",
    "try:\n",
    "    b = a + 1\n",
    "except TypeError:  # a isn't a float\\int\n",
    "    b = 2\n"
   ]
  },
  {
   "cell_type": "code",
   "execution_count": 85,
   "metadata": {
    "slideshow": {
     "slide_type": "subslide"
    }
   },
   "outputs": [
    {
     "name": "stdout",
     "output_type": "stream",
     "text": [
      "1 remaing key(s) in the dictionary\n"
     ]
    }
   ],
   "source": [
    "# With the else clause\n",
    "current_key = 'John'\n",
    "default_val = 'Cohen'\n",
    "dict_1 = {'John': 'Doe', 'Jane': 'Doe'}\n",
    "try:\n",
    "    johns = dict_1.pop(current_key)\n",
    "except KeyError:  # Non-existent key\n",
    "    dict_1[current_key] = default_val\n",
    "else:\n",
    "    print(f\"{len(dict_1)} remaing key(s) in the dictionary\")\n",
    "    "
   ]
  },
  {
   "cell_type": "code",
   "execution_count": 86,
   "metadata": {
    "slideshow": {
     "slide_type": "subslide"
    }
   },
   "outputs": [
    {
     "name": "stdout",
     "output_type": "stream",
     "text": [
      "IndexError\n",
      "Exception: tuple index out of range; tup: (1,)\n"
     ]
    }
   ],
   "source": [
    "# Another else example\n",
    "tup = (1,)\n",
    "try:\n",
    "    a, b = tup[0], tup[1]\n",
    "except IndexError as e:\n",
    "    print(\"IndexError\")\n",
    "    print(f\"Exception: {e}; tup: {tup}\")\n",
    "else:\n",
    "    # process_data(a, b)\n",
    "    print(a, b)"
   ]
  },
  {
   "cell_type": "markdown",
   "metadata": {
    "slideshow": {
     "slide_type": "subslide"
    }
   },
   "source": [
    "We use the `else` clause because we wish to catch a specific `IndexError` in the tuple destructuring (`a, b = tup[0], tup[1]`). The `process_data(a, b)` can raise other `IndexError`s which we'll deal with inside the function. But the relevant `IndexError` to catch is the tuple destructuring one."
   ]
  },
  {
   "cell_type": "code",
   "execution_count": 87,
   "metadata": {
    "slideshow": {
     "slide_type": "subslide"
    }
   },
   "outputs": [],
   "source": [
    "# With the finally clause\n",
    "def divisor(a, b):\n",
    "    \"\"\"\n",
    "    Divides two numbers.\n",
    "    a, b - numbers (int, float)\n",
    "    returns a tuple of the result and a possible error.\n",
    "    \"\"\"\n",
    "    try:\n",
    "        ans = a / b\n",
    "    except ZeroDivisionError as e:\n",
    "        ans = None\n",
    "        err = e\n",
    "    except TypeError as e:\n",
    "        ans = None\n",
    "        err = e\n",
    "    else:\n",
    "        err = None\n",
    "    finally:\n",
    "        return ans, err\n"
   ]
  },
  {
   "cell_type": "code",
   "execution_count": 88,
   "metadata": {
    "slideshow": {
     "slide_type": "subslide"
    }
   },
   "outputs": [
    {
     "name": "stdout",
     "output_type": "stream",
     "text": [
      "0.5  ---- None\n",
      "None ---- division by zero\n",
      "None ---- unsupported operand type(s) for /: 'int' and 'str'\n"
     ]
    }
   ],
   "source": [
    "# Should work:\n",
    "ans, err = divisor(1, 2)\n",
    "print(ans, \" ----\", err)\n",
    "\n",
    "# ZeroDivisionError:\n",
    "ans, err = divisor(1, 0)\n",
    "print(ans, \"----\", err)\n",
    "\n",
    "# TypeError\n",
    "ans, err = divisor(1, 'a')\n",
    "print(ans, \"----\", err)"
   ]
  },
  {
   "cell_type": "markdown",
   "metadata": {
    "slideshow": {
     "slide_type": "subslide"
    }
   },
   "source": [
    "Exception handling is used almost everywhere in the Python world. We always expect our operations to fail, and catch the errors as our backup plan. This is considered more Pythonic than other options. Here's a \"real-world\" example:"
   ]
  },
  {
   "cell_type": "code",
   "execution_count": 89,
   "metadata": {
    "slideshow": {
     "slide_type": "subslide"
    }
   },
   "outputs": [],
   "source": [
    "# Integre conversion. We check before doing it to make sure it won't raise errors\n",
    "def int_conversion(s):\n",
    "    \"\"\" Convert a string to int \"\"\"\n",
    "    if not isinstance(s, str) or not s.isdigit:\n",
    "        return None\n",
    "    elif len(s) > 10:    #too many digits for int conversion\n",
    "        return None\n",
    "    else:\n",
    "        return int(str)"
   ]
  },
  {
   "cell_type": "code",
   "execution_count": 90,
   "metadata": {
    "slideshow": {
     "slide_type": "subslide"
    }
   },
   "outputs": [],
   "source": [
    "# Same purpose - more Pythonic\n",
    "def pythonic_int_conversion(s):\n",
    "    \"\"\" Convert a string to int \"\"\"\n",
    "    try:\n",
    "        return int(s)\n",
    "    except (TypeError, ValueError, OverflowError):\n",
    "        return None\n",
    "# This is also sometimes phrased as \"easier to ask for forgiveness than permission\""
   ]
  },
  {
   "cell_type": "markdown",
   "metadata": {
    "slideshow": {
     "slide_type": "slide"
    }
   },
   "source": [
    "## Exercise - User Input Verification"
   ]
  },
  {
   "cell_type": "markdown",
   "metadata": {
    "slideshow": {
     "slide_type": "subslide"
    }
   },
   "source": [
    "The user's input is always a very error-prone area in an application. A famous joke describes this situation in the following manner: \n",
    "\n",
    "> A Quality Assurance (QA) Engineer walks into a bar. Orders a beer. Orders 0 beers. Orders 999999999 beers. Orders a lizard. Orders -1 beers. Orders a sfdeljknesv.\n",
    "\n",
    "\n",
    "A decent application should not only handle all possible incoming inputs, but should also convey back to the user the information of what went wrong. In this exercise you'll write a `verify_input` function that handles file and folder names."
   ]
  },
  {
   "cell_type": "markdown",
   "metadata": {
    "slideshow": {
     "slide_type": "slide"
    }
   },
   "source": [
    "### Short Intro - `pathlib`"
   ]
  },
  {
   "cell_type": "markdown",
   "metadata": {
    "slideshow": {
     "slide_type": "subslide"
    }
   },
   "source": [
    "For file I/O and other disk operations, some of which are required in this exercise, Pythonistas use `pathlib`, a module in the Python standard library designated to work with files and folders (`pathlib2` in Python 2). Its basic premise is that files and folders are objects themselves, and certain operations are allowed between these objects."
   ]
  },
  {
   "cell_type": "code",
   "execution_count": 91,
   "metadata": {
    "slideshow": {
     "slide_type": "subslide"
    }
   },
   "outputs": [],
   "source": [
    "from pathlib import Path"
   ]
  },
  {
   "cell_type": "code",
   "execution_count": 92,
   "metadata": {
    "slideshow": {
     "slide_type": "subslide"
    }
   },
   "outputs": [],
   "source": [
    "p1 = Path(r'C:\\Users\\Hagai\\Documents\\Classes\\python-course-for-students')  # notice the \"raw\" string r'',\n",
    "# it forces Python to not duplicate backslashes"
   ]
  },
  {
   "cell_type": "code",
   "execution_count": 93,
   "metadata": {
    "slideshow": {
     "slide_type": "subslide"
    }
   },
   "outputs": [
    {
     "data": {
      "text/plain": [
       "WindowsPath('C:/Users/Hagai/Documents/Classes/python-course-for-students')"
      ]
     },
     "execution_count": 93,
     "metadata": {},
     "output_type": "execute_result"
    }
   ],
   "source": [
    "p1"
   ]
  },
  {
   "cell_type": "code",
   "execution_count": 94,
   "metadata": {
    "slideshow": {
     "slide_type": "subslide"
    }
   },
   "outputs": [
    {
     "data": {
      "text/plain": [
       "WindowsPath('C:/Users/Hagai/Documents/Classes')"
      ]
     },
     "execution_count": 94,
     "metadata": {},
     "output_type": "execute_result"
    }
   ],
   "source": [
    "p1.parent"
   ]
  },
  {
   "cell_type": "code",
   "execution_count": 95,
   "metadata": {
    "slideshow": {
     "slide_type": "subslide"
    }
   },
   "outputs": [
    {
     "data": {
      "text/plain": [
       "[WindowsPath('C:/Users/Hagai/Documents/Classes'),\n",
       " WindowsPath('C:/Users/Hagai/Documents'),\n",
       " WindowsPath('C:/Users/Hagai'),\n",
       " WindowsPath('C:/Users'),\n",
       " WindowsPath('C:/')]"
      ]
     },
     "execution_count": 95,
     "metadata": {},
     "output_type": "execute_result"
    }
   ],
   "source": [
    "list(p1.parents)"
   ]
  },
  {
   "cell_type": "code",
   "execution_count": 96,
   "metadata": {
    "slideshow": {
     "slide_type": "subslide"
    }
   },
   "outputs": [
    {
     "data": {
      "text/plain": [
       "True"
      ]
     },
     "execution_count": 96,
     "metadata": {},
     "output_type": "execute_result"
    }
   ],
   "source": [
    "p1.exists()  # is it actually a folder\\file?"
   ]
  },
  {
   "cell_type": "code",
   "execution_count": 97,
   "metadata": {
    "slideshow": {
     "slide_type": "subslide"
    }
   },
   "outputs": [
    {
     "data": {
      "text/plain": [
       "('C:\\\\',\n",
       " 'Users',\n",
       " 'Hagai',\n",
       " 'Documents',\n",
       " 'Classes',\n",
       " 'python-course-for-students')"
      ]
     },
     "execution_count": 97,
     "metadata": {},
     "output_type": "execute_result"
    }
   ],
   "source": [
    "p1.parts"
   ]
  },
  {
   "cell_type": "code",
   "execution_count": 98,
   "metadata": {
    "slideshow": {
     "slide_type": "subslide"
    }
   },
   "outputs": [
    {
     "data": {
      "text/plain": [
       "'python-course-for-students'"
      ]
     },
     "execution_count": 98,
     "metadata": {},
     "output_type": "execute_result"
    }
   ],
   "source": [
    "p1.name"
   ]
  },
  {
   "cell_type": "code",
   "execution_count": 99,
   "metadata": {
    "slideshow": {
     "slide_type": "subslide"
    }
   },
   "outputs": [
    {
     "name": "stdout",
     "output_type": "stream",
     "text": [
      "C:\\Users\\Hagai\\Documents\\Classes\\python-course-for-students\\general\n",
      "C:\\Users\\Hagai\\Documents\\Classes\\python-course-for-students\\hw1\n",
      "C:\\Users\\Hagai\\Documents\\Classes\\python-course-for-students\\hw2\n"
     ]
    }
   ],
   "source": [
    "for file in p1.iterdir():\n",
    "    print(file)"
   ]
  },
  {
   "cell_type": "code",
   "execution_count": 100,
   "metadata": {
    "slideshow": {
     "slide_type": "subslide"
    }
   },
   "outputs": [
    {
     "data": {
      "text/plain": [
       "WindowsPath('C:/Users/Hagai/Documents/Classes/python-course-for-students')"
      ]
     },
     "execution_count": 100,
     "metadata": {},
     "output_type": "execute_result"
    }
   ],
   "source": [
    "# Traversing the file system\n",
    "p2 = Path('C:/Users/Hagai/Documents')\n",
    "p2 / 'Classes' / 'python-course-for-students'\n",
    "# Operator overloading"
   ]
  },
  {
   "cell_type": "markdown",
   "metadata": {
    "slideshow": {
     "slide_type": "subslide"
    }
   },
   "source": [
    "#### The exercise:"
   ]
  },
  {
   "cell_type": "code",
   "execution_count": 101,
   "metadata": {
    "slideshow": {
     "slide_type": "subslide"
    }
   },
   "outputs": [],
   "source": [
    "class UserInputVerifier:\n",
    "    \"\"\"\n",
    "    Assert that the input from a user is a valid folder name. A valid folder is a folder\n",
    "    containing the following files: \"a.py\", \"b.py\", \"c.py\", and the data file \"data.txt\". However, the class\n",
    "    should be able to deal with any arbitrary filename, or an iterable of which.\n",
    "    If the given folder doesn't contain it, it's possible the user gave us a parent folder of the \n",
    "    folder that contains these Python files. Look into any sub-folders for these files, and return the\n",
    "    \"actual\" true folder, i.e. the top-most folder containing all the files.\n",
    "    Input - Foldername, string\n",
    "    Output - A pathlib object. If the input isn't valid, i.e. the files weren't found, \n",
    "    the class should raise an exception.\n",
    "    \"\"\""
   ]
  },
  {
   "cell_type": "markdown",
   "metadata": {
    "slideshow": {
     "slide_type": "subslide"
    }
   },
   "source": [
    "### Exercise solution below..."
   ]
  },
  {
   "cell_type": "code",
   "execution_count": 102,
   "metadata": {
    "slideshow": {
     "slide_type": "subslide"
    }
   },
   "outputs": [],
   "source": [
    "class UserInputVerifier:\n",
    "    \"\"\"\n",
    "    Assert that the given foldername contains files in \"filenames\".\n",
    "    \"\"\"\n",
    "    def __init__(self, foldername, filenames=['a.py', 'b.py', 'c.py', 'data.txt']):    \n",
    "        self.raw_folder = Path(str(foldername))  # first possible error\n",
    "        self.filenames = self._verify_filenames(filenames)\n",
    "    \n",
    "    def _verify_filenames(self, filenames):\n",
    "        \"\"\" Verify the input filenames, and return it as an iterable. \"\"\"\n",
    "        \n",
    "        typ = type(filenames)\n",
    "        if typ not in (str, Path, list, tuple, set):\n",
    "            raise TypeError(\"Filenames should be an iterable, a Path object or a string.\")\n",
    "        if typ in (str, Path):\n",
    "            return [filenames]\n",
    "        return filenames\n",
    "        \n",
    "    def check_folder(self):\n",
    "        \"\"\" Assert that the files are indeed in the folder or in one of its subfolders \"\"\"\n",
    "        \n",
    "        existing_files = []\n",
    "        missing_files = []\n",
    "        if not self.raw_folder.exists():\n",
    "            raise UserWarning(f\"Folder {self.raw_folder} doesn't exist.\")\n",
    "            \n",
    "        # Make sure that each file we're looking for doesn't \n",
    "        for file_to_look in self.filenames:\n",
    "            found_files = [str(file) for file in self.raw_folder.rglob(file_to_look)]\n",
    "            if len(found_files) == 0:\n",
    "                raise UserWarning(f\"File '{file_to_look}' was missing from folder '{self.raw_folder}'.\")\n",
    "            if len(found_files) > 1:\n",
    "                raise UserWarning(f\"More than one file named '{file_to_look}' was found in '{self.raw_folder}'.\")\n",
    "        return True"
   ]
  },
  {
   "cell_type": "code",
   "execution_count": 103,
   "metadata": {
    "slideshow": {
     "slide_type": "subslide"
    }
   },
   "outputs": [
    {
     "data": {
      "text/plain": [
       "True"
      ]
     },
     "execution_count": 103,
     "metadata": {},
     "output_type": "execute_result"
    }
   ],
   "source": [
    "foldername = r'./mock'\n",
    "verifier = UserInputVerifier(foldername)\n",
    "verifier.check_folder()"
   ]
  },
  {
   "cell_type": "markdown",
   "metadata": {
    "slideshow": {
     "slide_type": "slide"
    }
   },
   "source": [
    "## File Input/Output"
   ]
  },
  {
   "cell_type": "markdown",
   "metadata": {
    "slideshow": {
     "slide_type": "subslide"
    }
   },
   "source": [
    "Yet another error-prone area in applications is their I/O (input-output) module. Interfacing with objects outside the scope of your own project should always be handled carefully. You never know what's really out there.\n",
    "\n",
    "The class we created in the previous exercise should help with the first step of file I/O, but that's not all of it."
   ]
  },
  {
   "cell_type": "markdown",
   "metadata": {
    "slideshow": {
     "slide_type": "subslide"
    }
   },
   "source": [
    "Assume we wish to write some data to a file - a list filled with counts of some sort, for example.\n",
    "\n",
    "To write (and read) from a file, you have to do several operations:\n",
    "1. Define the file path and name.\n",
    "2. Open the file with the appropriate mode - read, write, etc.\n",
    "3. Flush out the data.\n",
    "4. Close the file.\n",
    "\n",
    "Here's a mediocre example of how it's done:"
   ]
  },
  {
   "cell_type": "code",
   "execution_count": 104,
   "metadata": {
    "slideshow": {
     "slide_type": "subslide"
    }
   },
   "outputs": [],
   "source": [
    "data_to_write = 'A B C D E F'\n",
    "filename = 'data.txt'\n",
    "file = open(filename, 'w')  # w is write\n",
    "file.write(data_to_write)\n",
    "file.close()"
   ]
  },
  {
   "cell_type": "markdown",
   "metadata": {
    "slideshow": {
     "slide_type": "subslide"
    }
   },
   "source": [
    "The variable `file` is a file object, and it has many useful methods, such as:\n",
    "* `.read()` - reads the entire file.\n",
    "* `.readline()` - reads a single line.\n",
    "* `.readlines()` - read the entire file as strings into a list.\n",
    "* `.seek(offset)` - go the `offset` position in the file.\n",
    "\n",
    "File objects in Python can be opened as string files (the default) or as binary files (`open(filename, 'b')`), in which case their content will be interpreted as bytes rather than letters."
   ]
  },
  {
   "cell_type": "markdown",
   "metadata": {
    "slideshow": {
     "slide_type": "subslide"
    }
   },
   "source": [
    "When dealing with files, we generally first `open()` them, `read()` \\ `write()` something, and `close()` them. The real issue stems from the fact that these steps are very error prone. For example, you can open a file to write something to it, but while the file is opened someone else (or some other Python process) can close and even delete the file.\n",
    "\n",
    "Another example - some connection error might occur after you've flushed the data into the file, but before you managed to close it, leading to a file that can't be accessed by the operating system."
   ]
  },
  {
   "cell_type": "markdown",
   "metadata": {
    "slideshow": {
     "slide_type": "subslide"
    }
   },
   "source": [
    "Gladly, Python is here to help, and its main method of doing so is context managers, called upon with the `with` keyword. Context managers are awesome, and I'll only briefly describe their capabilities. That being said, they shine the most when doing I/O, like in the following example:"
   ]
  },
  {
   "cell_type": "code",
   "execution_count": 105,
   "metadata": {
    "slideshow": {
     "slide_type": "subslide"
    }
   },
   "outputs": [],
   "source": [
    "data_to_write = 'A B C D E F'\n",
    "filename = 'data.txt'\n",
    "with open(filename, 'w') as file:\n",
    "    file.write(data_to_write)\n",
    "    file.write('abc')\n",
    "    a = 1 + 2\n",
    "a = 1"
   ]
  },
  {
   "cell_type": "markdown",
   "metadata": {
    "slideshow": {
     "slide_type": "subslide"
    }
   },
   "source": [
    "The unique thing here is that once we've opened the file, the `with` block guarantees that the file will be closed, regardless of what code is executed. \n",
    "\n",
    "Even if an error occurs while the file is open - the context manager will ensure proper handling of the file and prevent our data from disappearing into the void of the file system."
   ]
  },
  {
   "cell_type": "markdown",
   "metadata": {
    "slideshow": {
     "slide_type": "subslide"
    }
   },
   "source": [
    "### How do they work (advanced)?\n",
    "\n",
    "Like everything in Python, a context manager is a class. Moreover, each class can become a context manager by simply defining two methods:"
   ]
  },
  {
   "cell_type": "code",
   "execution_count": 106,
   "metadata": {
    "slideshow": {
     "slide_type": "subslide"
    }
   },
   "outputs": [],
   "source": [
    "class MyFile(object):\n",
    "    def __init__(self, file_name, method):\n",
    "        self.file_obj = open(file_name, method)\n",
    "        \n",
    "    def __enter__(self):\n",
    "        return self.file_obj\n",
    "    def __exit__(self, error_type, value, traceback):\n",
    "        self.file_0obj.close()\n",
    "\n",
    "# Usage\n",
    "with MyFile('demo.txt', 'w') as opened_file:\n",
    "    opened_file.write('Hola!')"
   ]
  },
  {
   "cell_type": "markdown",
   "metadata": {
    "slideshow": {
     "slide_type": "subslide"
    }
   },
   "source": [
    "The `__enter__` method defines the object after the `as` keyword (in this case - a file object). The `__exit__` method defines what happens when we leave the context manager's context. As you can see, `__exit__` has three extra keywords that are used for error handling.\n",
    "\n",
    "There's an even more advanced way to create context managers, using decorators, which we'll discuss later in the course."
   ]
  }
 ],
 "metadata": {
  "anaconda-cloud": {},
  "celltoolbar": "Slideshow",
  "kernelspec": {
   "display_name": "Python 3",
   "language": "python",
   "name": "python3"
  },
  "language_info": {
   "codemirror_mode": {
    "name": "ipython",
    "version": 3
   },
   "file_extension": ".py",
   "mimetype": "text/x-python",
   "name": "python",
   "nbconvert_exporter": "python",
   "pygments_lexer": "ipython3",
   "version": "3.7.1"
  }
 },
 "nbformat": 4,
 "nbformat_minor": 2
}
