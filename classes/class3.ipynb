{
 "cells": [
  {
   "cell_type": "markdown",
   "metadata": {
    "slideshow": {
     "slide_type": "slide"
    }
   },
   "source": [
    "# Class 3 - 18.3.18"
   ]
  },
  {
   "cell_type": "markdown",
   "metadata": {
    "slideshow": {
     "slide_type": "slide"
    }
   },
   "source": [
    "## Environments"
   ]
  },
  {
   "cell_type": "markdown",
   "metadata": {
    "slideshow": {
     "slide_type": "subslide"
    }
   },
   "source": [
    "Environments are the Pythonian solution to the \"path\" problem of MATLAB and other languages.\n",
    "\n",
    "The basic idea is that every Python project you have has an isolated environment, in which it resides. This environment contains a Python interpreter and libraries that are needed for that specific project, but aren't necessarily required by other projects. "
   ]
  },
  {
   "cell_type": "markdown",
   "metadata": {
    "slideshow": {
     "slide_type": "subslide"
    }
   },
   "source": [
    "While it might not seem _that_ important at first, when your project has multiple dependencies on other libraries, asserting compatibility between all components become tricky. This point will be much clearer as the course progresses, so in the mean time just stick with me."
   ]
  },
  {
   "cell_type": "markdown",
   "metadata": {
    "slideshow": {
     "slide_type": "subslide"
    }
   },
   "source": [
    "Your different Python environments are managed by a package manager, and the best one (as of early 2018) is `conda`, by Anaconda Inc. (previously Continuum Analytics). conda has two versions, and we'll be working with the slimmer Miniconda distribution (for Python 3.6), as explained in `PythonSetup.md`."
   ]
  },
  {
   "cell_type": "markdown",
   "metadata": {
    "slideshow": {
     "slide_type": "subslide"
    }
   },
   "source": [
    "### How to create an environment?\n",
    "\n",
    "After you've installed Miniconda and added it to your path, write in the command-line `conda create --name my_env python=3.6`. This creates a new Python interpreter named `my_env`. To make sure we're working with this specific interpreter, we have to activate the environment:\n",
    "`activate my_env`. In Mac\\Linux, we write `source activate my_env`.\n",
    "\n",
    "From now on, until we write `deactivate` (or `source deactivate`), all Python-related operations will be performed with the `my_env` interpreter in mind. If we have other environments they will not be affected by any change made as long as `my_env` is active. We can also define environment variables which will obviously be specific to this environment alone."
   ]
  },
  {
   "cell_type": "markdown",
   "metadata": {
    "slideshow": {
     "slide_type": "subslide"
    }
   },
   "source": [
    "The environment manager we use is called Miniconda, and while Python comes with an environment manager of its own (`virtualenv`), `conda` is the more popular option, especially for scientific Python. `conda` manages dependencies in a more strict fashion than `pip`, and can be used to manage the dependencies of other applications. Miniconda is a \"bare-bones\" installation, so it doesn't bloat your computer with unneeded packages, allowing for manual control of each package and environment. It also serves for a better learning experience than Anaconda."
   ]
  },
  {
   "cell_type": "markdown",
   "metadata": {
    "slideshow": {
     "slide_type": "subslide"
    }
   },
   "source": [
    "For our class you should probably create one environment for the entire semester. While I can't really verify that you're indeed working with environments, I promise you that it's a very useful habit that will save you a great amount of trouble later on, probably without you even noticing it."
   ]
  },
  {
   "cell_type": "markdown",
   "metadata": {
    "slideshow": {
     "slide_type": "subslide"
    }
   },
   "source": [
    "![Summary of environments and namespaces](extra_material/envs.png)"
   ]
  },
  {
   "cell_type": "markdown",
   "metadata": {},
   "source": [
    "## Exercise"
   ]
  },
  {
   "cell_type": "markdown",
   "metadata": {},
   "source": [
    "- Create a new environment in your computer.\n",
    "- Create a new folder that will contain a mock Python project, and make this folder a version-controlled one.\n",
    "- Add a couple of `.py` files and add to them to the list of tracked files. Make sure to use the right folder structure, as outlined above.\n",
    "- In one of these `.py` files we'll try out list comprehensions:\n",
    "    - A Cartesian product is the list of all combinations of two, or more, sequences. For example, the product of `AB` and `abc` is `Aa, Ab, Ac, Ba, Bb, Bc`. \n",
    "    - Using a nested for loop, print out a list of tuples of the Cartesian product of `ABC` and `abcd`. \n",
    "    - Using list comprehension print out the exact same output.\n",
    "- Run the function that does the comprehension from a different file using `import`.\n",
    "- Install the package `pytz` using `pip` and make sure you're able to `import` it.\n",
    "- Assuming this project will contain raw `.tif` data, add a `.gitignore` file that disregards the raw data.\n",
    "- Add an MIT license to the repo, and a basic `README.md`.\n",
    "- Publish this project to your GitHub account.\n",
    "- If you already have VS Code or PyCharm on your computer, make sure you know how to link these programs to this specific environment."
   ]
  },
  {
   "cell_type": "markdown",
   "metadata": {},
   "source": [
    "### Exercise solution below..."
   ]
  },
  {
   "cell_type": "code",
   "execution_count": null,
   "metadata": {},
   "outputs": [],
   "source": []
  },
  {
   "cell_type": "markdown",
   "metadata": {
    "slideshow": {
     "slide_type": "slide"
    }
   },
   "source": [
    "## Scripts and Functions \n",
    "#### (Code examples in `import_demonstration` folder)"
   ]
  },
  {
   "cell_type": "markdown",
   "metadata": {
    "slideshow": {
     "slide_type": "subslide"
    }
   },
   "source": [
    "If you're familiar with MATLAB there's a good chance that you've written a script before. A script is a file which is run sequentially, while using other functions and definitions. Python supports scripts as well, as can be seen in `main.py`."
   ]
  },
  {
   "cell_type": "markdown",
   "metadata": {
    "slideshow": {
     "slide_type": "subslide"
    }
   },
   "source": [
    "However, in the Python world people usually prefer to stay away from scripts. This is due to a number of reasons, the most important one being that running a `main()` function as it is easy as running a `main.py` script. You can see examples of a procedural and script-like approach in the `main.py` file, but keep in mind the the script version is discouraged."
   ]
  },
  {
   "cell_type": "markdown",
   "metadata": {
    "slideshow": {
     "slide_type": "subslide"
    }
   },
   "source": [
    "If you wish to run a file full with functions from the command line, or from your IDE, you should include the following lines:\n",
    "```python\n",
    "if __name__ == '__main__':\n",
    "    run_main()\n",
    "```"
   ]
  },
  {
   "cell_type": "markdown",
   "metadata": {
    "slideshow": {
     "slide_type": "subslide"
    }
   },
   "source": [
    "Every Python file which is being run has a caller. If this file was run directly from the Python interpreter its `__name__` will be `'__main__'`. This `if` statement basically tells the Python interpreter \"Start from here\", and is the conventional way to run Python procedures."
   ]
  },
  {
   "cell_type": "markdown",
   "metadata": {
    "slideshow": {
     "slide_type": "subslide"
    }
   },
   "source": [
    "In this course you're highly encouraged to divide your code into many small functions and methods in well-defined compact classes. Each method should have a single purpose, documented in its docstring. Each class should have a logical structure that envelopes its methods and attributes in a sensible way.\n",
    "\n",
    "Beware of God classes, or God scripts and functions. These are monolithic objects that encompass the entirety of your application, and are very hard to reason about.\n",
    "\n",
    "Another important reason to partition our code into many small bits is _unit testing_, which we'll cover later on in the course."
   ]
  },
  {
   "cell_type": "markdown",
   "metadata": {
    "slideshow": {
     "slide_type": "slide"
    }
   },
   "source": [
    "# Object-Oriented Programming"
   ]
  },
  {
   "cell_type": "markdown",
   "metadata": {
    "slideshow": {
     "slide_type": "slide"
    }
   },
   "source": [
    "## Introduction"
   ]
  },
  {
   "cell_type": "markdown",
   "metadata": {
    "slideshow": {
     "slide_type": "subslide"
    }
   },
   "source": [
    "There are three main programming paradigms in use in mainstream programming languages:\n",
    "* Functional\n",
    "* Procedural\n",
    "* Object-oriented\n",
    "\n",
    "While a _functional_ paradigm is very interesting, we'll not be discussing it in this course. You can read about Haskell, OCaml, F# and other functional programming languages wherever you get your information from."
   ]
  },
  {
   "cell_type": "markdown",
   "metadata": {
    "slideshow": {
     "slide_type": "subslide"
    }
   },
   "source": [
    "The _procedural_ paradigm is the most widely used paradigm... in the academia. And it's probably the one you're most familiar with from your work in Matlab. \n",
    "\n",
    "Confusingly, this paradigm is based around _functions_ (procedures):"
   ]
  },
  {
   "cell_type": "code",
   "execution_count": 1,
   "metadata": {
    "slideshow": {
     "slide_type": "subslide"
    }
   },
   "outputs": [
    {
     "data": {
      "text/plain": [
       "[4, 10, 18]"
      ]
     },
     "execution_count": 1,
     "metadata": {},
     "output_type": "execute_result"
    }
   ],
   "source": [
    "# We could write:\n",
    "l1 = [1, 2, 3]\n",
    "l2 = [4, 5, 6]\n",
    "result = []\n",
    "for item1, item2 in zip(l1, l2):\n",
    "    result.append(item1 * item2)\n",
    "result"
   ]
  },
  {
   "cell_type": "code",
   "execution_count": 2,
   "metadata": {
    "slideshow": {
     "slide_type": "subslide"
    }
   },
   "outputs": [
    {
     "data": {
      "text/plain": [
       "[400, 1000, 1800]"
      ]
     },
     "execution_count": 2,
     "metadata": {},
     "output_type": "execute_result"
    }
   ],
   "source": [
    "# And when we have more lists to multiply we'll again write:\n",
    "l3 = [10, 20, 30]\n",
    "l4 = [40, 50, 60]\n",
    "result2 = []\n",
    "for item3, item4 in zip(l3, l4):\n",
    "    result2.append(item3 * item4)\n",
    "result2"
   ]
  },
  {
   "cell_type": "markdown",
   "metadata": {
    "slideshow": {
     "slide_type": "subslide"
    }
   },
   "source": [
    "But we're seeing a pattern here. The important DRY principle requires \"Don't Repeat Yourself\", so we define a function to replace these two implementations:"
   ]
  },
  {
   "cell_type": "code",
   "execution_count": 6,
   "metadata": {
    "slideshow": {
     "slide_type": "subslide"
    }
   },
   "outputs": [],
   "source": [
    "def list_multiplier(l1, l2):\n",
    "    \"\"\"\n",
    "    Multiply two lists element-wise.\n",
    "    Returns a list with the result\n",
    "    \"\"\"\n",
    "    result = []\n",
    "    for item1, item2 in zip(l1, l2):\n",
    "        result.append(item1 * item2)\n",
    "    \n",
    "    return result"
   ]
  },
  {
   "cell_type": "markdown",
   "metadata": {
    "slideshow": {
     "slide_type": "subslide"
    }
   },
   "source": [
    "This new _procedure_ does one thing, and one thing only. This is what's so powerful about it.\n",
    "\n",
    "Procedural programming allows us to group and order our code base into small units, called functions or _procedures_, that have a specific, defined task.\n",
    "\n",
    "It usually contains a \"wrapper\" script that defines the order of running for these functions:\n",
    "```python\n",
    "# my_wrapper_script.py\n",
    "def run_pipeline(foldername):\n",
    "    \"\"\" Main data pipeline script \"\"\"\n",
    "    data = get_user_input(foldername)\n",
    "    data_without_fieldnames = extract_fieldnames(data)\n",
    "    columnar_data = generate_columns(data_without_fieldnames, num_of_columns)\n",
    "    # ...\n",
    "    # At the end of the file it will contain:\n",
    "if __name__ == '__main__':\n",
    "    foldername = r'/path/to/folder'  # raw string\n",
    "    result = run_pipeline(foldername)\n",
    "    print(result)\n",
    "```"
   ]
  },
  {
   "cell_type": "markdown",
   "metadata": {
    "slideshow": {
     "slide_type": "subslide"
    }
   },
   "source": [
    "You should be extremely decisive and eliminate repeating code. It's perhaps the most common source for errors in scientific computing, and it may bite you any of these ways:\n",
    "\n",
    "- Encapsulation:\n",
    "```python\n",
    "# String concatenation\n",
    "first_string = 'abcd'\n",
    "second_string = 'efgh'\n",
    "concat = first_string + second_string[:-1] + 'zzz'  # you suddenly remember that you wish to exclude \n",
    "# the last character in \"second_string\" and add the 'zzz' sequence at the end.\n",
    "# Program continues...\n",
    "# ...\n",
    "third_string = 'poiu'\n",
    "fourth_string = 'qwer'\n",
    "concat2 = third_string + fourth_string + 'zzz' # you wish to achieve the same goal in this \n",
    "# concatenation - but you forgot that you excluded the last character of the second string.\n",
    "```\n",
    "    The moment you realized that you have a recurring operation on strings - you have to encapsulate it in a function - be _ruthless!_"
   ]
  },
  {
   "cell_type": "markdown",
   "metadata": {
    "slideshow": {
     "slide_type": "subslide"
    }
   },
   "source": [
    "- Parametrization\n",
    "\n",
    "```python\n",
    "def process_data(data):\n",
    "    scaled_data = data * 0.3  #  what is 0.3 exactly? Parametrize it.\n",
    "    \n",
    "def process_data(data, param=0.3):\n",
    "    scaled_data = data * param\n",
    "\n",
    "```\n",
    "\n",
    "But this is usually not enough. When calling the `process_data` parameterize the `param` variable as well:\n",
    "\n",
    "```python\n",
    "data = b * c - 1 + a\n",
    "process_data(data, 0.4)\n",
    "# Script continues...\n",
    "process_data(data2, 0.5)  # Perhaps you really did wish to call \"process_data\" with two different\n",
    "# parameters, but it's more likely that you decided that 0.5 was too high, so you changed it to 0.4\n",
    "# in the first call, but forgot that you had a second call. This parameter should appear somewhere at\n",
    "# the top of your script.\n",
    "```"
   ]
  },
  {
   "cell_type": "markdown",
   "metadata": {
    "slideshow": {
     "slide_type": "slide"
    }
   },
   "source": [
    "## Alternatives"
   ]
  },
  {
   "cell_type": "markdown",
   "metadata": {
    "slideshow": {
     "slide_type": "subslide"
    }
   },
   "source": [
    "While procedural programming works great most of the time, it can sometime be inferior to other paradigms, namely _object-oriented programming._\n",
    "\n",
    "But what do I mean by _inferior_? Obviously, all programs can be written successfully without leaving the safe confines of procedural programming.\n",
    "\n",
    "While this statement holds true, sometimes our _mental model_ of the task at hand fits an object-oriented paradigm more naturally."
   ]
  },
  {
   "cell_type": "markdown",
   "metadata": {
    "slideshow": {
     "slide_type": "slide"
    }
   },
   "source": [
    "### Classes and Objects"
   ]
  },
  {
   "cell_type": "markdown",
   "metadata": {
    "slideshow": {
     "slide_type": "subslide"
    }
   },
   "source": [
    "Classes are used-defined types. Just like `str`, `dict`, `tuple` and the rest of the standard types, Python allows us to create our own types.\n",
    "\n",
    "Objects are _instances_ of classes, they're an instance of a type we made. Actually, _all_ instances of _all_ types are objects in Python. It means that every variable and function in Python are, by themselves, an instance of a type. A function you make is an instance of the `function` type, for example. We'll get to this during later stages of the course."
   ]
  },
  {
   "cell_type": "markdown",
   "metadata": {
    "slideshow": {
     "slide_type": "subslide"
    }
   },
   "source": [
    "Classes are a type of abstraction we create with our code. A variable is the most simple type of abstraction - it's a _thing_ that is closely tied to a \"real value\" in a very simple relationship: My variable $x$ represnts the value $y$. \n",
    "\n",
    "Classes are more abstract - they don't relate to a specific value directly, but rather they try to convey an idea of an object."
   ]
  },
  {
   "cell_type": "markdown",
   "metadata": {
    "slideshow": {
     "slide_type": "slide"
    }
   },
   "source": [
    "### A Classic - The Point"
   ]
  },
  {
   "cell_type": "markdown",
   "metadata": {
    "slideshow": {
     "slide_type": "subslide"
    }
   },
   "source": [
    "To show what we mean by \"our own type\", we'll define the `Point` type."
   ]
  },
  {
   "cell_type": "markdown",
   "metadata": {
    "slideshow": {
     "slide_type": "subslide"
    }
   },
   "source": [
    "What is a point? What is composed of?\n",
    "* In a 2D space it's a pair of values, $(x, y)$, specifying a location on a grid.\n",
    "* $x$ and $y$ are the coordinates of the point.\n",
    "* Points have special relations to other points and to the space they reside in.\n",
    "\n",
    "From these three simple observations, we expect our `Point` type to include both data about its coordinates, and functions, or _methods_, used to interact with the grid and\\or other points. \n",
    "\n",
    "An object usually bundles together data and methods to use the data."
   ]
  },
  {
   "cell_type": "markdown",
   "metadata": {
    "slideshow": {
     "slide_type": "subslide"
    }
   },
   "source": [
    "We wish to express these abstract ideas in our code. It might seem like a lot of code at the start (\"boilerplate\" code) - but it will be worth it - certainly for more complex classes."
   ]
  },
  {
   "cell_type": "code",
   "execution_count": 5,
   "metadata": {
    "slideshow": {
     "slide_type": "subslide"
    }
   },
   "outputs": [],
   "source": [
    "# Introducing the class keyword:\n",
    "class Point:\n",
    "    \"\"\"Represents a point in a 2D space\"\"\"\n",
    "\n",
    "# Notice the capital letter"
   ]
  },
  {
   "cell_type": "code",
   "execution_count": 6,
   "metadata": {
    "slideshow": {
     "slide_type": "subslide"
    }
   },
   "outputs": [
    {
     "data": {
      "text/plain": [
       "__main__.Point"
      ]
     },
     "execution_count": 6,
     "metadata": {},
     "output_type": "execute_result"
    }
   ],
   "source": [
    "Point\n",
    "# A new type is born in __main__"
   ]
  },
  {
   "cell_type": "code",
   "execution_count": 7,
   "metadata": {
    "slideshow": {
     "slide_type": "subslide"
    }
   },
   "outputs": [
    {
     "data": {
      "text/plain": [
       "<__main__.Point at 0x1acf65e8080>"
      ]
     },
     "execution_count": 7,
     "metadata": {},
     "output_type": "execute_result"
    }
   ],
   "source": [
    "# The keyword Point is now a factory to create new Points.\n",
    "# To make one, we have to call it like we do with a function:\n",
    "blank = Point()\n",
    "blank\n",
    "# We call this instantiation, as blank is an instance of Point"
   ]
  },
  {
   "cell_type": "code",
   "execution_count": 8,
   "metadata": {
    "slideshow": {
     "slide_type": "subslide"
    }
   },
   "outputs": [],
   "source": [
    "# Assign the point's data in the form of coordinates\n",
    "blank.x = 1.0\n",
    "blank.y = 0.0"
   ]
  },
  {
   "cell_type": "code",
   "execution_count": 8,
   "metadata": {
    "slideshow": {
     "slide_type": "subslide"
    }
   },
   "outputs": [
    {
     "data": {
      "text/plain": [
       "1.0"
      ]
     },
     "execution_count": 8,
     "metadata": {},
     "output_type": "execute_result"
    }
   ],
   "source": [
    "# x and y are now attributes of our class:\n",
    "blank.x"
   ]
  },
  {
   "cell_type": "markdown",
   "metadata": {
    "slideshow": {
     "slide_type": "subslide"
    }
   },
   "source": [
    "The notation `.x` means \"go the instance `blank` of the class `Point` and find the value `x` refers to.\"\n",
    "\n",
    "There's no conflict between a variable named `x` and the attribute `x`.\n",
    "\n",
    "The attribute can be used anywhere:"
   ]
  },
  {
   "cell_type": "code",
   "execution_count": 9,
   "metadata": {
    "slideshow": {
     "slide_type": "subslide"
    }
   },
   "outputs": [
    {
     "name": "stdout",
     "output_type": "stream",
     "text": [
      "2.0\n"
     ]
    }
   ],
   "source": [
    "# Simple statements\n",
    "print(1 + blank.x)"
   ]
  },
  {
   "cell_type": "code",
   "execution_count": 10,
   "metadata": {
    "slideshow": {
     "slide_type": "subslide"
    }
   },
   "outputs": [
    {
     "data": {
      "text/plain": [
       "'A case of a pointy Point at (1.0, 0.0)'"
      ]
     },
     "execution_count": 10,
     "metadata": {},
     "output_type": "execute_result"
    }
   ],
   "source": [
    "# Printouts\n",
    "\"A case of a pointy Point at {}\".format((blank.x, blank.y))"
   ]
  },
  {
   "cell_type": "code",
   "execution_count": 11,
   "metadata": {
    "slideshow": {
     "slide_type": "subslide"
    }
   },
   "outputs": [],
   "source": [
    "# Arguments to functions\n",
    "def print_point(p):\n",
    "    \"\"\"Print a Point object\"\"\"\n",
    "    print(\"{}\".format((p.x, p.y)))\n"
   ]
  },
  {
   "cell_type": "code",
   "execution_count": 11,
   "metadata": {
    "slideshow": {
     "slide_type": "subslide"
    }
   },
   "outputs": [
    {
     "name": "stdout",
     "output_type": "stream",
     "text": [
      "(1.0, 0.0)\n"
     ]
    }
   ],
   "source": [
    "print_point(blank)"
   ]
  },
  {
   "cell_type": "markdown",
   "metadata": {
    "slideshow": {
     "slide_type": "subslide"
    }
   },
   "source": [
    "### Exercise:\n",
    "Write a function `distance_between_points(p1, p2)` that takes two points and returns the Cartesian distance between them."
   ]
  },
  {
   "cell_type": "markdown",
   "metadata": {
    "slideshow": {
     "slide_type": "subslide"
    }
   },
   "source": [
    "### Exercise solution below..."
   ]
  },
  {
   "cell_type": "code",
   "execution_count": 10,
   "metadata": {
    "slideshow": {
     "slide_type": "subslide"
    }
   },
   "outputs": [
    {
     "data": {
      "text/plain": [
       "1.0"
      ]
     },
     "execution_count": 10,
     "metadata": {},
     "output_type": "execute_result"
    }
   ],
   "source": [
    "import math\n",
    "\n",
    "\n",
    "def distance_between_points(p1, p2):\n",
    "    \"\"\" Calculate Cartesian distance between points \"\"\"\n",
    "    return math.sqrt((p1.x - p2.x) ** 2 + (p1.y - p2.y) ** 2)\n",
    "\n",
    "blank2 = Point()\n",
    "blank2.x = 1.\n",
    "blank2.y = 1.\n",
    "dist = distance_between_points(blank, blank2)\n",
    "dist"
   ]
  },
  {
   "cell_type": "markdown",
   "metadata": {
    "slideshow": {
     "slide_type": "slide"
    }
   },
   "source": [
    "### Rectangles"
   ]
  },
  {
   "cell_type": "markdown",
   "metadata": {
    "slideshow": {
     "slide_type": "subslide"
    }
   },
   "source": [
    "If we wish to model a rectangle, the first thing that should now be clear is that a rectangle is best modelled with a class (at least in Python). "
   ]
  },
  {
   "cell_type": "markdown",
   "metadata": {
    "slideshow": {
     "slide_type": "subslide"
    }
   },
   "source": [
    "Deciding on the exact content of our type is sometimes not straight-forward. How would you implement a rectangle?"
   ]
  },
  {
   "cell_type": "markdown",
   "metadata": {
    "slideshow": {
     "slide_type": "subslide"
    }
   },
   "source": [
    "Modelling a rectangle can be done in the following ways:\n",
    "\n",
    "* We can decide to define it with a point and two sides.\n",
    "* We can choose the point to be a corner or its center.\n",
    "* We can also use two opposing points.\n",
    "\n",
    "Here's we'll go with the first option, with the Point being the corner."
   ]
  },
  {
   "cell_type": "code",
   "execution_count": 12,
   "metadata": {
    "slideshow": {
     "slide_type": "subslide"
    }
   },
   "outputs": [],
   "source": [
    "class Rectangle:\n",
    "    \"\"\"\n",
    "    Rectangle model\n",
    "    Attributes:\n",
    "    corner - bottom left corner, of type Point\n",
    "    height - float\n",
    "    width - float\n",
    "    \"\"\""
   ]
  },
  {
   "cell_type": "code",
   "execution_count": 14,
   "metadata": {
    "slideshow": {
     "slide_type": "subslide"
    }
   },
   "outputs": [],
   "source": [
    "rect = Rectangle()\n",
    "rect.width = 100.0\n",
    "rect.height = 200.0\n",
    "rect.corner = Point()\n",
    "rect.corner.x = 0.0\n",
    "rect.corner.y = 0.0\n",
    "\n",
    "rect"
   ]
  },
  {
   "cell_type": "code",
   "execution_count": 18,
   "metadata": {
    "slideshow": {
     "slide_type": "subslide"
    }
   },
   "outputs": [],
   "source": [
    "# We can return instances of classes (just like we do with instances of dictionaries...)\n",
    "def find_center(box):\n",
    "    \"\"\" \n",
    "    Return a Point to the center of the Rectangle box\n",
    "    \"\"\"\n",
    "    p = Point()\n",
    "    p.x = box.corner.x + box.width / 2\n",
    "    p.y = box.corner.y + box.height / 2\n",
    "    return p"
   ]
  },
  {
   "cell_type": "code",
   "execution_count": 19,
   "metadata": {
    "slideshow": {
     "slide_type": "subslide"
    }
   },
   "outputs": [
    {
     "name": "stdout",
     "output_type": "stream",
     "text": [
      "(50.0, 100.0)\n"
     ]
    }
   ],
   "source": [
    "center = find_center(rect)\n",
    "print_point(center)"
   ]
  },
  {
   "cell_type": "code",
   "execution_count": null,
   "metadata": {
    "slideshow": {
     "slide_type": "subslide"
    }
   },
   "outputs": [],
   "source": [
    "# Objects are mutable - we can change their attributes:\n",
    "    \n",
    "print(rect.corner.x)\n",
    "rect.corner.x += 100\n",
    "print(rect.corner.x)"
   ]
  },
  {
   "cell_type": "code",
   "execution_count": 21,
   "metadata": {
    "slideshow": {
     "slide_type": "subslide"
    }
   },
   "outputs": [],
   "source": [
    "def grow_rectangle(rect, dwidth, dheight):\n",
    "    \"\"\" Take a Rectangle instance and grow it by (dwidth, dheight) \"\"\"\n",
    "    rect.width += dwidth\n",
    "    rect.height += dheight\n",
    "    # No need to return the instance"
   ]
  },
  {
   "cell_type": "code",
   "execution_count": 23,
   "metadata": {
    "slideshow": {
     "slide_type": "subslide"
    }
   },
   "outputs": [
    {
     "data": {
      "text/plain": [
       "(100.0, 200.0)"
      ]
     },
     "execution_count": 23,
     "metadata": {},
     "output_type": "execute_result"
    }
   ],
   "source": [
    "rect.width, rect.height"
   ]
  },
  {
   "cell_type": "code",
   "execution_count": 24,
   "metadata": {
    "slideshow": {
     "slide_type": "subslide"
    }
   },
   "outputs": [
    {
     "data": {
      "text/plain": [
       "(200.0, 300.0)"
      ]
     },
     "execution_count": 24,
     "metadata": {},
     "output_type": "execute_result"
    }
   ],
   "source": [
    "grow_rectangle(rect, 100, 100)\n",
    "rect.width, rect.height"
   ]
  },
  {
   "cell_type": "markdown",
   "metadata": {
    "slideshow": {
     "slide_type": "slide"
    }
   },
   "source": [
    "### Class Methods"
   ]
  },
  {
   "cell_type": "markdown",
   "metadata": {
    "slideshow": {
     "slide_type": "subslide"
    }
   },
   "source": [
    "We really haven't done object-oriented programming yet. Our objects currently contain only *data*, in the form of their attributes.\n",
    "\n",
    "To go one step closer we must learn of _methods_."
   ]
  },
  {
   "cell_type": "markdown",
   "metadata": {
    "slideshow": {
     "slide_type": "subslide"
    }
   },
   "source": [
    "Methods are functions bound to objects, describing actions they can do, or that can be done to them. For example, a real-world car can drive. So a `Car` object should have a `drive()` method attached to it. It should also have a `park()` method, and a couple of attributes, like `number_of_wheels`, `manufacturer` and `model`."
   ]
  },
  {
   "cell_type": "markdown",
   "metadata": {
    "slideshow": {
     "slide_type": "subslide"
    }
   },
   "source": [
    "As we'll see in a second, the only differentce between methods and functions is that the former are always attached to an object, and they only make sense when attached to that specific object. A `park()` method has no meaning when we try to run it on a `Rectangle()`."
   ]
  },
  {
   "cell_type": "code",
   "execution_count": 25,
   "metadata": {
    "slideshow": {
     "slide_type": "subslide"
    }
   },
   "outputs": [],
   "source": [
    "# Basic example\n",
    "class LightBulb:\n",
    "    \"\"\"\n",
    "    A light bulb to shed light on us all.\n",
    "    Attributes: is_on, power\n",
    "    Methods: turn_on, turn_off\n",
    "    \"\"\"\n",
    "    # Here comes the methods definitions:\n",
    "    def turn_on(self):\n",
    "        \"\"\" Turns a light bulb on \"\"\"\n",
    "        self.is_on = True\n",
    "        print(\"Shining strong!\")\n",
    "    \n",
    "    def turn_off(self):\n",
    "        \"\"\" Turns a light bulb off \"\"\"\n",
    "        self.is_on = False\n",
    "        print(\"Good night!\")\n",
    "    "
   ]
  },
  {
   "cell_type": "code",
   "execution_count": 28,
   "metadata": {
    "slideshow": {
     "slide_type": "subslide"
    }
   },
   "outputs": [
    {
     "name": "stdout",
     "output_type": "stream",
     "text": [
      "Shining with 40 power!\n"
     ]
    }
   ],
   "source": [
    "bulb = LightBulb()\n",
    "bulb.is_on = False\n",
    "bulb.turn_on()"
   ]
  },
  {
   "cell_type": "code",
   "execution_count": 29,
   "metadata": {
    "slideshow": {
     "slide_type": "subslide"
    }
   },
   "outputs": [
    {
     "name": "stdout",
     "output_type": "stream",
     "text": [
      "Good night!\n"
     ]
    }
   ],
   "source": [
    "bulb.turn_off()"
   ]
  },
  {
   "cell_type": "code",
   "execution_count": 30,
   "metadata": {
    "slideshow": {
     "slide_type": "subslide"
    }
   },
   "outputs": [
    {
     "data": {
      "text/plain": [
       "<bound method LightBulb.turn_on of <__main__.LightBulb object at 0x00000240D54CC668>>"
      ]
     },
     "execution_count": 30,
     "metadata": {},
     "output_type": "execute_result"
    }
   ],
   "source": [
    "# As we see, the only thing that changed was the indentation, and the method is now \"bound\"\n",
    "bulb.turn_on"
   ]
  },
  {
   "cell_type": "markdown",
   "metadata": {
    "slideshow": {
     "slide_type": "subslide"
    }
   },
   "source": [
    "The active agents here are the _objects_, not the functions. Instead of `turn_on(bulb)` we have the bulb \"turning itself on\": `builb.turn_on()`.\n",
    "\n",
    "In general, most functions that take an instance as one of their parameters should be a candidate for becoming a method, bound to that object, since you might need it later on for other instances as well."
   ]
  },
  {
   "cell_type": "code",
   "execution_count": 32,
   "metadata": {
    "slideshow": {
     "slide_type": "subslide"
    }
   },
   "outputs": [],
   "source": [
    "# Methods can be called inside other methods:\n",
    "# I'll redefine LightBulb for the sake of completeness:\n",
    "# Basic example\n",
    "class LightBulb:\n",
    "    \"\"\"\n",
    "    A light bulb to shine on us.\n",
    "    Attributes: is_on, power\n",
    "    Methods: turn_on, turn_off, remove\n",
    "    \"\"\"\n",
    "class LightBulb:\n",
    "    \"\"\"\n",
    "    A light bulb to shed light on us all.\n",
    "    Attributes: is_on, power\n",
    "    Methods: turn_on, turn_off\n",
    "    \"\"\"\n",
    "    # Here comes the methods definitions:\n",
    "    def turn_on(self):\n",
    "        \"\"\" Turns a light bulb on \"\"\"\n",
    "        self.is_on = True\n",
    "        print(\"Shining strong!\")\n",
    "    \n",
    "    def turn_off(self):\n",
    "        \"\"\" Turns a light bulb off \"\"\"\n",
    "        self.is_on = False\n",
    "        print(\"Good night!\")\n",
    "        \n",
    "    # -----The new method:-----\n",
    "    def remove(self):\n",
    "        \"\"\" Disconnect the bulb from its socket \"\"\"\n",
    "        self.turn_off()\n",
    "        print(\"Twisting the bulb counter-clockwise\")\n"
   ]
  },
  {
   "cell_type": "markdown",
   "metadata": {
    "slideshow": {
     "slide_type": "subslide"
    }
   },
   "source": [
    "This `self` call is the self-reference of the object to itself. All methods and attributes must be defined with the `self` parameter as their first parameter."
   ]
  },
  {
   "cell_type": "markdown",
   "metadata": {
    "slideshow": {
     "slide_type": "slide"
    }
   },
   "source": [
    "### The `__init__` method"
   ]
  },
  {
   "cell_type": "markdown",
   "metadata": {
    "slideshow": {
     "slide_type": "subslide"
    }
   },
   "source": [
    "Classes have several special methods attached to them. While some are out the course's scope, a special method that __does__ deserve a closer look is the `__init__()` method. It has two underscores before and after its name, making it a \"dunder\" method, short for \"double underscore\".\n",
    "\n",
    "The `__init__()` methods allows us to define our class' attributes inside the class definition:"
   ]
  },
  {
   "cell_type": "code",
   "execution_count": 1,
   "metadata": {
    "slideshow": {
     "slide_type": "subslide"
    }
   },
   "outputs": [],
   "source": [
    "class NewClass:\n",
    "    def __init__(self, attr1, attr2=20, attr3='abc'):\n",
    "        self.attr1 = attr1\n",
    "        self.attr2 = attr2\n",
    "        self.attr3 = attr3\n",
    "# attr1 has no default, forcing the user to define it by him\\herself."
   ]
  },
  {
   "cell_type": "markdown",
   "metadata": {
    "slideshow": {
     "slide_type": "subslide"
    }
   },
   "source": [
    "Most chances are that the first method you'll write for a newly defined class is the `__init__()` method. \n",
    "\n",
    "Another interesting _dunder_ method is the `__str__()` method, which defines what the class will print when invoked using the `print(class_instance)` command. For example:"
   ]
  },
  {
   "cell_type": "code",
   "execution_count": 2,
   "metadata": {
    "slideshow": {
     "slide_type": "subslide"
    }
   },
   "outputs": [],
   "source": [
    "class ShoppingList:\n",
    "    def __init__(self, vegetables=10, fruits=5, bread=1):\n",
    "        self.vegetables = vegetables\n",
    "        self.fruits = fruits\n",
    "        self.bread = bread\n",
    "    \n",
    "    def __str__(self):\n",
    "        str_to_print = \"\"\"Shopping List:\n",
    "        Vegetabels: {}\n",
    "        Fruits: {}\n",
    "        Bread: {}\n",
    "        Total items: {}\n",
    "        \"\"\".format(self.vegetables, self.fruits, self.bread,\n",
    "                   self.vegetables + self.fruits + self.bread)\n",
    "        return str_to_print"
   ]
  },
  {
   "cell_type": "code",
   "execution_count": 3,
   "metadata": {
    "slideshow": {
     "slide_type": "subslide"
    }
   },
   "outputs": [],
   "source": [
    "shop_list = ShoppingList(vegetables=5, fruits=1, bread=3)"
   ]
  },
  {
   "cell_type": "code",
   "execution_count": 5,
   "metadata": {
    "slideshow": {
     "slide_type": "subslide"
    }
   },
   "outputs": [
    {
     "name": "stdout",
     "output_type": "stream",
     "text": [
      "1\n"
     ]
    }
   ],
   "source": [
    "print(shop_list.fruits)"
   ]
  },
  {
   "cell_type": "code",
   "execution_count": 6,
   "metadata": {
    "slideshow": {
     "slide_type": "subslide"
    }
   },
   "outputs": [
    {
     "name": "stdout",
     "output_type": "stream",
     "text": [
      "Shopping List:\n",
      "        Vegetabels: 5\n",
      "        Fruits: 1\n",
      "        Bread: 3\n",
      "        Total items: 9\n",
      "        \n"
     ]
    }
   ],
   "source": [
    "print(shop_list)"
   ]
  },
  {
   "cell_type": "markdown",
   "metadata": {
    "slideshow": {
     "slide_type": "subslide"
    }
   },
   "source": [
    "The `__str__()` method is very useful for debugging purposes."
   ]
  },
  {
   "cell_type": "markdown",
   "metadata": {
    "slideshow": {
     "slide_type": "slide"
    }
   },
   "source": [
    "### Operator Overloading"
   ]
  },
  {
   "cell_type": "markdown",
   "metadata": {
    "slideshow": {
     "slide_type": "subslide"
    }
   },
   "source": [
    "One of the most interesting properties of Python is operator overloading (although it's not unique to Python). It means that we can force our self-declared types (i.e. classes) to behave in a certain way with the standard mathematical operations.\n",
    "\n",
    "We'll use the ShoppingList class as an example. Say we want to __add__ two different shopping lists. Naively, we might just try the following:"
   ]
  },
  {
   "cell_type": "code",
   "execution_count": 8,
   "metadata": {
    "slideshow": {
     "slide_type": "subslide"
    }
   },
   "outputs": [
    {
     "ename": "TypeError",
     "evalue": "unsupported operand type(s) for +: 'ShoppingList' and 'ShoppingList'",
     "output_type": "error",
     "traceback": [
      "\u001b[1;31m---------------------------------------------------------------------------\u001b[0m",
      "\u001b[1;31mTypeError\u001b[0m                                 Traceback (most recent call last)",
      "\u001b[1;32m<ipython-input-8-1c0ae3e8adc3>\u001b[0m in \u001b[0;36m<module>\u001b[1;34m()\u001b[0m\n\u001b[0;32m      1\u001b[0m \u001b[0mshoplist1\u001b[0m \u001b[1;33m=\u001b[0m \u001b[0mShoppingList\u001b[0m\u001b[1;33m(\u001b[0m\u001b[1;33m)\u001b[0m\u001b[1;33m\u001b[0m\u001b[0m\n\u001b[0;32m      2\u001b[0m \u001b[0mshoplist2\u001b[0m \u001b[1;33m=\u001b[0m \u001b[0mShoppingList\u001b[0m\u001b[1;33m(\u001b[0m\u001b[1;33m)\u001b[0m\u001b[1;33m\u001b[0m\u001b[0m\n\u001b[1;32m----> 3\u001b[1;33m \u001b[0mprint\u001b[0m\u001b[1;33m(\u001b[0m\u001b[0mshoplist1\u001b[0m \u001b[1;33m+\u001b[0m \u001b[0mshoplist2\u001b[0m\u001b[1;33m)\u001b[0m\u001b[1;33m\u001b[0m\u001b[0m\n\u001b[0m",
      "\u001b[1;31mTypeError\u001b[0m: unsupported operand type(s) for +: 'ShoppingList' and 'ShoppingList'"
     ]
    }
   ],
   "source": [
    "shoplist1 = ShoppingList()\n",
    "shoplist2 = ShoppingList()\n",
    "print(shoplist1 + shoplist2)"
   ]
  },
  {
   "cell_type": "markdown",
   "metadata": {
    "slideshow": {
     "slide_type": "subslide"
    }
   },
   "source": [
    "To us, this expression seems completely fine - adding two shopping lists should just concatenate the items one after the other. The fact that it's a very readable line of code makes it a _good_ line of code, since you have to remember that we write code for humans to read, not computers.\n",
    "\n",
    "Unfortunately, Python can't add two shopping lists because it was never taught how to do that. Luckily, we can override the behavior of the addition operator, by defining the `__add__()` method in the class definition:"
   ]
  },
  {
   "cell_type": "code",
   "execution_count": 14,
   "metadata": {
    "slideshow": {
     "slide_type": "subslide"
    }
   },
   "outputs": [],
   "source": [
    "class ShoppingList:\n",
    "    def __init__(self, vegetables=10, fruits=5, bread=1):\n",
    "        self.vegetables = vegetables\n",
    "        self.fruits = fruits\n",
    "        self.bread = bread\n",
    "    \n",
    "    def __str__(self):\n",
    "        str_to_print = \"\"\"Shopping List:\n",
    "        Vegetabels: {}\n",
    "        Fruits: {}\n",
    "        Bread: {}\n",
    "        Total items: {}\n",
    "        \"\"\".format(self.vegetables, self.fruits, self.bread,\n",
    "                   self.vegetables + self.fruits + self.bread)\n",
    "        return str_to_print\n",
    "    \n",
    "    # ----- New method below: ------\n",
    "    def __add__(self, other):\n",
    "        \"\"\" Concatenate two shopping lists \"\"\"\n",
    "        try:\n",
    "            new_list = ShoppingList(\n",
    "                vegetables=self.vegetables + other.vegetables,\n",
    "                fruits=self.fruits + other.fruits,\n",
    "                bread=self.bread + other.bread\n",
    "            )\n",
    "        except AttributeError as e:\n",
    "            print(\"AttributeError, Addition is supported only between two ShoppingLists\")\n",
    "            \n",
    "        return new_list"
   ]
  },
  {
   "cell_type": "code",
   "execution_count": 17,
   "metadata": {
    "slideshow": {
     "slide_type": "subslide"
    }
   },
   "outputs": [
    {
     "name": "stdout",
     "output_type": "stream",
     "text": [
      "Shopping List:\n",
      "        Vegetabels: 20\n",
      "        Fruits: 10\n",
      "        Bread: 2\n",
      "        Total items: 32\n",
      "        \n"
     ]
    }
   ],
   "source": [
    "# Now we can safely add two ShoppingList() instances:\n",
    "shoplist1 = ShoppingList()\n",
    "shoplist2 = ShoppingList()\n",
    "added_shoplist = shoplist1 + shoplist2\n",
    "print(added_shoplist)"
   ]
  },
  {
   "cell_type": "code",
   "execution_count": 22,
   "metadata": {
    "slideshow": {
     "slide_type": "subslide"
    }
   },
   "outputs": [
    {
     "name": "stdout",
     "output_type": "stream",
     "text": [
      "Shopping List:\n",
      "        Vegetabels: 10\n",
      "        Fruits: 5\n",
      "        Bread: 1\n",
      "        Total items: 16\n",
      "        \n"
     ]
    }
   ],
   "source": [
    "print(shoplist1)b"
   ]
  },
  {
   "cell_type": "code",
   "execution_count": 18,
   "metadata": {
    "slideshow": {
     "slide_type": "subslide"
    }
   },
   "outputs": [
    {
     "ename": "AttributeError",
     "evalue": "Addition is supported only between two ShoppingLists",
     "output_type": "error",
     "traceback": [
      "\u001b[1;31m---------------------------------------------------------------------------\u001b[0m",
      "\u001b[1;31mAttributeError\u001b[0m                            Traceback (most recent call last)",
      "\u001b[1;32m<ipython-input-14-687655a867fb>\u001b[0m in \u001b[0;36m__add__\u001b[1;34m(self, other)\u001b[0m\n\u001b[0;32m     21\u001b[0m             new_list = ShoppingList(\n\u001b[1;32m---> 22\u001b[1;33m                 \u001b[0mvegetables\u001b[0m\u001b[1;33m=\u001b[0m\u001b[0mself\u001b[0m\u001b[1;33m.\u001b[0m\u001b[0mvegetables\u001b[0m \u001b[1;33m+\u001b[0m \u001b[0mother\u001b[0m\u001b[1;33m.\u001b[0m\u001b[0mvegetables\u001b[0m\u001b[1;33m,\u001b[0m\u001b[1;33m\u001b[0m\u001b[0m\n\u001b[0m\u001b[0;32m     23\u001b[0m                 \u001b[0mfruits\u001b[0m\u001b[1;33m=\u001b[0m\u001b[0mself\u001b[0m\u001b[1;33m.\u001b[0m\u001b[0mfruits\u001b[0m \u001b[1;33m+\u001b[0m \u001b[0mother\u001b[0m\u001b[1;33m.\u001b[0m\u001b[0mfruits\u001b[0m\u001b[1;33m,\u001b[0m\u001b[1;33m\u001b[0m\u001b[0m\n",
      "\u001b[1;31mAttributeError\u001b[0m: 'int' object has no attribute 'vegetables'",
      "\nDuring handling of the above exception, another exception occurred:\n",
      "\u001b[1;31mAttributeError\u001b[0m                            Traceback (most recent call last)",
      "\u001b[1;32m<ipython-input-18-387afde38222>\u001b[0m in \u001b[0;36m<module>\u001b[1;34m()\u001b[0m\n\u001b[0;32m      1\u001b[0m \u001b[1;31m# Addition of something other than a ShoppingList will result in an AttributeError:\u001b[0m\u001b[1;33m\u001b[0m\u001b[1;33m\u001b[0m\u001b[0m\n\u001b[1;32m----> 2\u001b[1;33m \u001b[0mshoplist1\u001b[0m \u001b[1;33m+\u001b[0m \u001b[0mc\u001b[0m\u001b[1;33m\u001b[0m\u001b[0m\n\u001b[0m",
      "\u001b[1;32m<ipython-input-14-687655a867fb>\u001b[0m in \u001b[0;36m__add__\u001b[1;34m(self, other)\u001b[0m\n\u001b[0;32m     25\u001b[0m             )\n\u001b[0;32m     26\u001b[0m         \u001b[1;32mexcept\u001b[0m \u001b[0mAttributeError\u001b[0m\u001b[1;33m:\u001b[0m\u001b[1;33m\u001b[0m\u001b[0m\n\u001b[1;32m---> 27\u001b[1;33m             \u001b[1;32mraise\u001b[0m \u001b[0mAttributeError\u001b[0m\u001b[1;33m(\u001b[0m\u001b[1;34m'Addition is supported only between two ShoppingLists'\u001b[0m\u001b[1;33m)\u001b[0m\u001b[1;33m\u001b[0m\u001b[0m\n\u001b[0m\u001b[0;32m     28\u001b[0m \u001b[1;33m\u001b[0m\u001b[0m\n\u001b[0;32m     29\u001b[0m \u001b[1;33m\u001b[0m\u001b[0m\n",
      "\u001b[1;31mAttributeError\u001b[0m: Addition is supported only between two ShoppingLists"
     ]
    }
   ],
   "source": [
    "# Addition of something other than a ShoppingList will result in an AttributeError:\n",
    "shoplist1 + 1\n",
    "# It is more Pythonic to try and catch the exception than to check in advance\n",
    "# the types of all variables involved."
   ]
  },
  {
   "cell_type": "markdown",
   "metadata": {
    "slideshow": {
     "slide_type": "subslide"
    }
   },
   "source": [
    "We can overload all operators to make our classes behave as one would intuitively expect them to.\n",
    "\n",
    "We usually don't write new dunder methods. That is, Python pre-defines the relevant dunder methods for us, and we just re-use their names. Generally you shouldn't implement some random method you thought of as a dunder method."
   ]
  },
  {
   "cell_type": "markdown",
   "metadata": {
    "slideshow": {
     "slide_type": "subslide"
    }
   },
   "source": [
    "### Summary\n",
    "\n",
    "OOP is the most important programming paradigm nowadays, and you should be very familiar with it. Some problems fit this paradigm hand in glove, and the best example is GUI programming. However, it's not the \"ultimate\" answer to any design difficulty you have. Some problems _can_ be solved by using intricate objects and multiple inheritance, but in reality they're much simpler when solved using procedural design. Remember to write code that humans, and especially your future self, can read and understand.\n",
    "\n",
    "With that being said, throughout the semester I prefer you write _too many_ objects over writing _too few,_ as it indicates you feel comfortable in the object-oriented world."
   ]
  },
  {
   "cell_type": "markdown",
   "metadata": {
    "slideshow": {
     "slide_type": "slide"
    }
   },
   "source": [
    "## Two Exercises\n",
    "\n",
    "### The Fraction Class"
   ]
  },
  {
   "cell_type": "markdown",
   "metadata": {
    "slideshow": {
     "slide_type": "subslide"
    }
   },
   "source": [
    "Create a `Fraction()` class with only the basic attributes. Assume that the inputs are numbers.\n",
    "\n",
    "a. Override some operators so that you can add a Fraction to an integer (`Fraction() + int` only, not `int + Fraction()`).\n",
    "\n",
    "b. Override the operator that allows you to check which fraction is larger between the two."
   ]
  },
  {
   "cell_type": "markdown",
   "metadata": {
    "slideshow": {
     "slide_type": "subslide"
    }
   },
   "source": [
    "### The Path Class"
   ]
  },
  {
   "cell_type": "markdown",
   "metadata": {
    "slideshow": {
     "slide_type": "subslide"
    }
   },
   "source": [
    "Create a `Path()` class, symboling a directory in a mock filesystem. The class should at least one attribute and three methods, not including the mandatory `__init__` method:\n",
    "- `Path.get_parent()` - returns the name of the parent folder of our Path (not the entire path).\n",
    "- `Path.get_size()` - returns a number corresponding to the size in KB of the folder, which should depend on the number of files in the folder.\n",
    "- `Path.set_path(Path())` - Change the current directory to the one given (as a Path() instance).\n",
    "`\n",
    "\n",
    "After you've created it, overload the division operator `/` (`__truediv__`) to concatenate two a Path class instance with a string pointing to a folder, i.e.:\n",
    "```python\n",
    ">> print(Path(\"/home\") / \"/usr\")\n",
    "Path(\"/home/usr\")\n",
    "```\n",
    "_Note:_ The filesystem is a _mock_ one, meaning that it shouldn't correspond to the actual file system, but to path-like strings you invent, like the ones above.\n",
    "\n",
    "You can also assume that the string doesn't contain you own path, i.e. you don't have to deal with cases such as:\n",
    "`Path(\"/home\") / \"/home/usr\"`"
   ]
  },
  {
   "cell_type": "markdown",
   "metadata": {
    "slideshow": {
     "slide_type": "subslide"
    }
   },
   "source": [
    "### Exercises solutions follow..."
   ]
  },
  {
   "cell_type": "code",
   "execution_count": 40,
   "metadata": {
    "slideshow": {
     "slide_type": "subslide"
    }
   },
   "outputs": [],
   "source": [
    "# Exercise 1\n",
    "class Fraction:\n",
    "    \"\"\" \n",
    "    Models a fraction with a numerator and a denominator, assuming the inputs are numbers\n",
    "    Attributes:\n",
    "    num - int, float - numerator\n",
    "    denom - int, float - denomerator\n",
    "    value - num/denom\n",
    "    Methods:\n",
    "    Can be added and compared to other fractions\n",
    "    \"\"\"\n",
    "    def __init__(self, num, denom):\n",
    "        self.num = num\n",
    "        self.denom = denom\n",
    "        try:\n",
    "            self.value = self.num/self.denom\n",
    "        except ZeroDivisonError:\n",
    "            self.value = None\n",
    "    \n",
    "    def __str__(self):\n",
    "        return f\"{self.num}/{self.denom} = {self.value}\"\n",
    "    \n",
    "    def __add__(self, other):\n",
    "        \"\"\" Left-add a Fraction to an integer \"\"\"\n",
    "        return Fraction(self.num + other, self.denom)\n",
    "    def __gt__(self, other):\n",
    "        \"\"\" Left > between two fractions \"\"\"\n",
    "        try:\n",
    "            return self.value > other.value\n",
    "        except AttributeError:\n",
    "            return NotImplemented"
   ]
  },
  {
   "cell_type": "code",
   "execution_count": 51,
   "metadata": {
    "slideshow": {
     "slide_type": "subslide"
    }
   },
   "outputs": [
    {
     "name": "stdout",
     "output_type": "stream",
     "text": [
      "0.5\n",
      "1/2 = 0.5\n",
      "Is f1 bigger?\n",
      "False\n",
      "Is f1 smaller?\n",
      "True\n",
      "Are they equal?\n",
      "False\n",
      "Are they not equal?\n",
      "True\n"
     ]
    }
   ],
   "source": [
    "f1 = Fraction(1, 2)\n",
    "f2 = Fraction(3, 4)\n",
    "\n",
    "print(f1)\n",
    "\n",
    "print(f1.value)\n",
    "\n",
    "print(\"Is f1 bigger?\")\n",
    "print(f1 > f2)\n",
    "\n",
    "print(\"Is f1 smaller?\")\n",
    "print(f1 < f2)\n",
    "\n",
    "print(\"Are they equal?\")\n",
    "print(f1 == f2)\n",
    "\n",
    "print(\"Are they not equal?\")\n",
    "print(f1 != f2)\n",
    "# Damn, Python's smart."
   ]
  },
  {
   "cell_type": "code",
   "execution_count": 37,
   "metadata": {
    "slideshow": {
     "slide_type": "subslide"
    }
   },
   "outputs": [],
   "source": [
    "# Exercise 2 - the Path class\n",
    "import os\n",
    "\n",
    "\n",
    "class Path:\n",
    "    \"\"\" \n",
    "    File system path to folders, allows the use of \"/\" to move between folders\n",
    "    Attributes:\n",
    "    path - str\n",
    "    files - list of str\n",
    "    \n",
    "    Methods:\n",
    "    get_parent - returns parent folder as Path\n",
    "    get_size - returns size of current folder in KB\n",
    "    set_path(new_path) - changes current path to the .path attribute of new_path\n",
    "    \"\"\"\n",
    "    def __init__(self, path, files=['a.txt', 'b.py', 'c.c']):\n",
    "        self.path = path\n",
    "        self.files = files\n",
    "    \n",
    "    def get_parent(self):\n",
    "        \"\"\" Returns the name of the parent folder \"\"\"\n",
    "        separated_path = self.path.split(os.sep)\n",
    "        try:\n",
    "            parent = separated_path[-2]\n",
    "        except IndexError:\n",
    "            return None\n",
    "        else:\n",
    "            return separated_path[-2]\n",
    "    \n",
    "    def get_size(self):\n",
    "        \"\"\" Returns the size in KB of the folder's content \"\"\"\n",
    "        return 10 * len(self.files)\n",
    "    \n",
    "    def set_path(self, new_path):\n",
    "        \"\"\" Changes current path to new_path \"\"\"\n",
    "        try:\n",
    "            _path, _files = new_path.path, new_path.files\n",
    "        except AttributeError:\n",
    "            print(\"Input variable must be a Path-like instance\")\n",
    "            raise\n",
    "        else:  # Written like that because we're afraid that the \"new_path\" variable might have\n",
    "               # a \".path\" attribute, but not a \"files\" attribute, for example\n",
    "            self.path = _path\n",
    "            self.files = _files\n",
    "    \n",
    "    def __truediv__(self, other):\n",
    "        \"\"\" \n",
    "        Traverse the filesystem using the / sign, assuming that \n",
    "        other isn't an absolute path.\n",
    "        Returns a new instance\n",
    "        \"\"\"\n",
    "        assert type(other) in (str, int)\n",
    "        new_path = self.path + os.sep + str(other)\n",
    "        new_files = []\n",
    "        return Path(path=new_path, files=new_files)"
   ]
  },
  {
   "cell_type": "code",
   "execution_count": 38,
   "metadata": {
    "slideshow": {
     "slide_type": "subslide"
    }
   },
   "outputs": [
    {
     "name": "stdout",
     "output_type": "stream",
     "text": [
      "\\home\\usr\\python\\python36 ['ab.R, l.cpp, py.py']\n",
      "Size: 10, parent: python\n"
     ]
    }
   ],
   "source": [
    "p = Path(r'\\home\\usr\\python\\python36', files=['ab.R, l.cpp, py.py'])\n",
    "print(p.path, p.files)\n",
    "\n",
    "size = p.get_size()\n",
    "parent = p.get_parent()\n",
    "print(f\"Size: {size}, parent: {parent}\")"
   ]
  },
  {
   "cell_type": "code",
   "execution_count": 22,
   "metadata": {
    "slideshow": {
     "slide_type": "subslide"
    }
   },
   "outputs": [
    {
     "name": "stdout",
     "output_type": "stream",
     "text": [
      "\\usr\\local\\bin ['a.txt', 'b.py', 'c.c']\n"
     ]
    }
   ],
   "source": [
    "p.set_path(Path(r'\\usr\\local\\bin'))\n",
    "print(p.path, p.files)"
   ]
  },
  {
   "cell_type": "code",
   "execution_count": 39,
   "metadata": {
    "slideshow": {
     "slide_type": "subslide"
    }
   },
   "outputs": [
    {
     "name": "stdout",
     "output_type": "stream",
     "text": [
      "\\home\\usr\\python\\python36\\data\n"
     ]
    }
   ],
   "source": [
    "new_path = p / 'data'\n",
    "print(new_path.path)"
   ]
  },
  {
   "cell_type": "markdown",
   "metadata": {
    "slideshow": {
     "slide_type": "slide"
    }
   },
   "source": [
    "## Inheritance"
   ]
  },
  {
   "cell_type": "markdown",
   "metadata": {
    "slideshow": {
     "slide_type": "subslide"
    }
   },
   "source": [
    "One of the most important aspects of object-oriented programming is _inheritance_. Since we're now modeling real-life objects, we can think of the relations between these objects in our code. These relations are sometimes deemed \"interfaces\", and one of the most important interfaces is inheritance. A simple example should be quite clear:"
   ]
  },
  {
   "cell_type": "code",
   "execution_count": 24,
   "metadata": {
    "slideshow": {
     "slide_type": "subslide"
    }
   },
   "outputs": [],
   "source": [
    "# The base class\n",
    "class Person:\n",
    "    \"\"\"A base class representing the average Joe (or Jane)\"\"\"\n",
    "    def __init__(self, name='Jane', age=42, gender='F'):\n",
    "        self.name = name\n",
    "        self.age = age\n",
    "        self.gender = gender\n",
    "    \n",
    "    def is_old(self):\n",
    "        \"\"\"Ageism is wrong\"\"\"\n",
    "        return self.age > 120"
   ]
  },
  {
   "cell_type": "code",
   "execution_count": 25,
   "metadata": {
    "slideshow": {
     "slide_type": "subslide"
    }
   },
   "outputs": [
    {
     "data": {
      "text/plain": [
       "False"
      ]
     },
     "execution_count": 25,
     "metadata": {},
     "output_type": "execute_result"
    }
   ],
   "source": [
    "woman_a = Person(name='Tammy', age=40, gender='F')\n",
    "woman_a.is_old()"
   ]
  },
  {
   "cell_type": "markdown",
   "metadata": {
    "slideshow": {
     "slide_type": "subslide"
    }
   },
   "source": [
    "As you can see, we created a `Person()`, which obviously corresponds to a (simplified) real-life person.\n",
    "\n",
    "Now we'll introduce inheritance, by creating a new class that inherits from `Person()`:"
   ]
  },
  {
   "cell_type": "code",
   "execution_count": 26,
   "metadata": {
    "slideshow": {
     "slide_type": "subslide"
    }
   },
   "outputs": [],
   "source": [
    "class Student(Person):\n",
    "    def __init__(self, name='Jane', age=42, gender='F', school='Sagol', gpa=5.):\n",
    "        super().__init__(name, age, gender)  # initialize the Person, termed super(), for super-class\n",
    "        self.school = school\n",
    "        self.gpa = gpa\n",
    "        \n",
    "    def try_expel(self):\n",
    "        \"\"\"A low GPA will get you kicked\"\"\"\n",
    "        if self.gpa < 4.5:\n",
    "            self.school = None\n",
    "            return True"
   ]
  },
  {
   "cell_type": "code",
   "execution_count": 16,
   "metadata": {
    "slideshow": {
     "slide_type": "subslide"
    }
   },
   "outputs": [],
   "source": [
    "stud = Student('John', 25, 'M', 'Life Sciences', 4.2)"
   ]
  },
  {
   "cell_type": "markdown",
   "metadata": {
    "slideshow": {
     "slide_type": "subslide"
    }
   },
   "source": [
    "Which methods and attributes does our `stud` have?"
   ]
  },
  {
   "cell_type": "code",
   "execution_count": 17,
   "metadata": {
    "slideshow": {
     "slide_type": "subslide"
    }
   },
   "outputs": [
    {
     "name": "stdout",
     "output_type": "stream",
     "text": [
      "John\n",
      "4.2\n",
      "Life Sciences\n"
     ]
    }
   ],
   "source": [
    "# Methods from both the Person and the Student class, of course.\n",
    "print(stud.name)\n",
    "print(stud.gpa)\n",
    "print(stud.school)"
   ]
  },
  {
   "cell_type": "code",
   "execution_count": 18,
   "metadata": {
    "slideshow": {
     "slide_type": "subslide"
    }
   },
   "outputs": [
    {
     "data": {
      "text/plain": [
       "False"
      ]
     },
     "execution_count": 18,
     "metadata": {},
     "output_type": "execute_result"
    }
   ],
   "source": [
    "stud.is_old()"
   ]
  },
  {
   "cell_type": "code",
   "execution_count": 19,
   "metadata": {
    "slideshow": {
     "slide_type": "subslide"
    }
   },
   "outputs": [
    {
     "name": "stdout",
     "output_type": "stream",
     "text": [
      "None\n"
     ]
    }
   ],
   "source": [
    "stud.try_expel()\n",
    "print(stud.school)"
   ]
  },
  {
   "cell_type": "markdown",
   "metadata": {
    "slideshow": {
     "slide_type": "subslide"
    }
   },
   "source": [
    "Inheritance facilitates code re-use and simpler, clearer mental models of the problem at hand.\n",
    "\n",
    "A possible issue with inheritance is readability - finding the methods that are associated with the base class can be cumbersome. This is why usually people try to avoid more than a single layer of inheritance."
   ]
  },
  {
   "cell_type": "markdown",
   "metadata": {
    "slideshow": {
     "slide_type": "slide"
    }
   },
   "source": [
    "## Exercise\n",
    "### Smartphones"
   ]
  },
  {
   "cell_type": "markdown",
   "metadata": {
    "slideshow": {
     "slide_type": "subslide"
    }
   },
   "source": [
    "Model both a smartphone and a label-specific phone (like iPhone) by using a parent and child class. Have at least 2 methods and 2 attributes for the base class, and at least one unique method for the child class.\n",
    "\n",
    "One of the methods has to be a `call(phone)` method, designed to call from one phone to the other. When `call()`ing between iPhones, the method should use the FaceTime interface of the two iPhones. Make sure to keep a log of the calls on both phones."
   ]
  },
  {
   "cell_type": "markdown",
   "metadata": {
    "slideshow": {
     "slide_type": "subslide"
    }
   },
   "source": [
    "### Exercise solution below..."
   ]
  },
  {
   "cell_type": "code",
   "execution_count": 57,
   "metadata": {
    "slideshow": {
     "slide_type": "subslide"
    }
   },
   "outputs": [],
   "source": [
    "import time\n",
    "\n",
    "\n",
    "class Phone:\n",
    "    \"\"\" Base class for all types of mobile phones \"\"\"\n",
    "    \n",
    "    def __init__(self, name, screen_size, num_camera=2):\n",
    "        self.name = name\n",
    "        self.screen_size = screen_size\n",
    "        self.num_of_camera = num_camera\n",
    "        self.is_on = True\n",
    "        self.photos = []\n",
    "        self.calls = {}\n",
    "    \n",
    "    def switch_power(self):\n",
    "        self.is_on = False if self.is_on else True\n",
    "    \n",
    "    def take_photo(self):\n",
    "        \"\"\" Take a photo and append it to the photo album \"\"\"\n",
    "        self.photo.append([[1, 0], [0, 1]])\n",
    "    \n",
    "    def call(self, other):\n",
    "        \"\"\" Call another Phone instance \"\"\"\n",
    "        if self.is_on and other.is_on:\n",
    "            self.calls[other.name] = time.time()\n",
    "            other.calls[self.name] = time.time()\n",
    "        else:\n",
    "            print(f\"Phone {other.name} is off.\")\n",
    "            \n",
    "        return other\n",
    "\n",
    "class IPhone(Phone):\n",
    "    \"\"\" A more expensive phone, that can call other iPhones using a special call method \"\"\"\n",
    "    \n",
    "    def __init__(self, name, screen_size, num_camera, apple_id):\n",
    "        super().__init__(name, screen_size, num_camera)\n",
    "        self.apple_id = apple_id\n",
    "        self.facetime_calls = {}\n",
    "    \n",
    "    def call(self, other):\n",
    "        \"\"\" Overrides the call method from the parent class \"\"\"\n",
    "        if self.is_on and other.is_on:\n",
    "            try:\n",
    "                self.facetime_calls[other.apple_id] = time.time()\n",
    "            except AttributeError:\n",
    "                self.calls[other.name] = time.time()\n",
    "                other.calls[self.name] = time.time()\n",
    "            else:\n",
    "                other.facetime_calls[self.apple_id] = time.time()\n",
    "        else:\n",
    "            print(f\"Phone {other.name} is off.\")\n",
    "        \n",
    "        return other\n",
    "        "
   ]
  },
  {
   "cell_type": "code",
   "execution_count": 65,
   "metadata": {
    "slideshow": {
     "slide_type": "subslide"
    }
   },
   "outputs": [
    {
     "name": "stdout",
     "output_type": "stream",
     "text": [
      "Before calling, the log for regular shows: {}\n",
      "After the call, regular shows {'iphone_8': 1519839626.4894626} and the iPhone shows {'lg_v10': 1519839626.4894626}\n"
     ]
    }
   ],
   "source": [
    "regular = Phone(name='lg_v10', screen_size=6)\n",
    "iphone = IPhone(name='iphone_8', screen_size=5.5, num_camera=3, apple_id='first_iphone_8')\n",
    "iphone2 = IPhone(name='iphon_X', screen_size=6, num_camera=3, apple_id='second_iphone_X')\n",
    "\n",
    "# Call from regular phone to iPhone\n",
    "print(f\"Before calling, the log for regular shows: {regular.calls}\")\n",
    "iphone = regular.call(iphone)\n",
    "print(f\"After the call, regular shows {regular.calls} and the iPhone shows {iphone.calls}\")"
   ]
  },
  {
   "cell_type": "code",
   "execution_count": 66,
   "metadata": {
    "slideshow": {
     "slide_type": "subslide"
    }
   },
   "outputs": [
    {
     "name": "stdout",
     "output_type": "stream",
     "text": [
      "Before calling, the log for first iPhone shows: {}\n",
      "After the call, the first iPhone shows {'second_iphone_X': 1519839626.66134} and the second shows {'first_iphone_8': 1519839626.66134}\n"
     ]
    }
   ],
   "source": [
    "# Two iPhones:\n",
    "print(f\"Before calling, the log for first iPhone shows: {iphone.facetime_calls}\")\n",
    "iphone2 = iphone.call(iphone2)\n",
    "print(f\"After the call, the first iPhone shows {iphone.facetime_calls} and the second shows {iphone2.facetime_calls}\")"
   ]
  },
  {
   "cell_type": "markdown",
   "metadata": {
    "slideshow": {
     "slide_type": "subslide"
    }
   },
   "source": [
    "Object-oriented design requires you to think about the code you're about to write - how to model each object, how to deal with the interfaces between them, how to verify the types of each input, etc.\n",
    "\n",
    "Because we're trying to model a complex structures, we usually don't succeed in the first try. That's because we become smarter and understand our needs from the model better __only after we've used it.__ Premeditating and debating on the exact way through which two `Phones()` will call each other is important, but we'll usually just __refactor__ our initial model in favor of a better one after a few days of \"usage\". That's the underlying reason for \"alpha\" and \"beta\" versions of software. \n",
    "\n",
    "In short, rewriting large parts of an application you designed is expected, since it's a natural and important part of software design - a luxury other engineers rarely have."
   ]
  }
 ],
 "metadata": {
  "anaconda-cloud": {},
  "celltoolbar": "Slideshow",
  "kernelspec": {
   "display_name": "Python 3",
   "language": "python",
   "name": "python3"
  },
  "language_info": {
   "codemirror_mode": {
    "name": "ipython",
    "version": 3
   },
   "file_extension": ".py",
   "mimetype": "text/x-python",
   "name": "python",
   "nbconvert_exporter": "python",
   "pygments_lexer": "ipython3",
   "version": "3.7.1"
  }
 },
 "nbformat": 4,
 "nbformat_minor": 2
}
