{
 "cells": [
  {
   "cell_type": "markdown",
   "metadata": {
    "slideshow": {
     "slide_type": "slide"
    }
   },
   "source": [
    "# Class 3 - 18.3.19"
   ]
  },
  {
   "cell_type": "markdown",
   "metadata": {
    "slideshow": {
     "slide_type": "slide"
    }
   },
   "source": [
    "## Environments"
   ]
  },
  {
   "cell_type": "markdown",
   "metadata": {
    "slideshow": {
     "slide_type": "subslide"
    }
   },
   "source": [
    "Environments are the Pythonian solution to the \"path\" problem of MATLAB and other languages.\n",
    "\n",
    "The basic idea is that every Python project you have has an isolated environment, in which it resides. This environment contains a Python interpreter and libraries that are needed for that specific project, but aren't necessarily required by other projects. "
   ]
  },
  {
   "cell_type": "markdown",
   "metadata": {
    "slideshow": {
     "slide_type": "subslide"
    }
   },
   "source": [
    "While it might not seem _that_ important at first, when your project has multiple dependencies on other libraries, asserting compatibility between all components become tricky. This point will be much clearer as the course progresses, so in the mean time just stick with me."
   ]
  },
  {
   "cell_type": "markdown",
   "metadata": {
    "slideshow": {
     "slide_type": "subslide"
    }
   },
   "source": [
    "Your different Python environments are managed by a package manager, and the best one (as of early 2019) is `conda`, by Anaconda Inc. (previously Continuum Analytics). conda has two versions, and we'll be working with the slimmer Miniconda distribution (for Python 3.7), as explained in `PythonSetup.md`."
   ]
  },
  {
   "cell_type": "markdown",
   "metadata": {
    "slideshow": {
     "slide_type": "subslide"
    }
   },
   "source": [
    "### How to create an environment?\n",
    "\n",
    "After you've installed Miniconda and added it to your path, write in the command-line `conda create --name my_env python=3.7`. This creates a new Python interpreter named `my_env`. To make sure we're working with this specific interpreter, we have to activate the environment:\n",
    "`conda activate my_env`. If you receive a message saying that `conda` is an unrecognized command, please re-install miniconda for \"All Users\" and also check the \"Add to PATH\" checkbox, which turns red when you do.\n",
    "\n",
    "From now on, until we write `conda deactivate`, all Python-related operations will be performed with the `my_env` interpreter in mind. If we have other environments they will not be affected by any change made as long as `my_env` is active. We can also define environment variables which will obviously be specific to this environment alone."
   ]
  },
  {
   "cell_type": "markdown",
   "metadata": {
    "slideshow": {
     "slide_type": "subslide"
    }
   },
   "source": [
    "The environment manager we use is called Miniconda, and while Python comes with an environment manager of its own (`virtualenv`), `conda` is the more popular option, especially for scientific Python. `conda` manages dependencies in a more strict fashion than `pip`, and can be used to manage the dependencies of other applications. Miniconda is a \"bare-bones\" installation, so it doesn't bloat your computer with unneeded packages, allowing for manual control of each package and environment. It also serves for a better learning experience than Anaconda."
   ]
  },
  {
   "cell_type": "markdown",
   "metadata": {
    "slideshow": {
     "slide_type": "subslide"
    }
   },
   "source": [
    "For our class you should probably create one environment for the entire semester. While I can't really verify that you're indeed working with environments, I promise you that it's a very useful habit that will save you a great amount of trouble later on, probably without you even noticing it."
   ]
  },
  {
   "cell_type": "markdown",
   "metadata": {
    "slideshow": {
     "slide_type": "subslide"
    }
   },
   "source": [
    "![Summary of environments and namespaces](extra_material/envs.png)"
   ]
  },
  {
   "cell_type": "markdown",
   "metadata": {},
   "source": [
    "## Exercise"
   ]
  },
  {
   "cell_type": "markdown",
   "metadata": {},
   "source": [
    "- Create a new environment in your computer.\n",
    "- Create a new folder that will contain a mock Python project, and make this folder a version-controlled one.\n",
    "- Add a couple of `.py` files and add to them to the list of tracked files. Make sure to use the right folder structure, as outlined above.\n",
    "- In one of these `.py` files we'll try out list comprehensions:\n",
    "    - A Cartesian product is the list of all combinations of two, or more, sequences. For example, the product of `AB` and `abc` is `Aa, Ab, Ac, Ba, Bb, Bc`. \n",
    "    - Using a nested for loop, print out a list of tuples of the Cartesian product of `ABC` and `abcd`. \n",
    "    - Using list comprehension print out the exact same output.\n",
    "- Run the function that does the comprehension from a different file using `import`.\n",
    "- Install the package `pytz` using `pip` and make sure you're able to `import` it.\n",
    "- Assuming this project will contain raw `.tif` data, add a `.gitignore` file that disregards the raw data.\n",
    "- Add an MIT license to the repo, and a basic `README.md`.\n",
    "- Publish this project to your GitHub account.\n",
    "- If you already have VS Code or PyCharm on your computer, make sure you know how to link these programs to this specific environment."
   ]
  },
  {
   "cell_type": "markdown",
   "metadata": {},
   "source": [
    "### Exercise solution below..."
   ]
  },
  {
   "cell_type": "code",
   "execution_count": 1,
   "metadata": {},
   "outputs": [
    {
     "name": "stdout",
     "output_type": "stream",
     "text": [
      "For loop solution: [('A', 'a'), ('A', 'b'), ('A', 'c'), ('A', 'd'), ('B', 'a'), ('B', 'b'), ('B', 'c'), ('B', 'd'), ('C', 'a'), ('C', 'b'), ('C', 'c'), ('C', 'd')]\n",
      "Listcomp solution: [('A', 'a'), ('A', 'b'), ('A', 'c'), ('A', 'd'), ('B', 'a'), ('B', 'b'), ('B', 'c'), ('B', 'd'), ('C', 'a'), ('C', 'b'), ('C', 'c'), ('C', 'd')]\n"
     ]
    }
   ],
   "source": [
    "seq1 = 'ABC'\n",
    "seq2 = 'abcd'\n",
    "\n",
    "# For loops\n",
    "result = []\n",
    "for char1 in seq1:\n",
    "    for char2 in seq2:\n",
    "        result.append((char1, char2))\n",
    "        \n",
    "print(f\"For loop solution: {result}\")\n",
    "\n",
    "# List comprehension\n",
    "result2 = [(char1, char2) for char1 in seq1 for char2 in seq2]\n",
    "print(f\"Listcomp solution: {result2}\")"
   ]
  },
  {
   "cell_type": "markdown",
   "metadata": {
    "slideshow": {
     "slide_type": "slide"
    }
   },
   "source": [
    "# Object-Oriented Programming"
   ]
  },
  {
   "cell_type": "markdown",
   "metadata": {
    "slideshow": {
     "slide_type": "slide"
    }
   },
   "source": [
    "## Introduction"
   ]
  },
  {
   "cell_type": "markdown",
   "metadata": {
    "slideshow": {
     "slide_type": "subslide"
    }
   },
   "source": [
    "There are three main programming paradigms in use in mainstream programming languages:\n",
    "* Functional\n",
    "* Procedural\n",
    "* Object-oriented\n",
    "\n",
    "While a _functional_ paradigm is very interesting, we'll not be discussing it in this course. You can read about Haskell, OCaml, F# and other functional programming languages wherever you get your information from."
   ]
  },
  {
   "cell_type": "markdown",
   "metadata": {
    "slideshow": {
     "slide_type": "subslide"
    }
   },
   "source": [
    "The _procedural_ paradigm is the most widely used paradigm... in the academia. And it's probably the one you're most familiar with from your work in Matlab. \n",
    "\n",
    "Confusingly, this paradigm is based around _functions_ (procedures):"
   ]
  },
  {
   "cell_type": "code",
   "execution_count": 2,
   "metadata": {
    "slideshow": {
     "slide_type": "subslide"
    }
   },
   "outputs": [
    {
     "data": {
      "text/plain": [
       "[4, 10, 18]"
      ]
     },
     "execution_count": 2,
     "metadata": {},
     "output_type": "execute_result"
    }
   ],
   "source": [
    "# We could write:\n",
    "l1 = [1, 2, 3]\n",
    "l2 = [4, 5, 6]\n",
    "result = []\n",
    "for item1, item2 in zip(l1, l2):\n",
    "    result.append(item1 * item2)\n",
    "result"
   ]
  },
  {
   "cell_type": "code",
   "execution_count": 3,
   "metadata": {
    "slideshow": {
     "slide_type": "subslide"
    }
   },
   "outputs": [
    {
     "data": {
      "text/plain": [
       "[400, 1000, 1800]"
      ]
     },
     "execution_count": 3,
     "metadata": {},
     "output_type": "execute_result"
    }
   ],
   "source": [
    "# And when we have more lists to multiply we'll again write:\n",
    "l3 = [10, 20, 30]\n",
    "l4 = [40, 50, 60]\n",
    "result2 = []\n",
    "for item3, item4 in zip(l3, l4):\n",
    "    result2.append(item3 * item4)\n",
    "result2"
   ]
  },
  {
   "cell_type": "markdown",
   "metadata": {
    "slideshow": {
     "slide_type": "subslide"
    }
   },
   "source": [
    "But we're seeing a pattern here. The important DRY principle requires \"Don't Repeat Yourself\", so we define a function to replace these two implementations:"
   ]
  },
  {
   "cell_type": "code",
   "execution_count": 4,
   "metadata": {
    "slideshow": {
     "slide_type": "subslide"
    }
   },
   "outputs": [],
   "source": [
    "def list_multiplier(l1, l2):\n",
    "    \"\"\"\n",
    "    Multiply two lists element-wise.\n",
    "    Returns a list with the result\n",
    "    \"\"\"\n",
    "    result = []\n",
    "    for item1, item2 in zip(l1, l2):\n",
    "        result.append(item1 * item2)\n",
    "    \n",
    "    return result"
   ]
  },
  {
   "cell_type": "markdown",
   "metadata": {
    "slideshow": {
     "slide_type": "subslide"
    }
   },
   "source": [
    "This new _procedure_ does one thing, and one thing only. This is what's so powerful about it.\n",
    "\n",
    "Procedural programming allows us to group and order our code base into small units, called functions or _procedures_, that have a specific, defined task.\n",
    "\n",
    "It usually contains a \"wrapper\" script that defines the order of running for these functions:\n",
    "```python\n",
    "# my_wrapper_script.py\n",
    "def run_pipeline(foldername):\n",
    "    \"\"\" Main data pipeline script \"\"\"\n",
    "    data = get_user_input(foldername)\n",
    "    data_without_fieldnames = extract_fieldnames(data)\n",
    "    columnar_data = generate_columns(data_without_fieldnames, num_of_columns)\n",
    "    # ...\n",
    "    # At the end of the file it will contain:\n",
    "if __name__ == '__main__':\n",
    "    foldername = r'/path/to/folder'  # raw string\n",
    "    result = run_pipeline(foldername)\n",
    "    print(result)\n",
    "```"
   ]
  },
  {
   "cell_type": "markdown",
   "metadata": {
    "slideshow": {
     "slide_type": "subslide"
    }
   },
   "source": [
    "You should be extremely decisive and eliminate repeating code. It's perhaps the most common source for errors in scientific computing, and it may bite you any of these ways:\n",
    "\n",
    "- Encapsulation:\n",
    "```python\n",
    "# String concatenation\n",
    "first_string = 'abcd'\n",
    "second_string = 'efgh'\n",
    "concat = first_string + second_string[:-1] + 'zzz'  # you suddenly remember that you wish to exclude \n",
    "# the last character in \"second_string\" and add the 'zzz' sequence at the end.\n",
    "# Program continues...\n",
    "# ...\n",
    "third_string = 'poiu'\n",
    "fourth_string = 'qwer'\n",
    "concat2 = third_string + fourth_string + 'zzz' # you wish to achieve the same goal in this \n",
    "# concatenation - but you forgot that you excluded the last character of the second string.\n",
    "```\n",
    "    The moment you realized that you have a recurring operation on strings - you have to encapsulate it in a function - be _ruthless!_"
   ]
  },
  {
   "cell_type": "markdown",
   "metadata": {
    "slideshow": {
     "slide_type": "subslide"
    }
   },
   "source": [
    "- Parametrization\n",
    "\n",
    "```python\n",
    "def process_data(data):\n",
    "    scaled_data = data * 0.3  #  what is 0.3 exactly? Parametrize it.\n",
    "    \n",
    "def process_data(data, na_concentration=0.3):\n",
    "    scaled_data = data * na_concentration\n",
    "\n",
    "```\n",
    "\n",
    "But this is usually not enough. When calling the `process_data` parameterize the `na_concentration` variable as well:\n",
    "\n",
    "```python\n",
    "data = b * c - 1 + a\n",
    "process_data(data, 0.4)\n",
    "# Script continues...\n",
    "process_data(data2, 0.5)  # Perhaps you really did wish to call \"process_data\" with two different\n",
    "# parameters, but it's more likely that you decided that 0.5 was too high, so you changed it to 0.4\n",
    "# in the first call, but forgot that you had a second call. This parameter should appear somewhere at\n",
    "# the top of your script.\n",
    "```"
   ]
  },
  {
   "cell_type": "markdown",
   "metadata": {
    "slideshow": {
     "slide_type": "slide"
    }
   },
   "source": [
    "## Alternatives"
   ]
  },
  {
   "cell_type": "markdown",
   "metadata": {
    "slideshow": {
     "slide_type": "subslide"
    }
   },
   "source": [
    "While procedural programming works great most of the time, it can sometime be inferior to other paradigms, namely _object-oriented programming._\n",
    "\n",
    "But what do I mean by _inferior_? Obviously, all programs can be written successfully without leaving the safe confines of procedural programming.\n",
    "\n",
    "While this statement holds true, sometimes our _mental model_ of the task at hand fits an object-oriented paradigm more naturally."
   ]
  },
  {
   "cell_type": "markdown",
   "metadata": {
    "slideshow": {
     "slide_type": "slide"
    }
   },
   "source": [
    "### Classes and Objects"
   ]
  },
  {
   "cell_type": "markdown",
   "metadata": {
    "slideshow": {
     "slide_type": "subslide"
    }
   },
   "source": [
    "Classes are used-defined types. Just like `str`, `dict`, `tuple` and the rest of the standard types, Python allows us to create our own types.\n",
    "\n",
    "Objects are _instances_ of classes, they're an instance of a type we made. Actually, _all_ instances of _all_ types are objects in Python. It means that every variable and function in Python are, by themselves, an instance of a type. A function you make is an instance of the `function` type, for example. We'll get to this during later stages of the course."
   ]
  },
  {
   "cell_type": "markdown",
   "metadata": {
    "slideshow": {
     "slide_type": "subslide"
    }
   },
   "source": [
    "Classes are a type of abstraction we create with our code. A variable is the most simple type of abstraction - it's a _thing_ that is closely tied to a \"real value\" in a very simple relationship: My variable $x$ represnts the value $y$. \n",
    "\n",
    "Classes are more abstract - they don't relate to a specific value directly, but rather they try to convey an idea of an object."
   ]
  },
  {
   "cell_type": "markdown",
   "metadata": {
    "slideshow": {
     "slide_type": "slide"
    }
   },
   "source": [
    "### The Point Class"
   ]
  },
  {
   "cell_type": "markdown",
   "metadata": {
    "slideshow": {
     "slide_type": "subslide"
    }
   },
   "source": [
    "To show what we mean by \"our own type\", we'll define the `Point` type."
   ]
  },
  {
   "cell_type": "markdown",
   "metadata": {
    "slideshow": {
     "slide_type": "subslide"
    }
   },
   "source": [
    "What is a point? What is composed of?\n",
    "* In a 2D space it's a pair of values, $(x, y)$, specifying a location on a grid.\n",
    "* $x$ and $y$ are the coordinates of the point.\n",
    "* Points have special relations to other points and to the space they reside in.\n",
    "\n",
    "From these three simple observations, we expect our `Point` type to include both data about its coordinates, and functions, or _methods_, used to interact with the grid and\\or other points. \n",
    "\n",
    "An object usually bundles together data and methods to use the data."
   ]
  },
  {
   "cell_type": "markdown",
   "metadata": {
    "slideshow": {
     "slide_type": "subslide"
    }
   },
   "source": [
    "We wish to express these abstract ideas in our code. It might seem like a lot of code at the start (\"boilerplate\" code) - but it will be worth it - certainly for more complex classes."
   ]
  },
  {
   "cell_type": "code",
   "execution_count": 5,
   "metadata": {
    "slideshow": {
     "slide_type": "subslide"
    }
   },
   "outputs": [],
   "source": [
    "# Introducing the class keyword:\n",
    "class Point:\n",
    "    \"\"\"Represents a point in a 2D space\"\"\"\n",
    "\n",
    "# Notice the capital letter"
   ]
  },
  {
   "cell_type": "code",
   "execution_count": 6,
   "metadata": {
    "slideshow": {
     "slide_type": "subslide"
    }
   },
   "outputs": [
    {
     "data": {
      "text/plain": [
       "__main__.Point"
      ]
     },
     "execution_count": 6,
     "metadata": {},
     "output_type": "execute_result"
    }
   ],
   "source": [
    "Point\n",
    "# A new type is born in __main__"
   ]
  },
  {
   "cell_type": "code",
   "execution_count": 7,
   "metadata": {
    "slideshow": {
     "slide_type": "subslide"
    }
   },
   "outputs": [
    {
     "data": {
      "text/plain": [
       "<__main__.Point at 0x7f007c5c8160>"
      ]
     },
     "execution_count": 7,
     "metadata": {},
     "output_type": "execute_result"
    }
   ],
   "source": [
    "# The name Point is now a factory to create new Points.\n",
    "# To make one, we have to call it like we do with a function:\n",
    "blank = Point()\n",
    "blank\n",
    "# We call this *instantiation*, as blank is an instance of Point"
   ]
  },
  {
   "cell_type": "code",
   "execution_count": 8,
   "metadata": {
    "slideshow": {
     "slide_type": "subslide"
    }
   },
   "outputs": [],
   "source": [
    "# Assign the point's data in the form of coordinates\n",
    "blank.x = 1.0\n",
    "blank.y = 0.0"
   ]
  },
  {
   "cell_type": "code",
   "execution_count": 9,
   "metadata": {
    "slideshow": {
     "slide_type": "subslide"
    }
   },
   "outputs": [
    {
     "data": {
      "text/plain": [
       "1.0"
      ]
     },
     "execution_count": 9,
     "metadata": {},
     "output_type": "execute_result"
    }
   ],
   "source": [
    "# x and y are now attributes of our class:\n",
    "blank.x"
   ]
  },
  {
   "cell_type": "markdown",
   "metadata": {
    "slideshow": {
     "slide_type": "subslide"
    }
   },
   "source": [
    "The notation `.x` means \"go the instance `blank` of the class `Point` and find the value `x` refers to.\"\n",
    "\n",
    "There's no conflict between a variable named `x` and the attribute `x`.\n",
    "\n",
    "The attribute can be used anywhere:"
   ]
  },
  {
   "cell_type": "code",
   "execution_count": 10,
   "metadata": {
    "slideshow": {
     "slide_type": "subslide"
    }
   },
   "outputs": [
    {
     "name": "stdout",
     "output_type": "stream",
     "text": [
      "2.0\n"
     ]
    }
   ],
   "source": [
    "# Simple statements\n",
    "print(1 + blank.x)"
   ]
  },
  {
   "cell_type": "code",
   "execution_count": 11,
   "metadata": {
    "slideshow": {
     "slide_type": "subslide"
    }
   },
   "outputs": [
    {
     "data": {
      "text/plain": [
       "'A case of a pointy Point at (1.0, 0.0)'"
      ]
     },
     "execution_count": 11,
     "metadata": {},
     "output_type": "execute_result"
    }
   ],
   "source": [
    "# Printouts\n",
    "f\"A case of a pointy Point at {(blank.x, blank.y)}\""
   ]
  },
  {
   "cell_type": "code",
   "execution_count": 34,
   "metadata": {
    "slideshow": {
     "slide_type": "subslide"
    }
   },
   "outputs": [],
   "source": [
    "# Arguments to functions\n",
    "def print_point(p):\n",
    "    \"\"\"Print a Point object\"\"\"\n",
    "    print(f\"{p.x, p.y}\")\n"
   ]
  },
  {
   "cell_type": "code",
   "execution_count": 35,
   "metadata": {
    "slideshow": {
     "slide_type": "subslide"
    }
   },
   "outputs": [
    {
     "name": "stdout",
     "output_type": "stream",
     "text": [
      "(1.0, 0.0)\n"
     ]
    }
   ],
   "source": [
    "print_point(blank)"
   ]
  },
  {
   "cell_type": "markdown",
   "metadata": {
    "slideshow": {
     "slide_type": "subslide"
    }
   },
   "source": [
    "### Exercise:\n",
    "Write a function `distance_between_points(p1, p2)` that takes two points and returns the Cartesian distance between them."
   ]
  },
  {
   "cell_type": "markdown",
   "metadata": {
    "slideshow": {
     "slide_type": "subslide"
    }
   },
   "source": [
    "### Exercise solution below..."
   ]
  },
  {
   "cell_type": "code",
   "execution_count": 14,
   "metadata": {
    "slideshow": {
     "slide_type": "subslide"
    }
   },
   "outputs": [
    {
     "data": {
      "text/plain": [
       "1.0"
      ]
     },
     "execution_count": 14,
     "metadata": {},
     "output_type": "execute_result"
    }
   ],
   "source": [
    "import math\n",
    "\n",
    "\n",
    "def distance_between_points(p1, p2):\n",
    "    \"\"\" Calculate Cartesian distance between points \"\"\"\n",
    "    return math.sqrt((p1.x - p2.x) ** 2 + (p1.y - p2.y) ** 2)\n",
    "\n",
    "blank2 = Point()\n",
    "blank2.x = 1.0\n",
    "blank2.y = 1.0\n",
    "dist = distance_between_points(blank, blank2)\n",
    "dist"
   ]
  },
  {
   "cell_type": "markdown",
   "metadata": {
    "slideshow": {
     "slide_type": "slide"
    }
   },
   "source": [
    "### Rectangles"
   ]
  },
  {
   "cell_type": "markdown",
   "metadata": {
    "slideshow": {
     "slide_type": "subslide"
    }
   },
   "source": [
    "If we wish to model a rectangle, the first thing that should now be clear is that a rectangle is best modelled with a class (at least in Python). \n",
    "\n",
    "Deciding on the exact content of our type is sometimes not straight-forward. How would you implement a rectangle?"
   ]
  },
  {
   "cell_type": "markdown",
   "metadata": {
    "slideshow": {
     "slide_type": "subslide"
    }
   },
   "source": [
    "Modelling a rectangle can be done in the following ways:\n",
    "\n",
    "* We can decide to define it with a point and two sides.\n",
    "* We can choose the point to be a corner or its center.\n",
    "* We can also use two opposing points.\n",
    "\n",
    "Here's we'll go with the first option, with the Point being the corner."
   ]
  },
  {
   "cell_type": "code",
   "execution_count": 15,
   "metadata": {
    "slideshow": {
     "slide_type": "subslide"
    }
   },
   "outputs": [],
   "source": [
    "class Rectangle:\n",
    "    \"\"\"\n",
    "    Rectangle model\n",
    "    Attributes:\n",
    "    corner - bottom left corner, of type Point\n",
    "    height - float\n",
    "    width - float\n",
    "    \"\"\""
   ]
  },
  {
   "cell_type": "code",
   "execution_count": 16,
   "metadata": {
    "slideshow": {
     "slide_type": "subslide"
    }
   },
   "outputs": [
    {
     "data": {
      "text/plain": [
       "<__main__.Rectangle at 0x7f007c55cef0>"
      ]
     },
     "execution_count": 16,
     "metadata": {},
     "output_type": "execute_result"
    }
   ],
   "source": [
    "rect = Rectangle()\n",
    "rect.width = 100.0\n",
    "rect.height = 200.0\n",
    "rect.corner = Point()\n",
    "rect.corner.x = 0.0\n",
    "rect.corner.y = 0.0\n",
    "\n",
    "rect"
   ]
  },
  {
   "cell_type": "code",
   "execution_count": 17,
   "metadata": {
    "slideshow": {
     "slide_type": "subslide"
    }
   },
   "outputs": [],
   "source": [
    "# We can return instances of classes (just like we do with instances of dictionaries...)\n",
    "def find_center(box):\n",
    "    \"\"\" \n",
    "    Return a Point to the center of the Rectangle box\n",
    "    \"\"\"\n",
    "    p = Point()\n",
    "    p.x = box.corner.x + box.width / 2\n",
    "    p.y = box.corner.y + box.height / 2\n",
    "    return p"
   ]
  },
  {
   "cell_type": "code",
   "execution_count": 18,
   "metadata": {
    "slideshow": {
     "slide_type": "subslide"
    }
   },
   "outputs": [
    {
     "name": "stdout",
     "output_type": "stream",
     "text": [
      "(50.0, 100.0)\n"
     ]
    }
   ],
   "source": [
    "center = find_center(rect)\n",
    "print_point(center)"
   ]
  },
  {
   "cell_type": "code",
   "execution_count": 19,
   "metadata": {
    "slideshow": {
     "slide_type": "subslide"
    }
   },
   "outputs": [
    {
     "name": "stdout",
     "output_type": "stream",
     "text": [
      "0.0\n",
      "100.0\n"
     ]
    }
   ],
   "source": [
    "# Objects are mutable - we can change their attributes:\n",
    "    \n",
    "print(rect.corner.x)\n",
    "rect.corner.x += 100\n",
    "print(rect.corner.x)"
   ]
  },
  {
   "cell_type": "code",
   "execution_count": 20,
   "metadata": {
    "slideshow": {
     "slide_type": "subslide"
    }
   },
   "outputs": [],
   "source": [
    "def grow_rectangle(rect, dwidth, dheight):\n",
    "    \"\"\" Take a Rectangle instance and grow it by (dwidth, dheight) \"\"\"\n",
    "    rect.width += dwidth\n",
    "    rect.height += dheight\n",
    "    # No need to return the instance"
   ]
  },
  {
   "cell_type": "code",
   "execution_count": 21,
   "metadata": {
    "slideshow": {
     "slide_type": "subslide"
    }
   },
   "outputs": [
    {
     "data": {
      "text/plain": [
       "(100.0, 200.0)"
      ]
     },
     "execution_count": 21,
     "metadata": {},
     "output_type": "execute_result"
    }
   ],
   "source": [
    "rect.width, rect.height"
   ]
  },
  {
   "cell_type": "code",
   "execution_count": 22,
   "metadata": {
    "slideshow": {
     "slide_type": "subslide"
    }
   },
   "outputs": [
    {
     "data": {
      "text/plain": [
       "(200.0, 300.0)"
      ]
     },
     "execution_count": 22,
     "metadata": {},
     "output_type": "execute_result"
    }
   ],
   "source": [
    "grow_rectangle(rect, 100, 100)\n",
    "rect.width, rect.height"
   ]
  },
  {
   "cell_type": "markdown",
   "metadata": {
    "slideshow": {
     "slide_type": "slide"
    }
   },
   "source": [
    "### Class Methods"
   ]
  },
  {
   "cell_type": "markdown",
   "metadata": {
    "slideshow": {
     "slide_type": "subslide"
    }
   },
   "source": [
    "We really haven't done object-oriented programming yet. Our objects currently contain only *data*, in the form of their attributes.\n",
    "\n",
    "To go one step closer we must learn of _methods_."
   ]
  },
  {
   "cell_type": "markdown",
   "metadata": {
    "slideshow": {
     "slide_type": "subslide"
    }
   },
   "source": [
    "Methods are functions bound to objects, describing actions they can do, or that can be done to them. For example, a real-world car can drive. So a `Car` object should have a `drive()` method attached to it. It should also have a `park()` method, and a couple of attributes, like `number_of_wheels`, `manufacturer` and `model`."
   ]
  },
  {
   "cell_type": "markdown",
   "metadata": {
    "slideshow": {
     "slide_type": "subslide"
    }
   },
   "source": [
    "As we'll see in a second, the only differentce between methods and functions is that the former are always attached to an object, and they only make sense when attached to that specific object. A `park()` method has no meaning when we try to run it on a `Rectangle()`.\n",
    "\n",
    "We've already met many methods and used them successfully. For example, we used the `.append(item)` method of a list instance. In this case it's clear why a method is always bound to a specific class - it's irrelevant to \"append\" an item to an object which is not a list."
   ]
  },
  {
   "cell_type": "code",
   "execution_count": 23,
   "metadata": {
    "slideshow": {
     "slide_type": "subslide"
    }
   },
   "outputs": [],
   "source": [
    "# Basic example\n",
    "class LightBulb:\n",
    "    \"\"\"\n",
    "    A light bulb to shed light on us all.\n",
    "    Attributes: is_on, power\n",
    "    Methods: turn_on, turn_off\n",
    "    \"\"\"\n",
    "    # Here comes the methods definitions:\n",
    "    def turn_on(self):\n",
    "        \"\"\" Turns a light bulb on \"\"\"\n",
    "        self.is_on = True\n",
    "        print(\"Shining strong!\")\n",
    "    \n",
    "    def turn_off(self):\n",
    "        \"\"\" Turns a light bulb off \"\"\"\n",
    "        self.is_on = False\n",
    "        print(\"Good night!\")\n",
    "    "
   ]
  },
  {
   "cell_type": "markdown",
   "metadata": {},
   "source": [
    "In the example above:\n",
    "1. The Class name is CamelCase.\n",
    "2. The docstring of the entire class describes its general purpose.\n",
    "3. Methods are functions which are indented \"inside\" the class.\n",
    "4. The first argument to a method is `self`, referring to the class instance."
   ]
  },
  {
   "cell_type": "code",
   "execution_count": 24,
   "metadata": {
    "slideshow": {
     "slide_type": "subslide"
    }
   },
   "outputs": [
    {
     "name": "stdout",
     "output_type": "stream",
     "text": [
      "Shining strong!\n"
     ]
    }
   ],
   "source": [
    "bulb = LightBulb()\n",
    "bulb.is_on = False\n",
    "bulb.turn_on()"
   ]
  },
  {
   "cell_type": "code",
   "execution_count": 36,
   "metadata": {
    "slideshow": {
     "slide_type": "subslide"
    }
   },
   "outputs": [
    {
     "name": "stdout",
     "output_type": "stream",
     "text": [
      "Good night!\n"
     ]
    }
   ],
   "source": [
    "bulb.turn_off()\n",
    "# Notice how even though the method has \"self\" in its signature, we don't need to pass it in the method,\n",
    "# since it's explicitely passed."
   ]
  },
  {
   "cell_type": "code",
   "execution_count": 26,
   "metadata": {
    "slideshow": {
     "slide_type": "subslide"
    }
   },
   "outputs": [
    {
     "data": {
      "text/plain": [
       "<bound method LightBulb.turn_on of <__main__.LightBulb object at 0x7f007c5cd4e0>>"
      ]
     },
     "execution_count": 26,
     "metadata": {},
     "output_type": "execute_result"
    }
   ],
   "source": [
    "# As we see, the only thing that changed was the indentation, and the method is now \"bound\"\n",
    "bulb.turn_on"
   ]
  },
  {
   "cell_type": "markdown",
   "metadata": {
    "slideshow": {
     "slide_type": "subslide"
    }
   },
   "source": [
    "The active agents here are the _objects_, not the functions. Instead of `turn_on(bulb)` we have the bulb \"turning itself on\": `builb.turn_on()`.\n",
    "\n",
    "In general, most functions that take an instance as one of their parameters should be a candidate for becoming a method, bound to that object, since you might need it later on for other instances as well."
   ]
  },
  {
   "cell_type": "code",
   "execution_count": 69,
   "metadata": {
    "slideshow": {
     "slide_type": "subslide"
    }
   },
   "outputs": [],
   "source": [
    "# Methods can be called inside other methods:\n",
    "# I'll redefine LightBulb for the sake of completeness:\n",
    "class LightBulb:\n",
    "    \"\"\"\n",
    "    A light bulb to shed light on us all.\n",
    "    Attributes: is_on, power\n",
    "    Methods: turn_on, turn_off\n",
    "    \"\"\"\n",
    "    \n",
    "    def __init__(self, is_on):\n",
    "        self.is_on = is_on\n",
    "        \n",
    "    # Here comes the methods definitions:\n",
    "    def turn_on(self):\n",
    "        \"\"\" Turns a light bulb on \"\"\"\n",
    "        self.is_on = True\n",
    "        print(\"Shining strong!\")\n",
    "    \n",
    "    def turn_off(self):\n",
    "        \"\"\" Turns a light bulb off \"\"\"\n",
    "        self.is_on = False\n",
    "        print(\"Good night!\")\n",
    "        \n",
    "    # -----The new method:-----\n",
    "    def remove(self):\n",
    "        \"\"\" Disconnect the bulb from its socket \"\"\"\n",
    "        self.turn_off()\n",
    "        print(\"Twisting the bulb counter-clockwise\")\n"
   ]
  },
  {
   "cell_type": "code",
   "execution_count": 70,
   "metadata": {},
   "outputs": [
    {
     "data": {
      "text/plain": [
       "True"
      ]
     },
     "execution_count": 70,
     "metadata": {},
     "output_type": "execute_result"
    }
   ],
   "source": [
    "my_bulb = LightBulb(True)\n",
    "my_bulb.is_on"
   ]
  },
  {
   "cell_type": "markdown",
   "metadata": {
    "slideshow": {
     "slide_type": "subslide"
    }
   },
   "source": [
    "This `self` call is the self-reference of the object to itself. All methods and attributes must be defined with the `self` parameter as their first parameter."
   ]
  },
  {
   "cell_type": "markdown",
   "metadata": {
    "slideshow": {
     "slide_type": "slide"
    }
   },
   "source": [
    "### The `__init__` method"
   ]
  },
  {
   "cell_type": "markdown",
   "metadata": {
    "slideshow": {
     "slide_type": "subslide"
    }
   },
   "source": [
    "Classes have several special methods attached to them. While most are out the course's scope, a special method that __does__ deserve a closer look is the `__init__()` method. It has two underscores before and after its name, making it a \"dunder\" method, short for \"double underscore\".\n",
    "\n",
    "The `__init__()` methods allows us to define our class' attributes inside the class definition:"
   ]
  },
  {
   "cell_type": "code",
   "execution_count": 92,
   "metadata": {
    "slideshow": {
     "slide_type": "subslide"
    }
   },
   "outputs": [
    {
     "name": "stdout",
     "output_type": "stream",
     "text": [
      "attr3: ab\n",
      "attr2: 20\n"
     ]
    }
   ],
   "source": [
    "class NewClass:\n",
    "    def __init__(self, attr1, attr2=20, attr3='abc'):\n",
    "        self.attr1 = attr1\n",
    "        self.attr2 = attr2\n",
    "        self.attr3 = attr3\n",
    "# attr1 has no default, forcing the user to define it by him\\herself.\n",
    "\n",
    "\n",
    "# To initialize an instance of the class, we have to pass the required parameters:\n",
    "my_instance = NewClass(10, 30, 'ab')\n",
    "print(f\"attr3: {my_instance.attr3}\")\n",
    "\n",
    "# Due to default arguments, we can omit attr2 and attr3:\n",
    "my_other_instance = NewClass(30)\n",
    "print(f\"attr2: {my_other_instance.attr2}\")"
   ]
  },
  {
   "cell_type": "markdown",
   "metadata": {
    "slideshow": {
     "slide_type": "subslide"
    }
   },
   "source": [
    "Most chances are that the first method you'll write for a newly defined class is the `__init__()` method. \n",
    "\n",
    "Another interesting _dunder_ method is the `__str__()` method, which defines what the class will print when invoked using the `print(class_instance)` command. For example:"
   ]
  },
  {
   "cell_type": "code",
   "execution_count": 85,
   "metadata": {
    "slideshow": {
     "slide_type": "subslide"
    }
   },
   "outputs": [],
   "source": [
    "class ShoppingList:\n",
    "    def __init__(self, vegetables, fruits=5, bread=1):\n",
    "        self.vegetables = vegetables\n",
    "        self.fruits = fruits\n",
    "        self.bread = bread\n",
    "    \n",
    "    def __str__(self):\n",
    "        str_to_print = f\"\"\"Shopping List:\n",
    "            Vegetabels: {self.vegetables}\n",
    "            Fruits: {self.fruits}\n",
    "            Bread: {self.bread}\n",
    "            Total items: {self.vegetables + self.fruits + self.bread}\"\"\"\n",
    "        return str_to_print"
   ]
  },
  {
   "cell_type": "code",
   "execution_count": 87,
   "metadata": {},
   "outputs": [
    {
     "name": "stdout",
     "output_type": "stream",
     "text": [
      "Shopping List:\n",
      "            Vegetabels: 10\n",
      "            Fruits: 5\n",
      "            Bread: 1\n",
      "            Total items: 16\n",
      "        \n"
     ]
    }
   ],
   "source": [
    "slist = ShoppingList(10)\n",
    "print(slist)"
   ]
  },
  {
   "cell_type": "code",
   "execution_count": 93,
   "metadata": {
    "slideshow": {
     "slide_type": "subslide"
    }
   },
   "outputs": [],
   "source": [
    "shop_list = ShoppingList(5, 1, 3)\n",
    "\n",
    "# We can change the order of parameters when using keyword arguments\n",
    "shop_list2 = ShoppingList(fruits=5, bread=1, vegetables=3)"
   ]
  },
  {
   "cell_type": "code",
   "execution_count": 94,
   "metadata": {
    "slideshow": {
     "slide_type": "subslide"
    }
   },
   "outputs": [
    {
     "name": "stdout",
     "output_type": "stream",
     "text": [
      "1\n",
      "Shopping List:\n",
      "            Vegetabels: 3\n",
      "            Fruits: 5\n",
      "            Bread: 1\n",
      "            Total items: 9\n",
      "        \n"
     ]
    }
   ],
   "source": [
    "print(shop_list.fruits)\n",
    "print(shop_list2)"
   ]
  },
  {
   "cell_type": "markdown",
   "metadata": {
    "slideshow": {
     "slide_type": "subslide"
    }
   },
   "source": [
    "The `__str__()` method is very useful for debugging purposes."
   ]
  },
  {
   "cell_type": "markdown",
   "metadata": {
    "slideshow": {
     "slide_type": "slide"
    }
   },
   "source": [
    "### Operator Overloading"
   ]
  },
  {
   "cell_type": "markdown",
   "metadata": {
    "slideshow": {
     "slide_type": "subslide"
    }
   },
   "source": [
    "One of the most interesting properties of Python is operator overloading (although it's not unique to Python). It means that we can force our self-declared types (i.e. classes) to behave in a certain way with the standard mathematical operations.\n",
    "\n",
    "We'll use the ShoppingList class as an example. Say we want to __add__ two different shopping lists. Naively, we might just try the following:"
   ]
  },
  {
   "cell_type": "code",
   "execution_count": 95,
   "metadata": {
    "slideshow": {
     "slide_type": "subslide"
    }
   },
   "outputs": [
    {
     "ename": "TypeError",
     "evalue": "__init__() missing 1 required positional argument: 'vegetables'",
     "output_type": "error",
     "traceback": [
      "\u001b[0;31m---------------------------------------------------------------------------\u001b[0m",
      "\u001b[0;31mTypeError\u001b[0m                                 Traceback (most recent call last)",
      "\u001b[0;32m<ipython-input-95-1c0ae3e8adc3>\u001b[0m in \u001b[0;36m<module>\u001b[0;34m\u001b[0m\n\u001b[0;32m----> 1\u001b[0;31m \u001b[0mshoplist1\u001b[0m \u001b[0;34m=\u001b[0m \u001b[0mShoppingList\u001b[0m\u001b[0;34m(\u001b[0m\u001b[0;34m)\u001b[0m\u001b[0;34m\u001b[0m\u001b[0;34m\u001b[0m\u001b[0m\n\u001b[0m\u001b[1;32m      2\u001b[0m \u001b[0mshoplist2\u001b[0m \u001b[0;34m=\u001b[0m \u001b[0mShoppingList\u001b[0m\u001b[0;34m(\u001b[0m\u001b[0;34m)\u001b[0m\u001b[0;34m\u001b[0m\u001b[0;34m\u001b[0m\u001b[0m\n\u001b[1;32m      3\u001b[0m \u001b[0mprint\u001b[0m\u001b[0;34m(\u001b[0m\u001b[0mshoplist1\u001b[0m \u001b[0;34m+\u001b[0m \u001b[0mshoplist2\u001b[0m\u001b[0;34m)\u001b[0m\u001b[0;34m\u001b[0m\u001b[0;34m\u001b[0m\u001b[0m\n",
      "\u001b[0;31mTypeError\u001b[0m: __init__() missing 1 required positional argument: 'vegetables'"
     ]
    }
   ],
   "source": [
    "shoplist1 = ShoppingList()\n",
    "shoplist2 = ShoppingList()\n",
    "print(shoplist1 + shoplist2)"
   ]
  },
  {
   "cell_type": "markdown",
   "metadata": {
    "slideshow": {
     "slide_type": "subslide"
    }
   },
   "source": [
    "To us, this expression seems completely fine - adding two shopping lists should just concatenate the items one after the other. The fact that it's a very readable line of code makes it a _good_ line of code, since you have to remember that we write code for humans to read, not computers.\n",
    "\n",
    "Unfortunately, Python can't add two shopping lists because it was never taught how to do that. Luckily, we can override the behavior of the addition operator, by defining the `__add__()` method in the class definition:"
   ]
  },
  {
   "cell_type": "code",
   "execution_count": 41,
   "metadata": {
    "slideshow": {
     "slide_type": "subslide"
    }
   },
   "outputs": [],
   "source": [
    "class ShoppingList:\n",
    "    ''' Shopping list class\n",
    "    Attributes:\n",
    "    vegeteb\n",
    "    \n",
    "    '''\n",
    "    def __init__(self, vegetables=10, fruits=5, bread=1):\n",
    "        self.vegetables = vegetables\n",
    "        self.fruits = fruits\n",
    "        self.bread = bread\n",
    "    \n",
    "    def __str__(self):\n",
    "        str_to_print = f\"\"\"Shopping List:\n",
    "        Vegetabels: {self.vegetables}\n",
    "        Fruits: {self.fruits}\n",
    "        Bread: {self.bread}\n",
    "        Total items: {self.vegetables + self.fruits + self.bread}\"\"\"\n",
    "        return str_to_print\n",
    "    \n",
    "    # ----- New method below: ------\n",
    "    def __add__(self, other):\n",
    "        \"\"\" Add together two shopping lists \"\"\"\n",
    "        new_list = ShoppingList(\n",
    "            vegetables=self.vegetables + other.vegetables,\n",
    "            fruits=self.fruits + other.fruits,\n",
    "            bread=self.bread + other.bread\n",
    "        )\n",
    "        return new_list"
   ]
  },
  {
   "cell_type": "code",
   "execution_count": 42,
   "metadata": {
    "slideshow": {
     "slide_type": "subslide"
    }
   },
   "outputs": [
    {
     "name": "stdout",
     "output_type": "stream",
     "text": [
      "Shopping List:\n",
      "        Vegetabels: 20\n",
      "        Fruits: 10\n",
      "        Bread: 2\n",
      "        Total items: 32\n",
      "        \n"
     ]
    }
   ],
   "source": [
    "# Now we can safely add two ShoppingList() instances:\n",
    "shoplist1 = ShoppingList()\n",
    "shoplist2 = ShoppingList()\n",
    "added_shoplist = shoplist1 + shoplist2\n",
    "print(added_shoplist)"
   ]
  },
  {
   "cell_type": "code",
   "execution_count": 44,
   "metadata": {
    "slideshow": {
     "slide_type": "subslide"
    }
   },
   "outputs": [
    {
     "name": "stdout",
     "output_type": "stream",
     "text": [
      "Shopping List:\n",
      "        Vegetabels: 10\n",
      "        Fruits: 5\n",
      "        Bread: 1\n",
      "        Total items: 16\n",
      "        \n"
     ]
    }
   ],
   "source": [
    "print(shoplist1)"
   ]
  },
  {
   "cell_type": "code",
   "execution_count": 46,
   "metadata": {
    "slideshow": {
     "slide_type": "subslide"
    }
   },
   "outputs": [
    {
     "ename": "AttributeError",
     "evalue": "'int' object has no attribute 'vegetables'",
     "output_type": "error",
     "traceback": [
      "\u001b[0;31m---------------------------------------------------------------------------\u001b[0m",
      "\u001b[0;31mAttributeError\u001b[0m                            Traceback (most recent call last)",
      "\u001b[0;32m<ipython-input-46-68319b14a60e>\u001b[0m in \u001b[0;36m<module>\u001b[0;34m\u001b[0m\n\u001b[1;32m      1\u001b[0m \u001b[0;31m# Addition of something other than a ShoppingList will result in an AttributeError:\u001b[0m\u001b[0;34m\u001b[0m\u001b[0;34m\u001b[0m\u001b[0;34m\u001b[0m\u001b[0m\n\u001b[0;32m----> 2\u001b[0;31m \u001b[0mshoplist1\u001b[0m \u001b[0;34m+\u001b[0m \u001b[0;36m1\u001b[0m\u001b[0;34m\u001b[0m\u001b[0;34m\u001b[0m\u001b[0m\n\u001b[0m",
      "\u001b[0;32m<ipython-input-41-33f02bb11941>\u001b[0m in \u001b[0;36m__add__\u001b[0;34m(self, other)\u001b[0m\n\u001b[1;32m     19\u001b[0m         \u001b[0;34m\"\"\" Concatenate two shopping lists \"\"\"\u001b[0m\u001b[0;34m\u001b[0m\u001b[0;34m\u001b[0m\u001b[0m\n\u001b[1;32m     20\u001b[0m         new_list = ShoppingList(\n\u001b[0;32m---> 21\u001b[0;31m             \u001b[0mvegetables\u001b[0m\u001b[0;34m=\u001b[0m\u001b[0mself\u001b[0m\u001b[0;34m.\u001b[0m\u001b[0mvegetables\u001b[0m \u001b[0;34m+\u001b[0m \u001b[0mother\u001b[0m\u001b[0;34m.\u001b[0m\u001b[0mvegetables\u001b[0m\u001b[0;34m,\u001b[0m\u001b[0;34m\u001b[0m\u001b[0;34m\u001b[0m\u001b[0m\n\u001b[0m\u001b[1;32m     22\u001b[0m             \u001b[0mfruits\u001b[0m\u001b[0;34m=\u001b[0m\u001b[0mself\u001b[0m\u001b[0;34m.\u001b[0m\u001b[0mfruits\u001b[0m \u001b[0;34m+\u001b[0m \u001b[0mother\u001b[0m\u001b[0;34m.\u001b[0m\u001b[0mfruits\u001b[0m\u001b[0;34m,\u001b[0m\u001b[0;34m\u001b[0m\u001b[0;34m\u001b[0m\u001b[0m\n\u001b[1;32m     23\u001b[0m             \u001b[0mbread\u001b[0m\u001b[0;34m=\u001b[0m\u001b[0mself\u001b[0m\u001b[0;34m.\u001b[0m\u001b[0mbread\u001b[0m \u001b[0;34m+\u001b[0m \u001b[0mother\u001b[0m\u001b[0;34m.\u001b[0m\u001b[0mbread\u001b[0m\u001b[0;34m\u001b[0m\u001b[0;34m\u001b[0m\u001b[0m\n",
      "\u001b[0;31mAttributeError\u001b[0m: 'int' object has no attribute 'vegetables'"
     ]
    }
   ],
   "source": [
    "# Addition of something other than a ShoppingList will result in an AttributeError:\n",
    "shoplist1 + 1\n",
    "\n",
    "# We could write an \"if\" in the __add__() method that checks if 'other' is an integer, \n",
    "# and if so just adds that integer number to all items in the shopping list"
   ]
  },
  {
   "cell_type": "markdown",
   "metadata": {
    "slideshow": {
     "slide_type": "subslide"
    }
   },
   "source": [
    "We can overload all operators to make our classes behave as one would intuitively expect them to.\n",
    "\n",
    "We usually don't write new dunder methods. That is, Python pre-defines the relevant dunder methods for us, and we just re-use their names. Generally you shouldn't implement some random method you thought of as a dunder method."
   ]
  },
  {
   "cell_type": "markdown",
   "metadata": {
    "slideshow": {
     "slide_type": "subslide"
    }
   },
   "source": [
    "### Summary\n",
    "\n",
    "OOP is the most important programming paradigm nowadays, and you should be very familiar with it. Some problems fit this paradigm hand in glove, and the best example is GUI programming. However, it's not the \"ultimate\" answer to any design difficulty you have. Some problems _can_ be solved by using intricate objects and multiple inheritance, but in reality they're much simpler when solved using procedural design. Remember to write code that humans, and especially your future self, can read and understand.\n",
    "\n",
    "With that being said, throughout the semester I prefer you write _too many_ objects over writing _too few,_ as it indicates you feel comfortable in the object-oriented world."
   ]
  },
  {
   "cell_type": "markdown",
   "metadata": {
    "slideshow": {
     "slide_type": "slide"
    }
   },
   "source": [
    "## Two Exercises\n",
    "\n",
    "### The Fraction Class"
   ]
  },
  {
   "cell_type": "markdown",
   "metadata": {
    "slideshow": {
     "slide_type": "subslide"
    }
   },
   "source": [
    "Create a `Fraction()` class with only the basic attributes. Assume that the inputs are numbers.\n",
    "\n",
    "a. Override some operators so that you can add a Fraction to an integer (`Fraction() + int` only, not `int + Fraction()`).\n",
    "\n",
    "b. Override the operator that allows you to check which fraction is larger between the two."
   ]
  },
  {
   "cell_type": "markdown",
   "metadata": {
    "slideshow": {
     "slide_type": "subslide"
    }
   },
   "source": [
    "### The Path Class"
   ]
  },
  {
   "cell_type": "markdown",
   "metadata": {
    "slideshow": {
     "slide_type": "subslide"
    }
   },
   "source": [
    "Create a `Path()` class, symboling a directory in a mock filesystem. The class should at least one attribute, named `files`, containing the list of files in the folder, and three methods, not including the mandatory `__init__` method:\n",
    "- `Path.get_parent()` - returns the name of the parent folder of our Path (not the entire path). The \n",
    "- `Path.get_size()` - returns a number corresponding to the size in KB of the folder, which should depend on the number of files in the folder.\n",
    "- `Path.set_path(Path())` - Change the current directory to the one given (as a Path() instance).\n",
    "`\n",
    "\n",
    "After you've created it, overload the division operator `/` (`__truediv__`) to concatenate a Path class instance with a string pointing to a folder, i.e.:\n",
    "```python\n",
    ">> print(Path(\"/home\") / \"/usr\")\n",
    "Path(\"/home/usr\")\n",
    "```\n",
    "_Note:_ The filesystem is a _mock_ one, meaning that it shouldn't correspond to the actual file system, but to path-like strings you invent, like the ones above.\n",
    "\n",
    "You can also assume that the string doesn't contain you own path, i.e. you don't have to deal with cases such as:\n",
    "`Path(\"/home\") / \"/home/usr\"`"
   ]
  },
  {
   "cell_type": "markdown",
   "metadata": {
    "slideshow": {
     "slide_type": "subslide"
    }
   },
   "source": [
    "### Exercises solutions follow..."
   ]
  },
  {
   "cell_type": "code",
   "execution_count": 4,
   "metadata": {
    "slideshow": {
     "slide_type": "subslide"
    }
   },
   "outputs": [],
   "source": [
    "# Exercise 1\n",
    "class Fraction:\n",
    "    \"\"\" \n",
    "    Models a fraction with a numerator and a denominator, assuming the inputs are numbers\n",
    "    Attributes:\n",
    "    num - int, float - numerator\n",
    "    denom - int, float - denomerator\n",
    "    value - num/denom\n",
    "    Methods:\n",
    "    Can be added and compared to other fractions\n",
    "    \"\"\"\n",
    "    def __init__(self, num, denom):\n",
    "        self.num = num\n",
    "        self.denom = denom\n",
    "        if self.denom == 0:\n",
    "            self.value = None\n",
    "        else:\n",
    "            self.value = num / denom\n",
    "    \n",
    "    def __str__(self):\n",
    "        return f\"{self.num}/{self.denom} (= {self.value})\"\n",
    "    \n",
    "    def __add__(self, other):\n",
    "        \"\"\" Left-add a Fraction to an integer \"\"\"\n",
    "        if isinstance(other, int):\n",
    "            num_of_int = self.denom * other\n",
    "            return Fraction(self.num + num_of_int, self.denom)\n",
    "    \n",
    "    def __gt__(self, other):\n",
    "        \"\"\" Left > between two fractions \"\"\"\n",
    "        if isinstance(other, Fraction):\n",
    "            return self.value > other.value\n",
    "        elif isinstance(other, int):\n",
    "            return self.value > other "
   ]
  },
  {
   "cell_type": "code",
   "execution_count": 6,
   "metadata": {
    "slideshow": {
     "slide_type": "subslide"
    }
   },
   "outputs": [
    {
     "name": "stdout",
     "output_type": "stream",
     "text": [
      "f1 = 1/2 (= 0.5)\n",
      "f2 = 3/4 (= 0.75)\n",
      "Is f1 bigger?\n",
      "False\n",
      "Is f1 smaller?\n",
      "True\n",
      "Are they equal?\n",
      "False\n",
      "Are they not equal?\n",
      "True\n"
     ]
    }
   ],
   "source": [
    "f1 = Fraction(1, 2)\n",
    "f2 = Fraction(3, 4)\n",
    "\n",
    "print(f\"f1 = {f1}\")\n",
    "print(f\"f2 = {f2}\")\n",
    "\n",
    "print(\"Is f1 bigger?\")\n",
    "print(f1 > f2)\n",
    "\n",
    "print(\"Is f1 smaller?\")\n",
    "print(f1 < f2)\n",
    "\n",
    "print(\"Are they equal?\")\n",
    "print(f1 == f2)\n",
    "\n",
    "print(\"Are they not equal?\")\n",
    "print(f1 != f2)\n",
    "# Damn, Python's smart."
   ]
  },
  {
   "cell_type": "code",
   "execution_count": 7,
   "metadata": {
    "slideshow": {
     "slide_type": "subslide"
    }
   },
   "outputs": [],
   "source": [
    "# Exercise 2 - the Path class\n",
    "import os\n",
    "\n",
    "\n",
    "class Path:\n",
    "    \"\"\" \n",
    "    File system path to folders, allows the use of \"/\" to move between folders\n",
    "    Attributes:\n",
    "    path - str\n",
    "    files - list of str\n",
    "    \n",
    "    Methods:\n",
    "    get_parent - returns parent folder as Path\n",
    "    get_size - returns size of current folder in KB\n",
    "    set_path(new_path) - changes current path to the .path attribute of new_path\n",
    "    \"\"\"\n",
    "    def __init__(self, path, files=['a.txt', 'b.py', 'c.c']):\n",
    "        self.path = path\n",
    "        self.files = files\n",
    "    \n",
    "    def get_parent(self):\n",
    "        \"\"\" Returns the name of the parent folder \"\"\"\n",
    "        separated_path = self.path.split(os.sep)\n",
    "        if len(separated_path) >= 2:\n",
    "            return separated_path[-2]\n",
    "        else:\n",
    "            return None\n",
    "    \n",
    "    def get_size(self):\n",
    "        \"\"\" Returns the size in KB of the folder's content \"\"\"\n",
    "        return 10 * len(self.files)\n",
    "    \n",
    "    def set_path(self, new_path):\n",
    "        \"\"\" Changes current path to new_path \"\"\"\n",
    "        if not isinstance(new_path, Path):\n",
    "            print(\"Input variable must be a Path-like instance\")\n",
    "            return\n",
    "        self.path = new_path.path\n",
    "        self.files = new_path.files\n",
    "    \n",
    "    def __truediv__(self, other):\n",
    "        \"\"\" \n",
    "        Traverse the filesystem using the / sign, assuming that \n",
    "        other isn't an absolute path.\n",
    "        Returns a new instance\n",
    "        \"\"\"\n",
    "        assert type(other) in (str, int)\n",
    "        new_path = self.path + os.sep + str(other)\n",
    "        new_files = []\n",
    "        return Path(path=new_path, files=new_files)"
   ]
  },
  {
   "cell_type": "code",
   "execution_count": 9,
   "metadata": {
    "slideshow": {
     "slide_type": "subslide"
    }
   },
   "outputs": [
    {
     "name": "stdout",
     "output_type": "stream",
     "text": [
      "/home/usr/python/python37 ['ab.R', 'l.cpp', 'py.py']\n",
      "Size: 30, parent: python\n"
     ]
    }
   ],
   "source": [
    "p = Path(r'/home/usr/python/python37', files=['ab.R', 'l.cpp', 'py.py'])\n",
    "print(p.path, p.files)\n",
    "\n",
    "size = p.get_size()\n",
    "parent = p.get_parent()\n",
    "print(f\"Size: {size}, parent: {parent}\")"
   ]
  },
  {
   "cell_type": "code",
   "execution_count": 11,
   "metadata": {
    "slideshow": {
     "slide_type": "subslide"
    }
   },
   "outputs": [
    {
     "name": "stdout",
     "output_type": "stream",
     "text": [
      "/usr/local/bin ['a.txt', 'b.py', 'c.c']\n"
     ]
    }
   ],
   "source": [
    "p.set_path(Path(r'/usr/local/bin'))\n",
    "print(p.path, p.files)"
   ]
  },
  {
   "cell_type": "code",
   "execution_count": 12,
   "metadata": {
    "slideshow": {
     "slide_type": "subslide"
    }
   },
   "outputs": [
    {
     "name": "stdout",
     "output_type": "stream",
     "text": [
      "/usr/local/bin/data\n"
     ]
    }
   ],
   "source": [
    "new_path = p / 'data'\n",
    "print(new_path.path)"
   ]
  }
 ],
 "metadata": {
  "anaconda-cloud": {},
  "celltoolbar": "Slideshow",
  "kernelspec": {
   "display_name": "Python 3",
   "language": "python",
   "name": "python3"
  },
  "language_info": {
   "codemirror_mode": {
    "name": "ipython",
    "version": 3
   },
   "file_extension": ".py",
   "mimetype": "text/x-python",
   "name": "python",
   "nbconvert_exporter": "python",
   "pygments_lexer": "ipython3",
   "version": "3.7.3"
  }
 },
 "nbformat": 4,
 "nbformat_minor": 2
}
